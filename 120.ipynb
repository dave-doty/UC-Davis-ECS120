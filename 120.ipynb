{
 "cells": [
  {
   "cell_type": "markdown",
   "metadata": {},
   "source": [
    "# utility functions"
   ]
  },
  {
   "cell_type": "code",
   "execution_count": 40,
   "metadata": {
    "collapsed": true
   },
   "outputs": [],
   "source": [
    "def add_reverse_edges(G):\n",
    "    \"\"\"Makes directed graph undirected by adding reverse edges.\"\"\"\n",
    "    V,E = G\n",
    "    reverse_edges = []\n",
    "    for (u,v) in E:\n",
    "        if (v,u) not in E and (v,u) not in reverse_edges:\n",
    "            reverse_edges.append((v,u))\n",
    "    return (V, E+reverse_edges)\n",
    "\n",
    "def make_undirected(G):\n",
    "    \"\"\"Makes directed graph undirected by replacing ordered edge pairs with unordered sets.\"\"\"\n",
    "    V,E = G\n",
    "    Eu = []\n",
    "    for (u,v) in E:\n",
    "        if {u,v} not in Eu:\n",
    "            Eu.append({u,v})\n",
    "    return (V, Eu)"
   ]
  },
  {
   "cell_type": "markdown",
   "metadata": {},
   "source": [
    "# path"
   ]
  },
  {
   "cell_type": "code",
   "execution_count": 41,
   "metadata": {
    "collapsed": false
   },
   "outputs": [],
   "source": [
    "import collections\n",
    "def path(G,s,t):\n",
    "    \"\"\"Check if there is a path from node s to node t in graph G.\"\"\"\n",
    "    V,E = G\n",
    "    visited = []\n",
    "    queue = collections.deque([s])\n",
    "    while queue: # |\\label{bfs:line-outer-loop}|\n",
    "        node = queue.popleft()\n",
    "        if node == t:\n",
    "            return True\n",
    "        if node not in visited:\n",
    "            visited.append(node)\n",
    "            node_neighbors = [ v for (u,v) in E if u==node ] # |\\label{bfs:line-find-neighbors}|\n",
    "            for neighbor in node_neighbors: # |\\label{bfs:line-inner-loop}|\n",
    "                if neighbor not in visited:\n",
    "                    queue.append(neighbor)\n",
    "    return False"
   ]
  },
  {
   "cell_type": "code",
   "execution_count": 42,
   "metadata": {
    "collapsed": false,
    "scrolled": true
   },
   "outputs": [
    {
     "name": "stdout",
     "output_type": "stream",
     "text": [
      "path from 4 to 1? False\n",
      "path from 1 to 4? True\n",
      "path from 4 to 1? True\n",
      "path from 1 to 4? True\n",
      "path from 4 to 7? False\n"
     ]
    }
   ],
   "source": [
    "V = [1,2,3,4,5,6,7,8]\n",
    "E = [ (1,2), (2,3), (3,4), (4,5), (6,7), (7,8), (8,6) ]\n",
    "G = (V,E)\n",
    "print \"path from {} to {}? {}\".format(4, 1, path(G, 4, 1))\n",
    "print \"path from {} to {}? {}\".format(1, 4, path(G, 1, 4))\n",
    "\n",
    "G = add_reverse_edges(G)\n",
    "print \"path from {} to {}? {}\".format(4, 1, path(G, 4, 1))\n",
    "print \"path from {} to {}? {}\".format(1, 4, path(G, 1, 4))\n",
    "print \"path from {} to {}? {}\".format(4, 7, path(G, 4, 7))"
   ]
  },
  {
   "cell_type": "markdown",
   "metadata": {},
   "source": [
    "# relatively prime"
   ]
  },
  {
   "cell_type": "code",
   "execution_count": 11,
   "metadata": {
    "collapsed": false
   },
   "outputs": [],
   "source": [
    "def gcd(x,y):\n",
    "    \"\"\"Euclid's algorithm for greatest common divisor.\"\"\"\n",
    "    while y>0:\n",
    "        x = x % y\n",
    "        x,y = y,x\n",
    "    return x\n",
    "\n",
    "def rel_prime(x,y):\n",
    "    return gcd(x,y) == 1"
   ]
  },
  {
   "cell_type": "code",
   "execution_count": 12,
   "metadata": {
    "collapsed": false
   },
   "outputs": [
    {
     "name": "stdout",
     "output_type": "stream",
     "text": [
      "12 False\n",
      "1 True\n"
     ]
    }
   ],
   "source": [
    "print gcd(24,60), rel_prime(24,60)\n",
    "print gcd(25,63), rel_prime(25,63)"
   ]
  },
  {
   "cell_type": "markdown",
   "metadata": {},
   "source": [
    "# connected"
   ]
  },
  {
   "cell_type": "code",
   "execution_count": 13,
   "metadata": {
    "collapsed": true
   },
   "outputs": [],
   "source": [
    "import itertools\n",
    "def connected(G):\n",
    "    \"\"\"Check if G is connected.\"\"\"\n",
    "    V,E = G\n",
    "    for (s,t) in itertools.combinations(V,2):\n",
    "        if not path(G,s,t):\n",
    "            return False\n",
    "    return True"
   ]
  },
  {
   "cell_type": "code",
   "execution_count": 14,
   "metadata": {
    "collapsed": false
   },
   "outputs": [
    {
     "name": "stdout",
     "output_type": "stream",
     "text": [
      "False\n",
      "True\n"
     ]
    }
   ],
   "source": [
    "V = [1,2,3,4,5,6]\n",
    "E = [ (1,2), (2,3), (3,4), (4,1), (5,6) ]\n",
    "G = (V,E)\n",
    "G = add_reverse_edges(G)\n",
    "print connected(G)\n",
    "\n",
    "V = [1,2,3,4,5,6]\n",
    "E = [ (1,2), (2,3), (3,4), (4,1), (5,6), (2,5) ]\n",
    "G = (V,E)\n",
    "G = add_reverse_edges(G)\n",
    "print connected(G)"
   ]
  },
  {
   "cell_type": "markdown",
   "metadata": {},
   "source": [
    "# Eulerian path"
   ]
  },
  {
   "cell_type": "code",
   "execution_count": 15,
   "metadata": {
    "collapsed": true
   },
   "outputs": [],
   "source": [
    "def degree(node, E):\n",
    "    \"\"\"Return degree of node.\"\"\"\n",
    "    return sum(1 for (u,v) in E if u==node)\n",
    "\n",
    "def eulerian_path(G):\n",
    "    \"\"\"Check if G has an Eulerian path.\"\"\"\n",
    "    V,E = G\n",
    "    num_deg_odd = 0\n",
    "    V_pos = [] # nodes with positive degree\n",
    "    for u in V:\n",
    "        deg = degree(u, E)\n",
    "        if deg % 2 == 1:\n",
    "            num_deg_odd += 1\n",
    "        if deg > 0:\n",
    "            V_pos.append(u)\n",
    "    if num_deg_odd not in [0,2]:\n",
    "        return False\n",
    "    G_pos = (V_pos,E)\n",
    "    return connected(G_pos)"
   ]
  },
  {
   "cell_type": "code",
   "execution_count": 16,
   "metadata": {
    "collapsed": false
   },
   "outputs": [
    {
     "name": "stdout",
     "output_type": "stream",
     "text": [
      "False\n",
      "True\n"
     ]
    }
   ],
   "source": [
    "V = [1,2,3,4,5,6]\n",
    "E = [ (1,2), (2,3), (3,4), (4,1), (5,6) ]\n",
    "G = (V,E)\n",
    "G = add_reverse_edges(G)\n",
    "print eulerian_path(G)\n",
    "\n",
    "V = [1,2,3,4,5,6]\n",
    "E = [ (1,2), (2,3), (3,4), (4,1), (5,1) ]\n",
    "G = (V,E)\n",
    "G = add_reverse_edges(G)\n",
    "print eulerian_path(G)"
   ]
  },
  {
   "cell_type": "markdown",
   "metadata": {},
   "source": [
    "# Hamiltonian path verifier"
   ]
  },
  {
   "cell_type": "code",
   "execution_count": 17,
   "metadata": {
    "collapsed": true
   },
   "outputs": [],
   "source": [
    "def ham_path_verify(G,p):\n",
    "    \"\"\"Verify that p is a Hamiltonian path in G.\"\"\"\n",
    "    V,E = G\n",
    "    # verify each pair of adjacent nodes in p shares an edge\n",
    "    for i in range(len(p) - 1):\n",
    "        if (p[i],p[i+1]) not in E:\n",
    "            return False\n",
    "    # verify p has |V| nodes\n",
    "    if len(p) != len(V):\n",
    "        return False\n",
    "    # verify p has no duplicates\n",
    "    if len(set(p)) != len(p):\n",
    "        return False\n",
    "    return True"
   ]
  },
  {
   "cell_type": "code",
   "execution_count": 18,
   "metadata": {
    "collapsed": false
   },
   "outputs": [
    {
     "name": "stdout",
     "output_type": "stream",
     "text": [
      "False\n",
      "False\n",
      "True\n"
     ]
    }
   ],
   "source": [
    "V = [1,2,3,4,5]\n",
    "E = [ (1,2), (2,4), (4,3), (3,5), (3,1)]\n",
    "G = (V,E)\n",
    "\n",
    "p_bad = [1,2,3,4,5]\n",
    "print ham_path_verify(G, p_bad)\n",
    "\n",
    "p_bad2 = [1,2,4,3,1,2,4,3,5]\n",
    "print ham_path_verify(G, p_bad2)\n",
    "\n",
    "p_good = [1,2,4,3,5]\n",
    "print ham_path_verify(G, p_good)"
   ]
  },
  {
   "cell_type": "markdown",
   "metadata": {},
   "source": [
    "# composite verifier"
   ]
  },
  {
   "cell_type": "code",
   "execution_count": 19,
   "metadata": {
    "collapsed": false
   },
   "outputs": [],
   "source": [
    "def composite_verify(n,d):\n",
    "    \"\"\"Verify that d is a nontrivial divisor of n.\"\"\"\n",
    "    if not 1 < d < n:\n",
    "        return False\n",
    "    return n % d == 0 "
   ]
  },
  {
   "cell_type": "code",
   "execution_count": 20,
   "metadata": {
    "collapsed": false
   },
   "outputs": [
    {
     "name": "stdout",
     "output_type": "stream",
     "text": [
      "True\n",
      "False\n",
      "False False False False False False False False False False False False False False False False False False False\n",
      "False True True False False True False False True False False False False False False False False False False\n"
     ]
    }
   ],
   "source": [
    "print composite_verify(15, 3)\n",
    "print composite_verify(15, 4)\n",
    "                       \n",
    "for d in range(1,20):\n",
    "    print composite_verify(17, d), \n",
    "print\n",
    "\n",
    "for d in range(1,20):\n",
    "    print composite_verify(18, d), "
   ]
  },
  {
   "cell_type": "markdown",
   "metadata": {},
   "source": [
    "# clique verifier"
   ]
  },
  {
   "cell_type": "code",
   "execution_count": 21,
   "metadata": {
    "collapsed": true
   },
   "outputs": [],
   "source": [
    "import itertools\n",
    "def clique_v(G, k, C):\n",
    "    \"\"\"Verify C is a k-clique in G.\"\"\"\n",
    "    V,E = G\n",
    "    # verify C is the correct size\n",
    "    if len(C) != k:\n",
    "        return False\n",
    "    # verify each pair of nodes in C shares an edge\n",
    "    for (u,v) in itertools.combinations(C, 2):\n",
    "        if (u,v) not in E:\n",
    "            return False\n",
    "    return True"
   ]
  },
  {
   "cell_type": "code",
   "execution_count": 22,
   "metadata": {
    "collapsed": false
   },
   "outputs": [
    {
     "name": "stdout",
     "output_type": "stream",
     "text": [
      "[1, 2, 3, 4] is a 4-clique in G? True\n",
      "[3, 4, 5] is a 4-clique in G? False\n",
      "[1, 3, 4, 5] is a 4-clique in G? False\n"
     ]
    }
   ],
   "source": [
    "V = [1,2,3,4,5,6]\n",
    "E = [(1,2), (1,3), (1,4), (2,3), (2,4), (3,4), (4,5), (5,6), (4,6)]\n",
    "G = (V,E)\n",
    "G = add_reverse_edges(G)\n",
    "\n",
    "C = [1,2,3,4]\n",
    "k = len(C)\n",
    "print '{} is a {}-clique in G? {}'.format(C, k, clique_v(G, k, C))\n",
    "\n",
    "C = [3,4,5]\n",
    "print '{} is a {}-clique in G? {}'.format(C, k, clique_v(G, k, C))\n",
    "\n",
    "C = [1,3,4,5]\n",
    "print '{} is a {}-clique in G? {}'.format(C, k, clique_v(G, k, C))"
   ]
  },
  {
   "cell_type": "markdown",
   "metadata": {},
   "source": [
    "# subset sum verifier"
   ]
  },
  {
   "cell_type": "code",
   "execution_count": 23,
   "metadata": {
    "collapsed": false
   },
   "outputs": [],
   "source": [
    "import itertools\n",
    "def subset_sum_v(C, t, S):\n",
    "    \"\"\"Verifies that S is a subcollection of C summing to t.\"\"\"\n",
    "    if sum(S) != t: # check sum\n",
    "        return False\n",
    "    C = list(C) # make copy that we can change\n",
    "    for n in S: # ensure S is a subcollection of C\n",
    "        if n not in C:\n",
    "            return False\n",
    "        C.remove(n)\n",
    "    return True"
   ]
  },
  {
   "cell_type": "code",
   "execution_count": 24,
   "metadata": {
    "collapsed": false
   },
   "outputs": [
    {
     "name": "stdout",
     "output_type": "stream",
     "text": [
      "False\n",
      "True\n"
     ]
    }
   ],
   "source": [
    "C = [1,2,3,4,5,6,7,8]\n",
    "t = 20\n",
    "S = [1,2,3,4,5,6]\n",
    "print subset_sum_v(C, t, S)\n",
    "\n",
    "C = [1,2,3,4,5,6,7,8]\n",
    "t = 20\n",
    "S = [8, 7, 5]\n",
    "print subset_sum_v(C, t, S)"
   ]
  },
  {
   "cell_type": "markdown",
   "metadata": {},
   "source": [
    "# NTM"
   ]
  },
  {
   "cell_type": "code",
   "execution_count": 25,
   "metadata": {
    "collapsed": true
   },
   "outputs": [],
   "source": [
    "import collections\n",
    "\n",
    "def next_configs(delta, config):\n",
    "    \"\"\"Apply delta to configuration (state, pos, content)\n",
    "    to get list of possible next configurations.\"\"\"\n",
    "    state, pos, content = config # give names to each part of triple\n",
    "    configs = []\n",
    "    symbol = content[pos]\n",
    "    for (new_state, new_symbol, move) in delta(state, symbol):\n",
    "        new_content = content[:pos] + new_symbol + content[pos+1:]\n",
    "        new_pos = max(0, pos + move)\n",
    "        if new_pos >= len(new_content):\n",
    "            new_content += \"-\"\n",
    "        config = (new_state, new_pos, new_content)\n",
    "        configs.append(config)\n",
    "    return configs\n",
    "\n",
    "def M(x):\n",
    "    \"\"\"An NTM that replaces its input with a\n",
    "    nondeterministically chosen string of the same length\n",
    "    accepts if it ever guessed a 1, otherwise rejects\"\"\"\n",
    "    init_config = (\"q0\", 0, x+\"_\")\n",
    "    def delta(state, symbol):\n",
    "        # if in halting state, no next configuration\n",
    "        if state in [\"qA\", \"qR\"]:\n",
    "            return []\n",
    "        if symbol == \"_\":  # if blank, halt\n",
    "            if state == \"q1\":\n",
    "                return [(\"qA\", \"_\", -1)]\n",
    "            elif state == \"q0\":\n",
    "                return [(\"qR\", \"_\", -1)]\n",
    "        else: \n",
    "            # write a 0 or 1 over the current symbol\n",
    "            # remember if a 1 is written\n",
    "            if state == \"q0\":\n",
    "                return [ (\"q0\", \"0\", 1), (\"q1\", \"1\", 1) ]\n",
    "            elif state == \"q1\":\n",
    "                return [ (\"q1\", \"0\", 1), (\"q1\", \"1\", 1) ]\n",
    "        assert False\n",
    "\n",
    "    # do breadth-first search of configuration graph\n",
    "    visited = []\n",
    "    queue = collections.deque([init_config])\n",
    "    while queue:\n",
    "        config = queue.popleft()\n",
    "        if config[0] == \"qA\":\n",
    "            return True\n",
    "        if config not in visited:\n",
    "            visited.append(config)\n",
    "            # get all possible next configurations; see below\n",
    "            neighbors = next_configs(delta, config)\n",
    "            for neighbor in neighbors:\n",
    "                if neighbor not in visited:\n",
    "                    queue.append(neighbor)\n",
    "    return False"
   ]
  },
  {
   "cell_type": "code",
   "execution_count": 26,
   "metadata": {
    "collapsed": false
   },
   "outputs": [
    {
     "data": {
      "text/plain": [
       "True"
      ]
     },
     "execution_count": 26,
     "metadata": {},
     "output_type": "execute_result"
    }
   ],
   "source": [
    "M('0101')"
   ]
  },
  {
   "cell_type": "markdown",
   "metadata": {},
   "source": [
    "# Hamiltonian path NTM"
   ]
  },
  {
   "cell_type": "code",
   "execution_count": 27,
   "metadata": {
    "collapsed": false
   },
   "outputs": [],
   "source": [
    "import random\n",
    "\n",
    "def ham_path_ntm(G):\n",
    "    \"\"\" 'NTM' (implemented via random) for deciding HamPath. \"\"\"\n",
    "    V,E = G\n",
    "    # guess a path p that visits each node exactly once\n",
    "    p = list(V)\n",
    "    random.shuffle(p)\n",
    "    # verify each pair of adjacent nodes in pi shares an edge\n",
    "    for i in range(len(p) - 1):\n",
    "        if (p[i],p[i+1]) not in E:\n",
    "            return False\n",
    "    print p, \n",
    "    return True"
   ]
  },
  {
   "cell_type": "code",
   "execution_count": 28,
   "metadata": {
    "collapsed": false
   },
   "outputs": [
    {
     "name": "stdout",
     "output_type": "stream",
     "text": [
      "False False False False False False False False False False False False False False False False False False False False False False False False False False False False False False False False False False False False False False False False False False False False False False False False False False False False False False False False False False False False False False False False False False False False False False False False False False False False False False False False False False False False False False False False False False False False False False False False False False False False False False False False False False False False False False False False False False False False False False False False False False False False False False False False False False False False False False False False False False False False False False False False False False False False False False False False False False False False False False False False False False False False False False False False False False False False False False False False False False False False False False False False False False False False False False False False False False False False False False False False False False False False False False False False False False False False False False False False False False False False False False False False False False False False False False False False False False False False False False False False False False False False False False False False False False False False False False False False False False False [1, 2, 4, 3, 5] True False False False False False False False False False False False False False False False False False False False False False False False False False False False False False False False False False False False False False False False False False False False False False False False False False False False False False False [1, 2, 4, 3, 5] True False False False False False False False False False False False False False False False False False False False False False False False False False False False False False False False False False False [1, 2, 4, 3, 5] True False False False False False False False False False False False False False False False False False False False False False False False False False False False False False False False False False False False False False False False False False False False False False False False False False False False False False False False [1, 2, 4, 3, 5] True False False False False False False False False False False False False False False False False False False False False False False False False False [1, 2, 4, 3, 5] True False False False False False False False False False False False False False False False False False False False False False False False False False False False False False False False False False False False False False False False False False False False False False False False False False False False False False False False False False False False False False False False False False False False False\n"
     ]
    }
   ],
   "source": [
    "V = [1,2,3,4,5]\n",
    "E = [ (1,2), (2,4), (4,3), (3,5), (3,1)]\n",
    "G = (V,E)\n",
    "for _ in range(500):\n",
    "    print ham_path_ntm(G), "
   ]
  },
  {
   "cell_type": "markdown",
   "metadata": {},
   "source": [
    "# general exponential-time algorithm for finding NP witnesses"
   ]
  },
  {
   "cell_type": "code",
   "execution_count": 29,
   "metadata": {
    "collapsed": true
   },
   "outputs": [],
   "source": [
    "import itertools \n",
    "\n",
    "def V_A(x,w):\n",
    "    \"\"\"Verifier for decision problem A.\"\"\"\n",
    "    raise NotImplementedError()\n",
    "\n",
    "def binary_strings_of_length(length):\n",
    "    \"\"\"A nice Python way to generate all strings of a given length.\"\"\"\n",
    "    return map(lambda lst: ''.join(lst), itertools.product(['0', '1'], repeat=length))\n",
    "\n",
    "def A_decider(x):\n",
    "    \"\"\"Exponential-time algorithm for finding witnesses.\"\"\"\n",
    "    n = len(x)\n",
    "    for m in range(n**c + 1): # check lengths m in [0,1,...,n^c]\n",
    "        for w in binary_strings_of_length(m):\n",
    "            if V_A(x,w): # assumes V_A is implemented\n",
    "                return True\n",
    "    return False"
   ]
  },
  {
   "cell_type": "markdown",
   "metadata": {},
   "source": [
    "# Hamiltonian path exponential-time deterministic algorithm"
   ]
  },
  {
   "cell_type": "code",
   "execution_count": 30,
   "metadata": {
    "collapsed": true
   },
   "outputs": [],
   "source": [
    "import itertools\n",
    "\n",
    "def ham_path_brute_force(G):\n",
    "    \"\"\"Exponential-time algorithm for finding Hamiltonian paths,\n",
    "    which calls the verifier on all potential witnesses.\"\"\"\n",
    "    V,E = G\n",
    "    for p in itertools.permutations(V):\n",
    "        if ham_path_verify(G, p):\n",
    "            return True\n",
    "    return False"
   ]
  },
  {
   "cell_type": "code",
   "execution_count": 31,
   "metadata": {
    "collapsed": false
   },
   "outputs": [
    {
     "name": "stdout",
     "output_type": "stream",
     "text": [
      "False\n",
      "True\n"
     ]
    }
   ],
   "source": [
    "V = [1,2,3,4,5,6]\n",
    "E = [ (1,2), (2,3), (3,4), (4,1), (5,6) ]\n",
    "G = (V,E)\n",
    "print ham_path_brute_force(G)\n",
    "\n",
    "V = [1,2,3,4,5,6]\n",
    "E = [ (1,2), (2,3), (3,4), (4,5), (5,6) ]\n",
    "G = (V,E)\n",
    "print ham_path_brute_force(G)"
   ]
  },
  {
   "cell_type": "markdown",
   "metadata": {},
   "source": [
    "# Boolean formulas"
   ]
  },
  {
   "cell_type": "code",
   "execution_count": 32,
   "metadata": {
    "collapsed": false
   },
   "outputs": [],
   "source": [
    "class Boolean_formula(object):\n",
    "    \"\"\"Represents a Boolean formula with AND, OR, and NOT operations.\"\"\"\n",
    "    def __init__(self, variable=None, op=None, phi=None, psi=None):\n",
    "        if not ( (variable == None and op == \"not\" and phi != None and psi == None) or \n",
    "                 (variable == None and op == \"and\" and phi != None and psi != None) or \n",
    "                 (variable == None and op == \"or\"  and phi != None and psi != None) or \n",
    "                 (variable != None and op == phi == psi == None) ):\n",
    "            raise ValueError(\"Must either set variable for base case\" +\\\n",
    "                             \"or must set op to 'not', 'and', or 'or'\" +\\\n",
    "                             \"and recursive formulas phi and psi\")\n",
    "        self.variable = variable\n",
    "        self.op = op\n",
    "        self.phi = phi\n",
    "        self.psi = psi\n",
    "        if self.variable:\n",
    "            self.variables = [variable]\n",
    "        elif op == 'not':\n",
    "            self.variables = phi.variables\n",
    "        elif op in ['and', 'or']:\n",
    "            self.variables = list(phi.variables)\n",
    "            self.variables.extend(x for x in psi.variables if x not in phi.variables)\n",
    "            self.variables.sort()\n",
    "        \n",
    "    def evaluate(self, assignment):\n",
    "        \"\"\"Value of this formula with given assignment,  a dict mapping variable names to Python booleans.\n",
    "        \n",
    "        Assignment can also be a string of bits, which will be mapped to variables in alphabetical order.\n",
    "        Boolean values are interconverted with integers to make for nicer printing \n",
    "        (0 and 1 versus True and False)\"\"\"\n",
    "        if type(assignment) is str:\n",
    "            assignment = dict(zip(self.variables, map(int, assignment)))\n",
    "        if self.op == None:\n",
    "            return assignment[self.variable]\n",
    "        elif self.op == 'not':\n",
    "            return int(not self.phi.evaluate(assignment))\n",
    "        elif self.op == 'and':\n",
    "            return int(self.phi.evaluate(assignment) and self.psi.evaluate(assignment))\n",
    "        elif self.op == 'or':\n",
    "            return int(self.phi.evaluate(assignment) or self.psi.evaluate(assignment))\n",
    "        else:\n",
    "            raise ValueError(\"This shouldn't be reachable\")"
   ]
  },
  {
   "cell_type": "code",
   "execution_count": 33,
   "metadata": {
    "collapsed": false
   },
   "outputs": [
    {
     "name": "stdout",
     "output_type": "stream",
     "text": [
      "formula value = 0 on assignment 000\n",
      "formula value = 1 on assignment 001\n",
      "formula value = 0 on assignment 010\n",
      "formula value = 0 on assignment 011\n",
      "formula value = 0 on assignment 100\n",
      "formula value = 1 on assignment 101\n",
      "formula value = 1 on assignment 110\n",
      "formula value = 1 on assignment 111\n"
     ]
    }
   ],
   "source": [
    "# verbose way to build formula (x and y) or (z and not y)\n",
    "# since I don't feel like writing a parser for Boolean formulas\n",
    "# if I want to do that in the future, go here:\n",
    "#   http://pyparsing.wikispaces.com/file/view/simpleBool.py\n",
    "x = Boolean_formula(variable=\"x\")\n",
    "y = Boolean_formula(variable=\"y\")\n",
    "z = Boolean_formula(variable=\"z\")\n",
    "x_and_y = Boolean_formula(op=\"and\", phi=x, psi=y)\n",
    "not_y = Boolean_formula(op=\"not\", phi=y)\n",
    "z_and_not_y = Boolean_formula(op=\"and\", phi=z, psi=not_y)\n",
    "formula = Boolean_formula(op=\"or\", phi=x_and_y, psi=z_and_not_y)\n",
    "\n",
    "import itertools\n",
    "num_variables = len(formula.variables)\n",
    "for assignment in itertools.product([\"0\",\"1\"], repeat=num_variables):\n",
    "    assignment = \"\".join(assignment)\n",
    "    value = formula.evaluate(assignment)\n",
    "    print \"formula value = {} on assignment {}\".format(value, assignment)"
   ]
  },
  {
   "cell_type": "markdown",
   "metadata": {},
   "source": [
    "# polynomial-time mapping reduction of Clique to Independent-Set"
   ]
  },
  {
   "cell_type": "code",
   "execution_count": 34,
   "metadata": {
    "collapsed": true
   },
   "outputs": [],
   "source": [
    "import itertools\n",
    "def reduction_from_clique_to_independent_set(G,k):\n",
    "    V,E = G\n",
    "    Ec = [ {u,v} for (u,v) in itertools.combinations(V,2) \n",
    "           if {u,v} not in E ]\n",
    "    Gc = (V,Ec)\n",
    "    return (Gc,k)"
   ]
  },
  {
   "cell_type": "code",
   "execution_count": 35,
   "metadata": {
    "collapsed": false
   },
   "outputs": [
    {
     "name": "stdout",
     "output_type": "stream",
     "text": [
      "([1, 2, 3, 4, 5, 6, 7],\n",
      " [set([1, 2]),\n",
      "  set([2, 3]),\n",
      "  set([3, 4]),\n",
      "  set([1, 5]),\n",
      "  set([5, 6]),\n",
      "  set([6, 7]),\n",
      "  set([2, 5]),\n",
      "  set([2, 6]),\n",
      "  set([3, 5]),\n",
      "  set([3, 6]),\n",
      "  set([3, 7])])\n",
      "(([1, 2, 3, 4, 5, 6, 7],\n",
      "  [set([1, 3]),\n",
      "   set([1, 4]),\n",
      "   set([1, 6]),\n",
      "   set([1, 7]),\n",
      "   set([2, 4]),\n",
      "   set([2, 7]),\n",
      "   set([4, 5]),\n",
      "   set([4, 6]),\n",
      "   set([4, 7]),\n",
      "   set([5, 7])]),\n",
      " 4)\n"
     ]
    }
   ],
   "source": [
    "from pprint import pprint\n",
    "V = [1,2,3,4,5,6,7]\n",
    "E = [ {1,2}, {2,3}, {3,4}, {1,5}, {5,6}, {6,7}, {2,5}, {2,6}, {3,5}, {3,6}, {3,7} ]\n",
    "G = (V,E)\n",
    "pprint(G)\n",
    "k = 4\n",
    "pprint(reduction_from_clique_to_independent_set(G,k))"
   ]
  },
  {
   "cell_type": "markdown",
   "metadata": {},
   "source": [
    "# using mapping reduction to show if B is in P, then A is in P"
   ]
  },
  {
   "cell_type": "code",
   "execution_count": 36,
   "metadata": {
    "collapsed": true
   },
   "outputs": [],
   "source": [
    "def f(x):\n",
    "    raise NotImplementedError()\n",
    "    # TODO: code for f, reducing A to B, goes here\n",
    "\n",
    "def M_B(y):\n",
    "    raise NotImplementedError()\n",
    "    # TODO: code for M_B, deciding B, goes here\n",
    "\n",
    "def M_A(x):\n",
    "    \"\"\"Compose reduction f from A to B, with algorithm M for B,\n",
    "    to get algorithm M_A for A.\"\"\"\n",
    "    y = f(x)\n",
    "    output = M_B(y)\n",
    "    return output"
   ]
  },
  {
   "cell_type": "markdown",
   "metadata": {},
   "source": [
    "# 3CNF formulas"
   ]
  },
  {
   "cell_type": "code",
   "execution_count": 37,
   "metadata": {
    "collapsed": true
   },
   "outputs": [],
   "source": [
    "class CNF(object):\n",
    "    \"\"\"Represents a CNF formula. Each variable is a string (e.g., \"x1\",\n",
    "    and each clause is a tuple of strings, each either a variable\n",
    "    or its negation, e.g., (\"!x1\", \"x3\", \"!x4\") \"\"\"\n",
    "    def __init__(self, clauses):\n",
    "        self.variables = extract_variables(clauses)\n",
    "        self.clauses = clauses\n",
    "        \n",
    "    def evaluate(self, assignment):\n",
    "        \"\"\"Value of this formula with given assignment, which is a dict mapping variable names \n",
    "        to Python booleans.\n",
    "        \n",
    "        Assignment can also be a string of bits, which will be mapped to variables in sorted order\n",
    "        they were specified in the constructor.\n",
    "        \n",
    "        Boolean values are interconverted with integers to make for nicer printing \n",
    "        (0 and 1 versus True and False)\"\"\"\n",
    "        if type(assignment) is str:\n",
    "            assignment = dict(zip(self.variables, map(int, assignment)))\n",
    "        return int(all( clause_evaluate(clause, assignment) for clause in self.clauses ))\n",
    "\n",
    "def extract_variables(clauses):\n",
    "    variables = set()\n",
    "    for clause in clauses:\n",
    "        for literal in clause:\n",
    "            variable = literal[1:] if literal[0] == \"!\" else literal\n",
    "            variables.add(variable)\n",
    "    return sorted(list(variables))\n",
    "    \n",
    "def clause_evaluate(clause, assignment):\n",
    "    \"\"\"Value of this clause with given assignment.\"\"\"\n",
    "    return any( literal_evaluate(literal, assignment) for literal in clause )\n",
    "\n",
    "def literal_evaluate(literal, assignment):\n",
    "    \"\"\"Value of this literal with given assignment.\"\"\"\n",
    "    if literal[0] == \"!\":\n",
    "        variable = literal[1:]\n",
    "        return not assignment[variable]\n",
    "    else:\n",
    "        variable = literal\n",
    "        return assignment[variable]"
   ]
  },
  {
   "cell_type": "code",
   "execution_count": 38,
   "metadata": {
    "collapsed": false
   },
   "outputs": [
    {
     "name": "stdout",
     "output_type": "stream",
     "text": [
      "formula value = 0 on assignment 000000\n",
      "formula value = 0 on assignment 000001\n",
      "formula value = 0 on assignment 000010\n",
      "formula value = 0 on assignment 000011\n",
      "formula value = 1 on assignment 000100\n",
      "formula value = 1 on assignment 000101\n",
      "formula value = 0 on assignment 000110\n",
      "formula value = 1 on assignment 000111\n",
      "formula value = 0 on assignment 001000\n",
      "formula value = 1 on assignment 001001\n",
      "formula value = 1 on assignment 001010\n",
      "formula value = 1 on assignment 001011\n",
      "formula value = 1 on assignment 001100\n",
      "formula value = 1 on assignment 001101\n",
      "formula value = 1 on assignment 001110\n",
      "formula value = 1 on assignment 001111\n",
      "formula value = 0 on assignment 010000\n",
      "formula value = 0 on assignment 010001\n",
      "formula value = 0 on assignment 010010\n",
      "formula value = 0 on assignment 010011\n",
      "formula value = 1 on assignment 010100\n",
      "formula value = 1 on assignment 010101\n",
      "formula value = 0 on assignment 010110\n",
      "formula value = 1 on assignment 010111\n",
      "formula value = 0 on assignment 011000\n",
      "formula value = 0 on assignment 011001\n",
      "formula value = 0 on assignment 011010\n",
      "formula value = 0 on assignment 011011\n",
      "formula value = 0 on assignment 011100\n",
      "formula value = 0 on assignment 011101\n",
      "formula value = 0 on assignment 011110\n",
      "formula value = 0 on assignment 011111\n",
      "formula value = 0 on assignment 100000\n",
      "formula value = 0 on assignment 100001\n",
      "formula value = 0 on assignment 100010\n",
      "formula value = 0 on assignment 100011\n",
      "formula value = 1 on assignment 100100\n",
      "formula value = 1 on assignment 100101\n",
      "formula value = 0 on assignment 100110\n",
      "formula value = 1 on assignment 100111\n",
      "formula value = 0 on assignment 101000\n",
      "formula value = 1 on assignment 101001\n",
      "formula value = 1 on assignment 101010\n",
      "formula value = 1 on assignment 101011\n",
      "formula value = 1 on assignment 101100\n",
      "formula value = 1 on assignment 101101\n",
      "formula value = 1 on assignment 101110\n",
      "formula value = 1 on assignment 101111\n",
      "formula value = 0 on assignment 110000\n",
      "formula value = 0 on assignment 110001\n",
      "formula value = 0 on assignment 110010\n",
      "formula value = 0 on assignment 110011\n",
      "formula value = 1 on assignment 110100\n",
      "formula value = 1 on assignment 110101\n",
      "formula value = 0 on assignment 110110\n",
      "formula value = 1 on assignment 110111\n",
      "formula value = 0 on assignment 111000\n",
      "formula value = 1 on assignment 111001\n",
      "formula value = 1 on assignment 111010\n",
      "formula value = 1 on assignment 111011\n",
      "formula value = 1 on assignment 111100\n",
      "formula value = 1 on assignment 111101\n",
      "formula value = 1 on assignment 111110\n",
      "formula value = 1 on assignment 111111\n"
     ]
    }
   ],
   "source": [
    "formula = CNF([(\"x1\", \"!x2\", \"!x3\"), (\"x3\", \"!x5\", \"x6\"), (\"x3\", \"!x6\", \"x4\"), (\"x4\", \"x5\", \"x6\")])\n",
    "import itertools\n",
    "num_variables = len(formula.variables)\n",
    "for assignment in itertools.product([\"0\",\"1\"], repeat=num_variables):\n",
    "    assignment = \"\".join(assignment)\n",
    "    value = formula.evaluate(assignment)\n",
    "    print \"formula value = {} on assignment {}\".format(value, assignment)"
   ]
  },
  {
   "cell_type": "markdown",
   "metadata": {},
   "source": [
    "# reduction of 3SAT to Clique"
   ]
  },
  {
   "cell_type": "code",
   "execution_count": 47,
   "metadata": {
    "collapsed": false
   },
   "outputs": [
    {
     "name": "stdout",
     "output_type": "stream",
     "text": [
      "([('a', 0, 'x1'),\n",
      "  ('b', 0, 'x1'),\n",
      "  ('c', 0, 'x2'),\n",
      "  ('a', 1, '!x1'),\n",
      "  ('b', 1, '!x2'),\n",
      "  ('c', 1, '!x2'),\n",
      "  ('a', 2, '!x1'),\n",
      "  ('b', 2, 'x2'),\n",
      "  ('c', 2, 'x2')],\n",
      " [set([('a', 0, 'x1'), ('b', 1, '!x2')]),\n",
      "  set([('a', 0, 'x1'), ('c', 1, '!x2')]),\n",
      "  set([('a', 0, 'x1'), ('b', 2, 'x2')]),\n",
      "  set([('a', 0, 'x1'), ('c', 2, 'x2')]),\n",
      "  set([('b', 0, 'x1'), ('b', 1, '!x2')]),\n",
      "  set([('b', 0, 'x1'), ('c', 1, '!x2')]),\n",
      "  set([('b', 0, 'x1'), ('b', 2, 'x2')]),\n",
      "  set([('b', 0, 'x1'), ('c', 2, 'x2')]),\n",
      "  set([('a', 1, '!x1'), ('c', 0, 'x2')]),\n",
      "  set([('a', 2, '!x1'), ('c', 0, 'x2')]),\n",
      "  set([('b', 2, 'x2'), ('c', 0, 'x2')]),\n",
      "  set([('c', 0, 'x2'), ('c', 2, 'x2')]),\n",
      "  set([('a', 1, '!x1'), ('a', 2, '!x1')]),\n",
      "  set([('a', 1, '!x1'), ('b', 2, 'x2')]),\n",
      "  set([('a', 1, '!x1'), ('c', 2, 'x2')]),\n",
      "  set([('a', 2, '!x1'), ('b', 1, '!x2')]),\n",
      "  set([('a', 2, '!x1'), ('c', 1, '!x2')])])\n"
     ]
    }
   ],
   "source": [
    "import itertools\n",
    "def reduce_3sat_to_clique(cnf_formula):\n",
    "    nodes_grouped = [(('a',idx,clause[0]), \n",
    "                      ('b',idx,clause[1]), \n",
    "                      ('c',idx,clause[2]))\n",
    "                     for (clause,idx) in zip(cnf_formula.clauses, itertools.count())]\n",
    "    V = [ node for node_group in nodes_grouped for node in node_group ]\n",
    "    E = []\n",
    "    for (u,v) in itertools.combinations(V,2):\n",
    "        add_edge = True\n",
    "        (_,clause_idx1,lit1),(_,clause_idx2,lit2) = u,v\n",
    "        # don't add edge if nodes are in same clause\n",
    "        for clause in cnf_formula.clauses:\n",
    "            if clause_idx1 == clause_idx2:\n",
    "                add_edge = False\n",
    "        if lit1 == \"!\"+lit2 or lit2 == \"!\"+lit1:\n",
    "            add_edge = False\n",
    "        if add_edge:\n",
    "            E.append({u,v})\n",
    "    k = len(cnf_formula.clauses)\n",
    "    return ((V,E), k)\n",
    "\n",
    "formula = CNF([(\"x1\", \"x1\", \"x2\"), (\"!x1\", \"!x2\", \"!x2\"), (\"!x1\", \"x2\", \"x2\")])\n",
    "\n",
    "from pprint import pprint\n",
    "G,k = reduce_3sat_to_clique(formula)\n",
    "pprint(G)"
   ]
  },
  {
   "cell_type": "code",
   "execution_count": 57,
   "metadata": {
    "collapsed": false
   },
   "outputs": [
    {
     "name": "stdout",
     "output_type": "stream",
     "text": [
      "is formula satisfiable? True\n",
      "is formula satisfiable? False\n"
     ]
    }
   ],
   "source": [
    "# this code shows how one would use a hypothetical algorithm for clique, \n",
    "# together with reduce_3sat_to_clique, to create an algorithm for 3SAT\n",
    "\n",
    "import itertools\n",
    "def clique(G,k):\n",
    "    \"\"\"This is an exponential-time algorithm for clique, just to \n",
    "    make the code below work properly. But if we could replace this \n",
    "    with a polynomial-time algorith, then the function three_sat\n",
    "    would also be polynomial-time.\"\"\"\n",
    "    V,E = G\n",
    "    for C in itertools.combinations(V,k):\n",
    "        is_clique = True\n",
    "        for (u,v) in itertools.combinations(C, 2):\n",
    "            if {u,v} not in E:\n",
    "                is_clique = False\n",
    "                break\n",
    "        if is_clique:\n",
    "            return True\n",
    "    return False\n",
    "    \n",
    "def three_sat(formula):\n",
    "    G,k = reduce_3sat_to_clique(formula)\n",
    "    return clique(G,k)\n",
    "\n",
    "formula = CNF([(\"x1\", \"x1\", \"x2\"), (\"!x1\", \"!x2\", \"!x2\"), (\"!x1\", \"x2\", \"x2\")])\n",
    "print \"is formula satisfiable? {}\".format(three_sat(formula))\n",
    "\n",
    "formula = CNF([(\"x1\", \"x1\", \"x2\"), (\"x1\", \"x1\", \"!x2\"), (\"!x1\", \"x2\", \"x2\"), (\"!x1\", \"!x1\", \"!x2\")])\n",
    "print \"is formula satisfiable? {}\".format(three_sat(formula))"
   ]
  },
  {
   "cell_type": "markdown",
   "metadata": {},
   "source": [
    "# enumerators"
   ]
  },
  {
   "cell_type": "code",
   "execution_count": 58,
   "metadata": {
    "collapsed": true
   },
   "outputs": [],
   "source": [
    "def is_prime(n):\n",
    "    \"\"\"Check if n is prime.\"\"\"\n",
    "    if n < 2: # 0 and 1 are not primes\n",
    "        return False\n",
    "    for x in xrange(2, int(n**0.5)+1):\n",
    "        if n % x == 0:\n",
    "            return False\n",
    "    return True\n",
    "\n",
    "import itertools\n",
    "def primes_enumerator():\n",
    "    \"\"\"Iterate over all prime numbers.\"\"\"\n",
    "    for n in itertools.count(): #iterates over all natural numbers\n",
    "        if is_prime(n):\n",
    "            yield n"
   ]
  },
  {
   "cell_type": "code",
   "execution_count": 59,
   "metadata": {
    "collapsed": false
   },
   "outputs": [
    {
     "name": "stdout",
     "output_type": "stream",
     "text": [
      "2 3 5 7 11 13 17 19 23 29 31 37 41 43 47 53 59 61 67 71 73 79 83 89 97 101 103 107 109 113 127 131 137 139 149 151 157 163 167 173 179 181 191 193 197 199 211 223 227 229 233 239 241 251 257 263 269 271 277 281 283 293 307 311 313 317 331 337 347 349 353 359 367 373 379 383 389 397 401 409 419 421 431 433 439 443 449 457 461 463 467 479 487 491 499 503 509 521 523 541\n"
     ]
    }
   ],
   "source": [
    "# print first 100 numbers returned from primes_enumerator()\n",
    "for (p, _) in zip(primes_enumerator(), range(100)):\n",
    "    print p,"
   ]
  },
  {
   "cell_type": "markdown",
   "metadata": {},
   "source": [
    "# converting enumerator to recognizer"
   ]
  },
  {
   "cell_type": "code",
   "execution_count": 62,
   "metadata": {
    "collapsed": true
   },
   "outputs": [],
   "source": [
    "def create_recognizer_from_enumerator(enumerator):\n",
    "    def recognizer(input_to_recognizer):\n",
    "        for enumerated_output in enumerator():\n",
    "            if enumerated_output == input_to_recognizer:\n",
    "                return True\n",
    "        return False  # if it has a finite language it might halt\n",
    "    return recognizer"
   ]
  },
  {
   "cell_type": "code",
   "execution_count": 63,
   "metadata": {
    "collapsed": false
   },
   "outputs": [
    {
     "name": "stdout",
     "output_type": "stream",
     "text": [
      "True\n",
      "True\n",
      "True\n",
      "True\n"
     ]
    },
    {
     "ename": "KeyboardInterrupt",
     "evalue": "",
     "output_type": "error",
     "traceback": [
      "\u001b[1;31m---------------------------------------------------------------------------\u001b[0m",
      "\u001b[1;31mKeyboardInterrupt\u001b[0m                         Traceback (most recent call last)",
      "\u001b[1;32m<ipython-input-63-a393a012c959>\u001b[0m in \u001b[0;36m<module>\u001b[1;34m()\u001b[0m\n\u001b[0;32m      4\u001b[0m \u001b[1;32mprint\u001b[0m\u001b[1;33m(\u001b[0m\u001b[0mprimes_recognizer\u001b[0m\u001b[1;33m(\u001b[0m\u001b[1;36m5\u001b[0m\u001b[1;33m)\u001b[0m\u001b[1;33m)\u001b[0m  \u001b[1;31m# prints True\u001b[0m\u001b[1;33m\u001b[0m\u001b[0m\n\u001b[0;32m      5\u001b[0m \u001b[1;32mprint\u001b[0m\u001b[1;33m(\u001b[0m\u001b[0mprimes_recognizer\u001b[0m\u001b[1;33m(\u001b[0m\u001b[1;36m7\u001b[0m\u001b[1;33m)\u001b[0m\u001b[1;33m)\u001b[0m  \u001b[1;31m# prints True\u001b[0m\u001b[1;33m\u001b[0m\u001b[0m\n\u001b[1;32m----> 6\u001b[1;33m \u001b[1;32mprint\u001b[0m\u001b[1;33m(\u001b[0m\u001b[0mprimes_recognizer\u001b[0m\u001b[1;33m(\u001b[0m\u001b[1;36m9\u001b[0m\u001b[1;33m)\u001b[0m\u001b[1;33m)\u001b[0m  \u001b[1;31m# runs forever\u001b[0m\u001b[1;33m\u001b[0m\u001b[0m\n\u001b[0m",
      "\u001b[1;32m<ipython-input-62-a63527d77ac1>\u001b[0m in \u001b[0;36mrecognizer\u001b[1;34m(input_to_recognizer)\u001b[0m\n\u001b[0;32m      1\u001b[0m \u001b[1;32mdef\u001b[0m \u001b[0mcreate_recognizer_from_enumerator\u001b[0m\u001b[1;33m(\u001b[0m\u001b[0menumerator\u001b[0m\u001b[1;33m)\u001b[0m\u001b[1;33m:\u001b[0m\u001b[1;33m\u001b[0m\u001b[0m\n\u001b[0;32m      2\u001b[0m     \u001b[1;32mdef\u001b[0m \u001b[0mrecognizer\u001b[0m\u001b[1;33m(\u001b[0m\u001b[0minput_to_recognizer\u001b[0m\u001b[1;33m)\u001b[0m\u001b[1;33m:\u001b[0m\u001b[1;33m\u001b[0m\u001b[0m\n\u001b[1;32m----> 3\u001b[1;33m         \u001b[1;32mfor\u001b[0m \u001b[0menumerated_output\u001b[0m \u001b[1;32min\u001b[0m \u001b[0menumerator\u001b[0m\u001b[1;33m(\u001b[0m\u001b[1;33m)\u001b[0m\u001b[1;33m:\u001b[0m\u001b[1;33m\u001b[0m\u001b[0m\n\u001b[0m\u001b[0;32m      4\u001b[0m             \u001b[1;32mif\u001b[0m \u001b[0menumerated_output\u001b[0m \u001b[1;33m==\u001b[0m \u001b[0minput_to_recognizer\u001b[0m\u001b[1;33m:\u001b[0m\u001b[1;33m\u001b[0m\u001b[0m\n\u001b[0;32m      5\u001b[0m                 \u001b[1;32mreturn\u001b[0m \u001b[0mTrue\u001b[0m\u001b[1;33m\u001b[0m\u001b[0m\n",
      "\u001b[1;32m<ipython-input-58-7dd49462f5a0>\u001b[0m in \u001b[0;36mprimes_enumerator\u001b[1;34m()\u001b[0m\n\u001b[0;32m     12\u001b[0m     \u001b[1;34m\"\"\"Iterate over all prime numbers.\"\"\"\u001b[0m\u001b[1;33m\u001b[0m\u001b[0m\n\u001b[0;32m     13\u001b[0m     \u001b[1;32mfor\u001b[0m \u001b[0mn\u001b[0m \u001b[1;32min\u001b[0m \u001b[0mitertools\u001b[0m\u001b[1;33m.\u001b[0m\u001b[0mcount\u001b[0m\u001b[1;33m(\u001b[0m\u001b[1;33m)\u001b[0m\u001b[1;33m:\u001b[0m \u001b[1;31m#iterates over all natural numbers\u001b[0m\u001b[1;33m\u001b[0m\u001b[0m\n\u001b[1;32m---> 14\u001b[1;33m         \u001b[1;32mif\u001b[0m \u001b[0mis_prime\u001b[0m\u001b[1;33m(\u001b[0m\u001b[0mn\u001b[0m\u001b[1;33m)\u001b[0m\u001b[1;33m:\u001b[0m\u001b[1;33m\u001b[0m\u001b[0m\n\u001b[0m\u001b[0;32m     15\u001b[0m             \u001b[1;32myield\u001b[0m \u001b[0mn\u001b[0m\u001b[1;33m\u001b[0m\u001b[0m\n",
      "\u001b[1;32m<ipython-input-58-7dd49462f5a0>\u001b[0m in \u001b[0;36mis_prime\u001b[1;34m(n)\u001b[0m\n\u001b[0;32m      4\u001b[0m         \u001b[1;32mreturn\u001b[0m \u001b[0mFalse\u001b[0m\u001b[1;33m\u001b[0m\u001b[0m\n\u001b[0;32m      5\u001b[0m     \u001b[1;32mfor\u001b[0m \u001b[0mx\u001b[0m \u001b[1;32min\u001b[0m \u001b[0mxrange\u001b[0m\u001b[1;33m(\u001b[0m\u001b[1;36m2\u001b[0m\u001b[1;33m,\u001b[0m \u001b[0mint\u001b[0m\u001b[1;33m(\u001b[0m\u001b[0mn\u001b[0m\u001b[1;33m**\u001b[0m\u001b[1;36m0.5\u001b[0m\u001b[1;33m)\u001b[0m\u001b[1;33m+\u001b[0m\u001b[1;36m1\u001b[0m\u001b[1;33m)\u001b[0m\u001b[1;33m:\u001b[0m\u001b[1;33m\u001b[0m\u001b[0m\n\u001b[1;32m----> 6\u001b[1;33m         \u001b[1;32mif\u001b[0m \u001b[0mn\u001b[0m \u001b[1;33m%\u001b[0m \u001b[0mx\u001b[0m \u001b[1;33m==\u001b[0m \u001b[1;36m0\u001b[0m\u001b[1;33m:\u001b[0m\u001b[1;33m\u001b[0m\u001b[0m\n\u001b[0m\u001b[0;32m      7\u001b[0m             \u001b[1;32mreturn\u001b[0m \u001b[0mFalse\u001b[0m\u001b[1;33m\u001b[0m\u001b[0m\n\u001b[0;32m      8\u001b[0m     \u001b[1;32mreturn\u001b[0m \u001b[0mTrue\u001b[0m\u001b[1;33m\u001b[0m\u001b[0m\n",
      "\u001b[1;31mKeyboardInterrupt\u001b[0m: "
     ]
    }
   ],
   "source": [
    "primes_recognizer = create_recognizer_from_enumerator(primes_enumerator)\n",
    "print(primes_recognizer(2))  # prints True\n",
    "print(primes_recognizer(3))  # prints True\n",
    "print(primes_recognizer(5))  # prints True\n",
    "print(primes_recognizer(7))  # prints True\n",
    "print(primes_recognizer(9))  # runs forever"
   ]
  },
  {
   "cell_type": "markdown",
   "metadata": {},
   "source": [
    "# converting recognizer to enumerator"
   ]
  },
  {
   "cell_type": "code",
   "execution_count": 67,
   "metadata": {
    "collapsed": false
   },
   "outputs": [],
   "source": [
    "import sys, itertools, Queue, threading\n",
    "\n",
    "def binary_strings():\n",
    "    \"\"\"Enumerates all binary strings in lexicographical order.\"\"\"\n",
    "    for length in itertools.count():\n",
    "        for s in itertools.product([\"0\",\"1\"], repeat=length):\n",
    "            yield \"\".join(s)\n",
    "\n",
    "#WARNING: this will run forever and consume processor and memory and have to be killed\n",
    "def enumerator_from_recognizer(recognizer, inputs=binary_strings()):\n",
    "    \"\"\"Given acceptor, a function that defines a language by returning True if \n",
    "    its input string is in the language and otherwise either returning False \n",
    "    or looping, this function enumerates over strings in the language.\n",
    "\n",
    "    inputs is iterator yielding valid inputs to acceptor. Default is binary \n",
    "    strings in lexicographical order.\"\"\"\n",
    "    # define queue to put outputs (and its associated input) into\n",
    "    outputs_queue = Queue.Queue()\n",
    "    def compute_output_and_add_to_queue(input_string):\n",
    "        output = recognizer(input_string)\n",
    "        outputs_queue.put((input_string, output))\n",
    "\n",
    "    # run acceptor on all possible inputs and add outputs to outputs_queue\n",
    "    acceptor_threads = []\n",
    "    def start_all_recognizer_threads():\n",
    "        for input_string in inputs:\n",
    "            thread = threading.Thread(target=compute_output_and_add_to_queue, \n",
    "                                      args=[input_string])\n",
    "            thread.daemon = True\n",
    "            thread.start()\n",
    "            acceptor_threads.append(thread)\n",
    "        # if finite number of inputs, wait until all threads have stopped\n",
    "        # and then add a new item to the queue to indicate all inputs are done\n",
    "        for thread in acceptor_threads:\n",
    "            thread.join()\n",
    "        outputs_queue.put((None,None))\n",
    "\n",
    "    starter_thread = threading.Thread(target=start_all_recognizer_threads)\n",
    "    starter_thread.daemon = True # ensures thread is killed when main thread stops\n",
    "    starter_thread.start()\n",
    "\n",
    "    # search for True output in outputs_queue\n",
    "    while True:\n",
    "        (input_string, output) = outputs_queue.get()\n",
    "        if output == True:\n",
    "            yield input_string\n",
    "        if output == None:\n",
    "            break\n",
    "\n",
    "#WARNING: this will run forever and consume processor and memory and have to be killed\n",
    "def create_enumerator_from_recognizer(acceptor, inputs=binary_strings()):\n",
    "    \"\"\"Given acceptor, a function that defines a language by returning True \n",
    "    if its input string is in the language and otherwise either returning False \n",
    "    or looping, it returns an iterator that iterates over strings in the language.\n",
    "\n",
    "    inputs is iterator yielding valid inputs to recognizer. Default is binary \n",
    "    strings in lexicographical order.\"\"\"\n",
    "    def enumerator():\n",
    "        return enumerator_from_recognizer(acceptor, inputs)\n",
    "    return enumerator"
   ]
  },
  {
   "cell_type": "code",
   "execution_count": 65,
   "metadata": {
    "collapsed": false
   },
   "outputs": [
    {
     "ename": "KeyboardInterrupt",
     "evalue": "",
     "output_type": "error",
     "traceback": [
      "\u001b[1;31m---------------------------------------------------------------------------\u001b[0m",
      "\u001b[1;31mKeyboardInterrupt\u001b[0m                         Traceback (most recent call last)",
      "\u001b[1;32m<ipython-input-65-0132c152b414>\u001b[0m in \u001b[0;36m<module>\u001b[1;34m()\u001b[0m\n\u001b[0;32m      3\u001b[0m \u001b[1;33m\u001b[0m\u001b[0m\n\u001b[0;32m      4\u001b[0m \u001b[1;31m#WARNING: this will run forever and consume processor and memory and have to be killed\u001b[0m\u001b[1;33m\u001b[0m\u001b[1;33m\u001b[0m\u001b[0m\n\u001b[1;32m----> 5\u001b[1;33m \u001b[1;32mfor\u001b[0m \u001b[0mi\u001b[0m\u001b[1;33m,\u001b[0m\u001b[0mp\u001b[0m \u001b[1;32min\u001b[0m \u001b[0mzip\u001b[0m\u001b[1;33m(\u001b[0m\u001b[0mitertools\u001b[0m\u001b[1;33m.\u001b[0m\u001b[0mcount\u001b[0m\u001b[1;33m(\u001b[0m\u001b[1;33m)\u001b[0m\u001b[1;33m,\u001b[0m \u001b[0menumerate_primes\u001b[0m\u001b[1;33m(\u001b[0m\u001b[1;33m)\u001b[0m\u001b[1;33m)\u001b[0m\u001b[1;33m:\u001b[0m\u001b[1;33m\u001b[0m\u001b[0m\n\u001b[0m\u001b[0;32m      6\u001b[0m     \u001b[1;32mprint\u001b[0m \u001b[1;34m\"{}'th prime is {}\"\u001b[0m\u001b[1;33m.\u001b[0m\u001b[0mformat\u001b[0m\u001b[1;33m(\u001b[0m\u001b[0mi\u001b[0m\u001b[1;33m,\u001b[0m \u001b[0mp\u001b[0m\u001b[1;33m)\u001b[0m\u001b[1;33m\u001b[0m\u001b[0m\n\u001b[0;32m      7\u001b[0m     \u001b[1;32mif\u001b[0m \u001b[0mi\u001b[0m \u001b[1;33m>\u001b[0m \u001b[1;36m100\u001b[0m\u001b[1;33m:\u001b[0m\u001b[1;33m\u001b[0m\u001b[0m\n",
      "\u001b[1;32m<ipython-input-64-ed6dec64e190>\u001b[0m in \u001b[0;36menumerator_from_recognizer\u001b[1;34m(recognizer, inputs)\u001b[0m\n\u001b[0;32m     42\u001b[0m     \u001b[1;31m# search for True output in outputs_queue\u001b[0m\u001b[1;33m\u001b[0m\u001b[1;33m\u001b[0m\u001b[0m\n\u001b[0;32m     43\u001b[0m     \u001b[1;32mwhile\u001b[0m \u001b[0mTrue\u001b[0m\u001b[1;33m:\u001b[0m\u001b[1;33m\u001b[0m\u001b[0m\n\u001b[1;32m---> 44\u001b[1;33m         \u001b[1;33m(\u001b[0m\u001b[0minput_string\u001b[0m\u001b[1;33m,\u001b[0m \u001b[0moutput\u001b[0m\u001b[1;33m)\u001b[0m \u001b[1;33m=\u001b[0m \u001b[0moutputs_queue\u001b[0m\u001b[1;33m.\u001b[0m\u001b[0mget\u001b[0m\u001b[1;33m(\u001b[0m\u001b[1;33m)\u001b[0m\u001b[1;33m\u001b[0m\u001b[0m\n\u001b[0m\u001b[0;32m     45\u001b[0m         \u001b[1;32mif\u001b[0m \u001b[0moutput\u001b[0m \u001b[1;33m==\u001b[0m \u001b[0mTrue\u001b[0m\u001b[1;33m:\u001b[0m\u001b[1;33m\u001b[0m\u001b[0m\n\u001b[0;32m     46\u001b[0m             \u001b[1;32myield\u001b[0m \u001b[0minput_string\u001b[0m\u001b[1;33m\u001b[0m\u001b[0m\n",
      "\u001b[1;32mC:\\Anaconda\\lib\\Queue.pyc\u001b[0m in \u001b[0;36mget\u001b[1;34m(self, block, timeout)\u001b[0m\n\u001b[0;32m    166\u001b[0m             \u001b[1;32melif\u001b[0m \u001b[0mtimeout\u001b[0m \u001b[1;32mis\u001b[0m \u001b[0mNone\u001b[0m\u001b[1;33m:\u001b[0m\u001b[1;33m\u001b[0m\u001b[0m\n\u001b[0;32m    167\u001b[0m                 \u001b[1;32mwhile\u001b[0m \u001b[1;32mnot\u001b[0m \u001b[0mself\u001b[0m\u001b[1;33m.\u001b[0m\u001b[0m_qsize\u001b[0m\u001b[1;33m(\u001b[0m\u001b[1;33m)\u001b[0m\u001b[1;33m:\u001b[0m\u001b[1;33m\u001b[0m\u001b[0m\n\u001b[1;32m--> 168\u001b[1;33m                     \u001b[0mself\u001b[0m\u001b[1;33m.\u001b[0m\u001b[0mnot_empty\u001b[0m\u001b[1;33m.\u001b[0m\u001b[0mwait\u001b[0m\u001b[1;33m(\u001b[0m\u001b[1;33m)\u001b[0m\u001b[1;33m\u001b[0m\u001b[0m\n\u001b[0m\u001b[0;32m    169\u001b[0m             \u001b[1;32melif\u001b[0m \u001b[0mtimeout\u001b[0m \u001b[1;33m<\u001b[0m \u001b[1;36m0\u001b[0m\u001b[1;33m:\u001b[0m\u001b[1;33m\u001b[0m\u001b[0m\n\u001b[0;32m    170\u001b[0m                 \u001b[1;32mraise\u001b[0m \u001b[0mValueError\u001b[0m\u001b[1;33m(\u001b[0m\u001b[1;34m\"'timeout' must be a non-negative number\"\u001b[0m\u001b[1;33m)\u001b[0m\u001b[1;33m\u001b[0m\u001b[0m\n",
      "\u001b[1;32mC:\\Anaconda\\lib\\threading.pyc\u001b[0m in \u001b[0;36mwait\u001b[1;34m(self, timeout)\u001b[0m\n\u001b[0;32m    338\u001b[0m         \u001b[1;32mtry\u001b[0m\u001b[1;33m:\u001b[0m    \u001b[1;31m# restore state no matter what (e.g., KeyboardInterrupt)\u001b[0m\u001b[1;33m\u001b[0m\u001b[0m\n\u001b[0;32m    339\u001b[0m             \u001b[1;32mif\u001b[0m \u001b[0mtimeout\u001b[0m \u001b[1;32mis\u001b[0m \u001b[0mNone\u001b[0m\u001b[1;33m:\u001b[0m\u001b[1;33m\u001b[0m\u001b[0m\n\u001b[1;32m--> 340\u001b[1;33m                 \u001b[0mwaiter\u001b[0m\u001b[1;33m.\u001b[0m\u001b[0macquire\u001b[0m\u001b[1;33m(\u001b[0m\u001b[1;33m)\u001b[0m\u001b[1;33m\u001b[0m\u001b[0m\n\u001b[0m\u001b[0;32m    341\u001b[0m                 \u001b[1;32mif\u001b[0m \u001b[0m__debug__\u001b[0m\u001b[1;33m:\u001b[0m\u001b[1;33m\u001b[0m\u001b[0m\n\u001b[0;32m    342\u001b[0m                     \u001b[0mself\u001b[0m\u001b[1;33m.\u001b[0m\u001b[0m_note\u001b[0m\u001b[1;33m(\u001b[0m\u001b[1;34m\"%s.wait(): got it\"\u001b[0m\u001b[1;33m,\u001b[0m \u001b[0mself\u001b[0m\u001b[1;33m)\u001b[0m\u001b[1;33m\u001b[0m\u001b[0m\n",
      "\u001b[1;31mKeyboardInterrupt\u001b[0m: "
     ]
    }
   ],
   "source": [
    "import itertools\n",
    "enumerate_primes = create_enumerator_from_recognizer(is_prime, inputs=itertools.count())\n",
    "\n",
    "#WARNING: this will run forever and consume processor and memory and have to be killed\n",
    "for i,p in zip(itertools.count(), enumerate_primes()):\n",
    "    print \"{}'th prime is {}\".format(i, p)\n",
    "    if i > 100: \n",
    "        break"
   ]
  },
  {
   "cell_type": "code",
   "execution_count": 68,
   "metadata": {
    "collapsed": false
   },
   "outputs": [
    {
     "name": "stdout",
     "output_type": "stream",
     "text": [
      "0'th prime is 2\n",
      "1'th prime is 3\n",
      "2'th prime is 5\n",
      "3'th prime is 7\n",
      "4'th prime is 11\n",
      "5'th prime is 13\n",
      "6'th prime is 17\n",
      "7'th prime is 19\n",
      "8'th prime is 23\n",
      "9'th prime is 29\n",
      "10'th prime is 31\n",
      "11'th prime is 37\n",
      "12'th prime is 41\n",
      "13'th prime is 43\n",
      "14'th prime is 47\n",
      "15'th prime is 53\n",
      "16'th prime is 59\n",
      "17'th prime is 61\n",
      "18'th prime is 67\n",
      "19'th prime is 71\n",
      "20'th prime is 73\n",
      "21'th prime is 79\n",
      "22'th prime is 83\n",
      "23'th prime is 89\n",
      "24'th prime is 97\n"
     ]
    }
   ],
   "source": [
    "import itertools\n",
    "enumerate_primes = create_enumerator_from_recognizer(is_prime, inputs=range(100))\n",
    "\n",
    "for i,p in zip(itertools.count(), enumerate_primes()):\n",
    "    print \"{}'th prime is {}\".format(i, p)"
   ]
  },
  {
   "cell_type": "markdown",
   "metadata": {},
   "source": [
    "# Halting problem is c.e. (via a recognizer)"
   ]
  },
  {
   "cell_type": "code",
   "execution_count": 69,
   "metadata": {
    "collapsed": false
   },
   "outputs": [],
   "source": [
    "def halt_recognizer(M_src,w):\n",
    "    \"\"\"M is the source code of a Python function named M,\n",
    "    and w is an input to M.\"\"\"\n",
    "    exec(M_src) # this defines the function so we can execute it\n",
    "    M(w)        # this actually executes the function on input w\n",
    "    return True # this is only reached if M(w) halts"
   ]
  },
  {
   "cell_type": "code",
   "execution_count": 70,
   "metadata": {
    "collapsed": false
   },
   "outputs": [
    {
     "data": {
      "text/plain": [
       "True"
      ]
     },
     "execution_count": 70,
     "metadata": {},
     "output_type": "execute_result"
    }
   ],
   "source": [
    "M_src = \"\"\"\n",
    "def M(w):\n",
    "    '''Indicates if x has more than 5 occurences of the symbol \"a\".'''\n",
    "    count = 0\n",
    "    for c in w:\n",
    "        if c == \"a\":\n",
    "            count += 1\n",
    "    return count > 5\n",
    "\"\"\"\n",
    "w = \"abcabcaaabcaa\"\n",
    "halt_recognizer(M_src, w) # will halt since M always halts"
   ]
  },
  {
   "cell_type": "code",
   "execution_count": 71,
   "metadata": {
    "collapsed": false
   },
   "outputs": [
    {
     "name": "stdout",
     "output_type": "stream",
     "text": [
      "True\n"
     ]
    }
   ],
   "source": [
    "M_src = \"\"\"\n",
    "def M(w):\n",
    "    '''Has a potential infinite loop.'''\n",
    "    count = 0\n",
    "    while count < 5:\n",
    "        c = w[0]\n",
    "        if c == \"a\":\n",
    "            count += 1\n",
    "    return count > 5\n",
    "\"\"\"\n",
    "w = \"abcabcaaabcaa\"\n",
    "print halt_recognizer(M_src, w) # will halt since w[0] == \"a\""
   ]
  },
  {
   "cell_type": "code",
   "execution_count": 72,
   "metadata": {
    "collapsed": false
   },
   "outputs": [
    {
     "ename": "KeyboardInterrupt",
     "evalue": "",
     "output_type": "error",
     "traceback": [
      "\u001b[1;31m---------------------------------------------------------------------------\u001b[0m",
      "\u001b[1;31mKeyboardInterrupt\u001b[0m                         Traceback (most recent call last)",
      "\u001b[1;32m<ipython-input-72-2aef78e17fc5>\u001b[0m in \u001b[0;36m<module>\u001b[1;34m()\u001b[0m\n\u001b[0;32m     10\u001b[0m \"\"\"\n\u001b[0;32m     11\u001b[0m \u001b[0mw\u001b[0m \u001b[1;33m=\u001b[0m \u001b[1;34m\"bcabcaaabcaa\"\u001b[0m\u001b[1;33m\u001b[0m\u001b[0m\n\u001b[1;32m---> 12\u001b[1;33m \u001b[1;32mprint\u001b[0m \u001b[0mhalt_recognizer\u001b[0m\u001b[1;33m(\u001b[0m\u001b[0mM_src\u001b[0m\u001b[1;33m,\u001b[0m \u001b[0mw\u001b[0m\u001b[1;33m)\u001b[0m \u001b[1;31m# won't halt since w[0] != \"a\"\u001b[0m\u001b[1;33m\u001b[0m\u001b[0m\n\u001b[0m",
      "\u001b[1;32m<ipython-input-69-25531d977ed0>\u001b[0m in \u001b[0;36mhalt_recognizer\u001b[1;34m(M_src, w)\u001b[0m\n\u001b[0;32m      3\u001b[0m     and w is an input to M.\"\"\"\n\u001b[0;32m      4\u001b[0m     \u001b[1;32mexec\u001b[0m\u001b[1;33m(\u001b[0m\u001b[0mM_src\u001b[0m\u001b[1;33m)\u001b[0m \u001b[1;31m# this defines the function so we can execute it\u001b[0m\u001b[1;33m\u001b[0m\u001b[0m\n\u001b[1;32m----> 5\u001b[1;33m     \u001b[0mM\u001b[0m\u001b[1;33m(\u001b[0m\u001b[0mw\u001b[0m\u001b[1;33m)\u001b[0m        \u001b[1;31m# this actually executes the function on input w\u001b[0m\u001b[1;33m\u001b[0m\u001b[0m\n\u001b[0m\u001b[0;32m      6\u001b[0m     \u001b[1;32mreturn\u001b[0m \u001b[0mTrue\u001b[0m \u001b[1;31m# this is only reached if M(w) halts\u001b[0m\u001b[1;33m\u001b[0m\u001b[0m\n",
      "\u001b[1;32m<string>\u001b[0m in \u001b[0;36mM\u001b[1;34m(w)\u001b[0m\n",
      "\u001b[1;31mKeyboardInterrupt\u001b[0m: "
     ]
    }
   ],
   "source": [
    "M_src = \"\"\"\n",
    "def M(w):\n",
    "    '''Has a potential infinite loop.'''\n",
    "    count = 0\n",
    "    while count < 5:\n",
    "        c = w[0]\n",
    "        if c == \"a\":\n",
    "            count += 1\n",
    "    return count > 5\n",
    "\"\"\"\n",
    "# WARNING: this runs forever and will have to be killed\n",
    "w = \"bcabcaaabcaa\"\n",
    "print halt_recognizer(M_src, w) # won't halt since w[0] != \"a\""
   ]
  },
  {
   "cell_type": "markdown",
   "metadata": {},
   "source": [
    "# converting between Python programs and source code"
   ]
  },
  {
   "cell_type": "code",
   "execution_count": 73,
   "metadata": {
    "collapsed": false
   },
   "outputs": [
    {
     "name": "stdout",
     "output_type": "stream",
     "text": [
      "M(\"0101\") = True\n",
      "source code of M:\n",
      "def M(w):\n",
      "    \"\"\"Indicates if |w| > 3\"\"\"\n",
      "    return len(w) > 3\n",
      "\n",
      "M(\"0101\") = False\n",
      "source code of M:\n",
      "def M(w):\n",
      "    \"\"\"Indicates if |w| > 3\"\"\"\n",
      "    return len(w) > 5\n",
      "\n"
     ]
    }
   ],
   "source": [
    "def M(w):\n",
    "    \"\"\"Indicates if |w| > 3\"\"\"\n",
    "    return len(w) > 3\n",
    "\n",
    "print 'M(\"0101\") = {}'.format(M(\"0101\"))\n",
    "\n",
    "# use inspect.getsource to convert function to source code\n",
    "import inspect\n",
    "M_src = inspect.getsource(M)\n",
    "print \"source code of M:\\n{}\".format(M_src)\n",
    "\n",
    "M_src = M_src.replace(\"len(w) > 3\", \"len(w) > 5\")\n",
    "\n",
    "# use exec to convert source code to function\n",
    "exec(M_src)\n",
    "\n",
    "print 'M(\"0101\") = {}'.format(M(\"0101\"))\n",
    "print \"source code of M:\\n{}\".format(M_src)"
   ]
  },
  {
   "cell_type": "code",
   "execution_count": 74,
   "metadata": {
    "collapsed": true
   },
   "outputs": [],
   "source": [
    "def halt_recognizer(M,w):\n",
    "    \"\"\"M_src is a Python function, and w is an input to M.\"\"\"\n",
    "    M(w)        # this executes the function M on input w\n",
    "    return True # this is only reached if M(w) halts"
   ]
  },
  {
   "cell_type": "code",
   "execution_count": 75,
   "metadata": {
    "collapsed": false
   },
   "outputs": [
    {
     "data": {
      "text/plain": [
       "True"
      ]
     },
     "execution_count": 75,
     "metadata": {},
     "output_type": "execute_result"
    }
   ],
   "source": [
    "def M(w):\n",
    "    \"\"\"Indicates if x has > 5 occurences of the symbol \"a\".\"\"\"\n",
    "    count = 0\n",
    "    for c in w:\n",
    "        if c == \"a\":\n",
    "            count += 1\n",
    "    return count > 5\n",
    "\n",
    "w = \"abcabcaaabcaa\"\n",
    "halt_recognizer(M, w) # will halt since M always halts"
   ]
  },
  {
   "cell_type": "code",
   "execution_count": 76,
   "metadata": {
    "collapsed": false
   },
   "outputs": [
    {
     "name": "stdout",
     "output_type": "stream",
     "text": [
      "True\n"
     ]
    }
   ],
   "source": [
    "def M(w):\n",
    "    \"\"\"Has a potential infinite loop.\"\"\"\n",
    "    count = 0\n",
    "    while count < 5:\n",
    "        c = w[0]\n",
    "        if c == \"a\":\n",
    "            count += 1\n",
    "    return count > 5\n",
    "\n",
    "w = \"abcabcaaabcaa\"\n",
    "print halt_recognizer(M, w) # will halt since w[0] == \"a\""
   ]
  },
  {
   "cell_type": "code",
   "execution_count": 77,
   "metadata": {
    "collapsed": false
   },
   "outputs": [
    {
     "ename": "KeyboardInterrupt",
     "evalue": "",
     "output_type": "error",
     "traceback": [
      "\u001b[1;31m---------------------------------------------------------------------------\u001b[0m",
      "\u001b[1;31mKeyboardInterrupt\u001b[0m                         Traceback (most recent call last)",
      "\u001b[1;32m<ipython-input-77-d8e653c80349>\u001b[0m in \u001b[0;36m<module>\u001b[1;34m()\u001b[0m\n\u001b[0;32m     11\u001b[0m \u001b[1;31m# After running this, you'll need to kill the interpreter\u001b[0m\u001b[1;33m\u001b[0m\u001b[1;33m\u001b[0m\u001b[0m\n\u001b[0;32m     12\u001b[0m \u001b[0mw\u001b[0m \u001b[1;33m=\u001b[0m \u001b[1;34m\"bcabcaaabcaa\"\u001b[0m\u001b[1;33m\u001b[0m\u001b[0m\n\u001b[1;32m---> 13\u001b[1;33m \u001b[1;32mprint\u001b[0m \u001b[0mhalt_recognizer\u001b[0m\u001b[1;33m(\u001b[0m\u001b[0mM\u001b[0m\u001b[1;33m,\u001b[0m \u001b[0mw\u001b[0m\u001b[1;33m)\u001b[0m \u001b[1;31m# won't halt since w[0] != \"a\"\u001b[0m\u001b[1;33m\u001b[0m\u001b[0m\n\u001b[0m",
      "\u001b[1;32m<ipython-input-74-021811d3cc73>\u001b[0m in \u001b[0;36mhalt_recognizer\u001b[1;34m(M, w)\u001b[0m\n\u001b[0;32m      1\u001b[0m \u001b[1;32mdef\u001b[0m \u001b[0mhalt_recognizer\u001b[0m\u001b[1;33m(\u001b[0m\u001b[0mM\u001b[0m\u001b[1;33m,\u001b[0m\u001b[0mw\u001b[0m\u001b[1;33m)\u001b[0m\u001b[1;33m:\u001b[0m\u001b[1;33m\u001b[0m\u001b[0m\n\u001b[0;32m      2\u001b[0m     \u001b[1;34m\"\"\"M_src is a Python function, and w is an input to M.\"\"\"\u001b[0m\u001b[1;33m\u001b[0m\u001b[0m\n\u001b[1;32m----> 3\u001b[1;33m     \u001b[0mM\u001b[0m\u001b[1;33m(\u001b[0m\u001b[0mw\u001b[0m\u001b[1;33m)\u001b[0m        \u001b[1;31m# this executes the function M on input w\u001b[0m\u001b[1;33m\u001b[0m\u001b[0m\n\u001b[0m\u001b[0;32m      4\u001b[0m     \u001b[1;32mreturn\u001b[0m \u001b[0mTrue\u001b[0m \u001b[1;31m# this is only reached if M(w) halts\u001b[0m\u001b[1;33m\u001b[0m\u001b[0m\n",
      "\u001b[1;32m<ipython-input-77-d8e653c80349>\u001b[0m in \u001b[0;36mM\u001b[1;34m(w)\u001b[0m\n\u001b[0;32m      3\u001b[0m     \u001b[0mcount\u001b[0m \u001b[1;33m=\u001b[0m \u001b[1;36m0\u001b[0m\u001b[1;33m\u001b[0m\u001b[0m\n\u001b[0;32m      4\u001b[0m     \u001b[1;32mwhile\u001b[0m \u001b[0mcount\u001b[0m \u001b[1;33m<\u001b[0m \u001b[1;36m5\u001b[0m\u001b[1;33m:\u001b[0m\u001b[1;33m\u001b[0m\u001b[0m\n\u001b[1;32m----> 5\u001b[1;33m         \u001b[0mc\u001b[0m \u001b[1;33m=\u001b[0m \u001b[0mw\u001b[0m\u001b[1;33m[\u001b[0m\u001b[1;36m0\u001b[0m\u001b[1;33m]\u001b[0m\u001b[1;33m\u001b[0m\u001b[0m\n\u001b[0m\u001b[0;32m      6\u001b[0m         \u001b[1;32mif\u001b[0m \u001b[0mc\u001b[0m \u001b[1;33m==\u001b[0m \u001b[1;34m\"a\"\u001b[0m\u001b[1;33m:\u001b[0m\u001b[1;33m\u001b[0m\u001b[0m\n\u001b[0;32m      7\u001b[0m             \u001b[0mcount\u001b[0m \u001b[1;33m+=\u001b[0m \u001b[1;36m1\u001b[0m\u001b[1;33m\u001b[0m\u001b[0m\n",
      "\u001b[1;31mKeyboardInterrupt\u001b[0m: "
     ]
    }
   ],
   "source": [
    "def M(w):\n",
    "    \"\"\"Has a potential infinite loop.\"\"\"\n",
    "    count = 0\n",
    "    while count < 5:\n",
    "        c = w[0]\n",
    "        if c == \"a\":\n",
    "            count += 1\n",
    "    return count > 5\n",
    "\n",
    "# WARNING: will not halt!\n",
    "# After running this, you'll need to kill the interpreter\n",
    "w = \"bcabcaaabcaa\"\n",
    "print halt_recognizer(M, w) # won't halt since w[0] != \"a\""
   ]
  },
  {
   "cell_type": "markdown",
   "metadata": {},
   "source": [
    "# converting recognizers for A and A-complement to a decider for A"
   ]
  },
  {
   "cell_type": "code",
   "execution_count": 78,
   "metadata": {
    "collapsed": false
   },
   "outputs": [],
   "source": [
    "import threading, Queue\n",
    "\n",
    "def decider_from_recognizers(recognizer, comp_recognizer, w):\n",
    "    \"\"\"recognizer is function recognizing some language A, and\n",
    "    comp_recognizer is function recognizing complement of A.\"\"\"\n",
    "    outputs_queue = Queue.Queue()\n",
    "    \n",
    "    def recognizer_add_to_queue():\n",
    "        output = recognizer(w)\n",
    "        if output == True:\n",
    "            outputs_queue.put(\"w in A\")\n",
    "    \n",
    "    def comp_recognizer_add_to_queue():\n",
    "        output = comp_recognizer(w)\n",
    "        if output == True:\n",
    "            outputs_queue.put(\"w not in A\")\n",
    "    \n",
    "    t1 = threading.Thread(target = recognizer_add_to_queue)\n",
    "    t2 = threading.Thread(target = comp_recognizer_add_to_queue)\n",
    "    t1.daemon = t2.daemon = True\n",
    "    t1.start()\n",
    "    t2.start()\n",
    "    \n",
    "    # exactly one of the threads will put a message in the queue\n",
    "    message = outputs_queue.get()\n",
    "    if message == \"w in A\":\n",
    "        return True\n",
    "    elif message == \"w not in A\":\n",
    "        return False\n",
    "    else:\n",
    "        raise AssertionError(\"should not be reachable\")\n",
    "        \n",
    "def create_decider_from_recognizers(recognizer, comp_recognizer):\n",
    "    def decider(w):\n",
    "        return decider_from_recognizers(recognizer, comp_recognizer, w)\n",
    "    return decider"
   ]
  },
  {
   "cell_type": "code",
   "execution_count": 79,
   "metadata": {
    "collapsed": false
   },
   "outputs": [
    {
     "name": "stdout",
     "output_type": "stream",
     "text": [
      " 2 is prime?  True\n",
      " 3 is prime?  True\n",
      " 4 is prime?  False\n",
      " 5 is prime?  True\n",
      " 6 is prime?  False\n",
      " 7 is prime?  True\n",
      " 8 is prime?  False\n",
      " 9 is prime?  False\n",
      "10 is prime?  False\n",
      "11 is prime?  True\n",
      "12 is prime?  False\n",
      "13 is prime?  True\n",
      "14 is prime?  False\n",
      "15 is prime?  False\n",
      "16 is prime?  False\n",
      "17 is prime?  True\n",
      "18 is prime?  False\n",
      "19 is prime?  True\n"
     ]
    }
   ],
   "source": [
    "def loop():\n",
    "    \"\"\"Loop forever.\"\"\"\n",
    "    while True:\n",
    "        pass\n",
    "\n",
    "def is_prime(n):\n",
    "    \"\"\"Check if n is prime.\"\"\"\n",
    "    if n < 2: # 0 and 1 are not primes\n",
    "        loop()\n",
    "    for x in xrange(2, int(n**0.5)+1):\n",
    "        if n % x == 0:\n",
    "            loop()\n",
    "    return True\n",
    "\n",
    "def is_composite(n):\n",
    "    if n < 2: # 0 and 1 are not primes\n",
    "        return True\n",
    "    for x in xrange(2, int(n**0.5)+1):\n",
    "        if n % x == 0:\n",
    "            return True\n",
    "    loop()\n",
    "\n",
    "#WARNING: will continue to consume resources after it halts b\n",
    "# because it starts up threads that run forever\n",
    "prime_decider = create_decider_from_recognizers(is_prime, is_composite)\n",
    "for n in range(2,20):\n",
    "    print \"{:2} is prime?  {}\".format(n, prime_decider(n))"
   ]
  },
  {
   "cell_type": "markdown",
   "metadata": {},
   "source": [
    "# decider from enumerators"
   ]
  },
  {
   "cell_type": "code",
   "execution_count": 80,
   "metadata": {
    "collapsed": true
   },
   "outputs": [],
   "source": [
    "from future_builtins import zip # only Python 3 version of zip works\n",
    "\n",
    "def decider_from_enumerators(enumerator, comp_enumerator, w):\n",
    "    \"\"\"enumerator is Python generator enumerating language A, and \n",
    "    comp_enumerator is generator enumerating complement of A.\"\"\"\n",
    "    for x,y in zip(enumerator(), comp_enumerator()):\n",
    "        if x == w:\n",
    "            return True\n",
    "        if y == w:\n",
    "            return False\n",
    "\n",
    "def create_decider_from_enumerators(enumerator, comp_enumerator):\n",
    "    def decider(w):\n",
    "        return decider_from_enumerators(enumerator, comp_enumerator, w)\n",
    "    return decider"
   ]
  },
  {
   "cell_type": "code",
   "execution_count": 81,
   "metadata": {
    "collapsed": false
   },
   "outputs": [
    {
     "name": "stdout",
     "output_type": "stream",
     "text": [
      " 2 is prime?  True\n",
      " 3 is prime?  True\n",
      " 4 is prime?  False\n",
      " 5 is prime?  True\n",
      " 6 is prime?  False\n",
      " 7 is prime?  True\n",
      " 8 is prime?  False\n",
      " 9 is prime?  False\n",
      "10 is prime?  False\n",
      "11 is prime?  True\n",
      "12 is prime?  False\n",
      "13 is prime?  True\n",
      "14 is prime?  False\n",
      "15 is prime?  False\n",
      "16 is prime?  False\n",
      "17 is prime?  True\n",
      "18 is prime?  False\n",
      "19 is prime?  True\n"
     ]
    }
   ],
   "source": [
    "def is_prime(n):\n",
    "    \"\"\"Check if n is prime.\"\"\"\n",
    "    if n < 2: # 0 and 1 are not primes\n",
    "        return False\n",
    "    for d in xrange(2, int(n**0.5)+1):\n",
    "        if n % d == 0:\n",
    "            return False\n",
    "    return True\n",
    "\n",
    "import itertools\n",
    "def primes_enumerator():\n",
    "    \"\"\"Iterate over all prime numbers.\"\"\"\n",
    "    for n in itertools.count():\n",
    "        if is_prime(n):\n",
    "            yield n\n",
    "\n",
    "def composites_enumerator():\n",
    "    \"\"\"Iterate over all composite numbers.\"\"\"\n",
    "    for n in itertools.count():\n",
    "        if not is_prime(n):\n",
    "            yield n\n",
    "\n",
    "prime_decider = create_decider_from_enumerators(primes_enumerator, composites_enumerator)\n",
    "for n in range(2,20):\n",
    "    print \"{:2} is prime?  {}\".format(n, prime_decider(n))"
   ]
  },
  {
   "cell_type": "markdown",
   "metadata": {},
   "source": [
    "# reduction of HALT_TM to A_TM"
   ]
  },
  {
   "cell_type": "code",
   "execution_count": 82,
   "metadata": {
    "collapsed": true
   },
   "outputs": [],
   "source": [
    "def A(M,w):\n",
    "    \"\"\"Function that supposedly decides whether M(w) accepts.\"\"\"\n",
    "    raise NotImplementedError()\n",
    "\n",
    "def opposite(M):\n",
    "    \"\"\"Given M, a Python function returning a Boolean, returns \n",
    "    Python function M_O that acts like M, but returns the \n",
    "    opposite value (but also loops whenever M loops).\"\"\"\n",
    "    def M_O(w):\n",
    "        return not M(w)\n",
    "    return M_O\n",
    "\n",
    "def H(M,w):\n",
    "    \"\"\"Decider for the halting problem that works assuming A works,\n",
    "    giving a contradiction and proving A cannot be implemented.\"\"\"\n",
    "    M_O = opposite(M)\n",
    "    return A(M,w) or A(M_O,w)"
   ]
  },
  {
   "cell_type": "code",
   "execution_count": 83,
   "metadata": {
    "collapsed": false
   },
   "outputs": [
    {
     "name": "stdout",
     "output_type": "stream",
     "text": [
      "M('abababab')   = False\n",
      "M_O('abababab') = True\n"
     ]
    }
   ],
   "source": [
    "def M(x):\n",
    "    count = 0\n",
    "    for c in x:\n",
    "        if c == \"a\":\n",
    "            count += 1\n",
    "    return count > 5\n",
    "\n",
    "M_O = opposite(M)\n",
    "\n",
    "print \"M('abababab')   = {}\".format(M('abababab'))\n",
    "print \"M_O('abababab') = {}\".format(M_O('abababab'))"
   ]
  },
  {
   "cell_type": "markdown",
   "metadata": {},
   "source": [
    "# reduction of HALT_TM to E_TM"
   ]
  },
  {
   "cell_type": "code",
   "execution_count": 84,
   "metadata": {
    "collapsed": true
   },
   "outputs": [],
   "source": [
    "def E(M,w):\n",
    "    \"\"\"Function that supposedly decides whether L(M) is empty.\"\"\"\n",
    "    raise NotImplementedError()\n",
    "\n",
    "def create_N_Mw(M,w):\n",
    "    \"\"\"Given M, a Python function M returning a Boolean, and string \n",
    "    w, returns Python function that accepts every string if M halts\n",
    "    on w, and loops on every string if M loops on w.\"\"\"\n",
    "    def N_Mw(x):\n",
    "        M(w)\n",
    "        return True\n",
    "    return N_Mw\n",
    "\n",
    "def H(M,w):\n",
    "    \"\"\"Decider for HALT_TM that works assuming E works,\n",
    "    giving a contradiction and proving E cannot be implemented.\"\"\"\n",
    "    N_Mw = create_N_Mw(M,w)\n",
    "    return not E(N_Mw)"
   ]
  },
  {
   "cell_type": "markdown",
   "metadata": {},
   "source": [
    "# reduction of HALT_TM to K0"
   ]
  },
  {
   "cell_type": "code",
   "execution_count": 85,
   "metadata": {
    "collapsed": true
   },
   "outputs": [],
   "source": [
    "def K(M):\n",
    "    \"\"\"Function that supposedly decides whether M(M) halts.\"\"\"\n",
    "    raise NotImplementedError()\n",
    "\n",
    "def create_N_Mw(M,w):\n",
    "    \"\"\"Given a Python function M and string w, returns Python \n",
    "    function that halts on every string if M halts\n",
    "    on w, and loops on every string if M loops on w.\"\"\"\n",
    "    def N_Mw(x):\n",
    "        M(w)\n",
    "    return N_Mw\n",
    "\n",
    "def H(M,w):\n",
    "    \"\"\"Decider for HALT_TM that works assuming K works,\n",
    "    giving a contradiction and proving K cannot be implemented.\"\"\"\n",
    "    N_Mw = create_N_Mw(M,w)\n",
    "    return K(N_Mw)"
   ]
  }
 ],
 "metadata": {
  "anaconda-cloud": {},
  "kernelspec": {
   "display_name": "Python 2",
   "language": "python",
   "name": "python2"
  },
  "language_info": {
   "codemirror_mode": {
    "name": "ipython",
    "version": 2
   },
   "file_extension": ".py",
   "mimetype": "text/x-python",
   "name": "python",
   "nbconvert_exporter": "python",
   "pygments_lexer": "ipython2",
   "version": "2.7.9"
  }
 },
 "nbformat": 4,
 "nbformat_minor": 0
}
