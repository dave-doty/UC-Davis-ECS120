{
 "cells": [
  {
   "cell_type": "markdown",
   "metadata": {},
   "source": [
    "# utility functions"
   ]
  },
  {
   "cell_type": "code",
   "execution_count": 1,
   "metadata": {
    "collapsed": true
   },
   "outputs": [],
   "source": [
    "def make_undirected(G):\n",
    "    \"\"\"Makes directed graph undirected by adding reverse edges.\"\"\"\n",
    "    V,E = G\n",
    "    reverse_edges = []\n",
    "    for (u,v) in E:\n",
    "        if (v,u) not in E and (v,u) not in reverse_edges:\n",
    "            reverse_edges.append((v,u))\n",
    "    return (V, E+reverse_edges)"
   ]
  },
  {
   "cell_type": "markdown",
   "metadata": {},
   "source": [
    "# path"
   ]
  },
  {
   "cell_type": "code",
   "execution_count": 3,
   "metadata": {
    "collapsed": false
   },
   "outputs": [],
   "source": [
    "import collections\n",
    "def path(G,s,t):\n",
    "    \"\"\"Check if there is a path from node s to node t in graph G.\"\"\"\n",
    "    V,E = G\n",
    "    visited = []\n",
    "    queue = collections.deque([s])\n",
    "    while queue: # |\\label{bfs:line-outer-loop}|\n",
    "        node = queue.popleft()\n",
    "        if node == t:\n",
    "            return True\n",
    "        if node not in visited:\n",
    "            visited.append(node)\n",
    "            node_neighbors = [ v for (u,v) in E if u==node ] # |\\label{bfs:line-find-neighbors}|\n",
    "            for neighbor in node_neighbors: # |\\label{bfs:line-inner-loop}|\n",
    "                if neighbor not in visited:\n",
    "                    queue.append(neighbor)\n",
    "    return False"
   ]
  },
  {
   "cell_type": "code",
   "execution_count": 5,
   "metadata": {
    "collapsed": false,
    "scrolled": true
   },
   "outputs": [
    {
     "name": "stdout",
     "output_type": "stream",
     "text": [
      "path from 4 to 1? False\n",
      "path from 1 to 4? True\n",
      "path from 4 to 1? True\n",
      "path from 1 to 4? True\n",
      "path from 4 to 7? False\n"
     ]
    }
   ],
   "source": [
    "V = [1,2,3,4,5,6,7,8]\n",
    "E = [ (1,2), (2,3), (3,4), (4,5), (6,7), (7,8), (8,6) ]\n",
    "G = (V,E)\n",
    "print \"path from {} to {}? {}\".format(4, 1, path(G, 4, 1))\n",
    "print \"path from {} to {}? {}\".format(1, 4, path(G, 1, 4))\n",
    "\n",
    "G = make_undirected(G)\n",
    "print \"path from {} to {}? {}\".format(4, 1, path(G, 4, 1))\n",
    "print \"path from {} to {}? {}\".format(1, 4, path(G, 1, 4))\n",
    "print \"path from {} to {}? {}\".format(4, 7, path(G, 4, 7))"
   ]
  },
  {
   "cell_type": "markdown",
   "metadata": {},
   "source": [
    "# relatively prime"
   ]
  },
  {
   "cell_type": "code",
   "execution_count": 6,
   "metadata": {
    "collapsed": false
   },
   "outputs": [],
   "source": [
    "def gcd(x,y):\n",
    "    \"\"\"Euclid's algorithm for greatest common divisor.\"\"\"\n",
    "    while y>0:\n",
    "        x = x % y\n",
    "        x,y = y,x\n",
    "    return x\n",
    "\n",
    "def rel_prime(x,y):\n",
    "    return gcd(x,y) == 1"
   ]
  },
  {
   "cell_type": "code",
   "execution_count": 7,
   "metadata": {
    "collapsed": false
   },
   "outputs": [
    {
     "name": "stdout",
     "output_type": "stream",
     "text": [
      "12 False\n",
      "1 True\n"
     ]
    }
   ],
   "source": [
    "print gcd(24,60), rel_prime(24,60)\n",
    "print gcd(25,63), rel_prime(25,63)"
   ]
  },
  {
   "cell_type": "markdown",
   "metadata": {},
   "source": [
    "# connected"
   ]
  },
  {
   "cell_type": "code",
   "execution_count": 8,
   "metadata": {
    "collapsed": true
   },
   "outputs": [],
   "source": [
    "import itertools\n",
    "def connected(G):\n",
    "    \"\"\"Check if G is connected.\"\"\"\n",
    "    V,E = G\n",
    "    for (s,t) in itertools.combinations(V,2):\n",
    "        if not path(G,s,t):\n",
    "            return False\n",
    "    return True"
   ]
  },
  {
   "cell_type": "code",
   "execution_count": 9,
   "metadata": {
    "collapsed": false
   },
   "outputs": [
    {
     "name": "stdout",
     "output_type": "stream",
     "text": [
      "False\n",
      "True\n"
     ]
    }
   ],
   "source": [
    "V = [1,2,3,4,5,6]\n",
    "E = [ (1,2), (2,3), (3,4), (4,1), (5,6) ]\n",
    "G = (V,E)\n",
    "G = make_undirected(G)\n",
    "print connected(G)\n",
    "\n",
    "V = [1,2,3,4,5,6]\n",
    "E = [ (1,2), (2,3), (3,4), (4,1), (5,6), (2,5) ]\n",
    "G = (V,E)\n",
    "G = make_undirected(G)\n",
    "print connected(G)"
   ]
  },
  {
   "cell_type": "markdown",
   "metadata": {},
   "source": [
    "# Eulerian path"
   ]
  },
  {
   "cell_type": "code",
   "execution_count": 11,
   "metadata": {
    "collapsed": true
   },
   "outputs": [],
   "source": [
    "def degree(node, E):\n",
    "    \"\"\"Return degree of node.\"\"\"\n",
    "    return sum(1 for (u,v) in E if u==node)\n",
    "\n",
    "def eulerian_path(G):\n",
    "    \"\"\"Check if G has an Eulerian path.\"\"\"\n",
    "    V,E = G\n",
    "    num_deg_odd = 0\n",
    "    V_pos = [] # nodes with positive degree\n",
    "    for u in V:\n",
    "        deg = degree(u, E)\n",
    "        if deg % 2 == 1:\n",
    "            num_deg_odd += 1\n",
    "        if deg > 0:\n",
    "            V_pos.append(u)\n",
    "    if num_deg_odd not in [0,2]:\n",
    "        return False\n",
    "    G_pos = (V_pos,E)\n",
    "    return connected(G_pos)"
   ]
  },
  {
   "cell_type": "code",
   "execution_count": 12,
   "metadata": {
    "collapsed": false
   },
   "outputs": [
    {
     "name": "stdout",
     "output_type": "stream",
     "text": [
      "False\n",
      "True\n"
     ]
    }
   ],
   "source": [
    "V = [1,2,3,4,5,6]\n",
    "E = [ (1,2), (2,3), (3,4), (4,1), (5,6) ]\n",
    "G = (V,E)\n",
    "G = make_undirected(G)\n",
    "print eulerian_path(G)\n",
    "\n",
    "V = [1,2,3,4,5,6]\n",
    "E = [ (1,2), (2,3), (3,4), (4,1), (5,1) ]\n",
    "G = (V,E)\n",
    "G = make_undirected(G)\n",
    "print eulerian_path(G)"
   ]
  },
  {
   "cell_type": "markdown",
   "metadata": {},
   "source": [
    "# Hamiltonian path verifier"
   ]
  },
  {
   "cell_type": "code",
   "execution_count": 13,
   "metadata": {
    "collapsed": true
   },
   "outputs": [],
   "source": [
    "def ham_path_verify(G, p):\n",
    "    \"\"\"Verify that p is a Hamiltonian path in G.\"\"\"\n",
    "    V,E = G\n",
    "    # verify each pair of adjacent nodes in p shares an edge\n",
    "    for i in range(len(p) - 1):\n",
    "        if (p[i],p[i+1]) not in E:\n",
    "            return False\n",
    "    # verify p has |V| nodes\n",
    "    if len(p) != len(V):\n",
    "        return False\n",
    "    # verify p has no duplicates\n",
    "    if len(set(p)) != len(p):\n",
    "        return False\n",
    "    return True"
   ]
  },
  {
   "cell_type": "code",
   "execution_count": 14,
   "metadata": {
    "collapsed": false
   },
   "outputs": [
    {
     "name": "stdout",
     "output_type": "stream",
     "text": [
      "False\n",
      "False\n",
      "True\n"
     ]
    }
   ],
   "source": [
    "V = [1,2,3,4,5]\n",
    "E = [ (1,2), (2,4), (4,3), (3,5), (3,1)]\n",
    "G = (V,E)\n",
    "\n",
    "p_bad = [1,2,3,4,5]\n",
    "print ham_path_verify(G, p_bad)\n",
    "\n",
    "p_bad2 = [1,2,4,3,1,2,4,3,5]\n",
    "print ham_path_verify(G, p_bad2)\n",
    "\n",
    "p_good = [1,2,4,3,5]\n",
    "print ham_path_verify(G, p_good)"
   ]
  },
  {
   "cell_type": "markdown",
   "metadata": {},
   "source": [
    "# composite verifier"
   ]
  },
  {
   "cell_type": "code",
   "execution_count": 2,
   "metadata": {
    "collapsed": false
   },
   "outputs": [],
   "source": [
    "def composite_verify(n,p):\n",
    "    \"\"\"Verify that p is a nontrivial divisor of n.\"\"\"\n",
    "    if not 1 < p < n:\n",
    "        return False\n",
    "    return n % p == 0 "
   ]
  },
  {
   "cell_type": "code",
   "execution_count": 6,
   "metadata": {
    "collapsed": false
   },
   "outputs": [
    {
     "name": "stdout",
     "output_type": "stream",
     "text": [
      "True\n",
      "False\n",
      "False False False False False False False False False False False False False False False False False False False\n",
      "False True True False False True False False True False False False False False False False False False False\n"
     ]
    }
   ],
   "source": [
    "print composite_verify(15, 3)\n",
    "print composite_verify(15, 4)\n",
    "                       \n",
    "for p in range(1,20):\n",
    "    print composite_verify(17, p), \n",
    "print\n",
    "\n",
    "for p in range(1,20):\n",
    "    print composite_verify(18, p), "
   ]
  },
  {
   "cell_type": "markdown",
   "metadata": {},
   "source": [
    "# clique verifier"
   ]
  },
  {
   "cell_type": "code",
   "execution_count": 13,
   "metadata": {
    "collapsed": true
   },
   "outputs": [],
   "source": [
    "import itertools\n",
    "def clique_v(G, k, C):\n",
    "    \"\"\"Verify C is a k-clique in G.\"\"\"\n",
    "    V,E = G\n",
    "    # verify C is the correct size\n",
    "    if len(C) != k:\n",
    "        return False\n",
    "    # verify each pair of nodes in C shares an edge\n",
    "    for (u,v) in itertools.combinations(C, 2):\n",
    "        if (u,v) not in E:\n",
    "            return False\n",
    "    return True"
   ]
  },
  {
   "cell_type": "code",
   "execution_count": 15,
   "metadata": {
    "collapsed": false
   },
   "outputs": [
    {
     "name": "stdout",
     "output_type": "stream",
     "text": [
      "[1, 2, 3, 4] is a 4-clique in G? True\n",
      "[3, 4, 5] is a 4-clique in G? False\n",
      "[1, 3, 4, 5] is a 4-clique in G? False\n"
     ]
    }
   ],
   "source": [
    "V = [1,2,3,4,5,6]\n",
    "E = [(1,2), (1,3), (1,4), (2,3), (2,4), (3,4), (4,5), (5,6), (4,6)]\n",
    "G = (V,E)\n",
    "G = make_undirected(G)\n",
    "\n",
    "C = [1,2,3,4]\n",
    "k = len(C)\n",
    "print '{} is a {}-clique in G? {}'.format(C, k, clique_v(G, k, C))\n",
    "\n",
    "C = [3,4,5]\n",
    "print '{} is a {}-clique in G? {}'.format(C, k, clique_v(G, k, C))\n",
    "\n",
    "C = [1,3,4,5]\n",
    "print '{} is a {}-clique in G? {}'.format(C, k, clique_v(G, k, C))"
   ]
  },
  {
   "cell_type": "markdown",
   "metadata": {},
   "source": [
    "# subset sum verifier"
   ]
  },
  {
   "cell_type": "code",
   "execution_count": 17,
   "metadata": {
    "collapsed": false
   },
   "outputs": [],
   "source": [
    "import itertools\n",
    "def subset_sum_v(C, t, S):\n",
    "    \"\"\"Verifies that S is a subcollection of C summing to t.\"\"\"\n",
    "    if sum(S) != t: # check sum\n",
    "        return False\n",
    "    C = list(C) # make copy that we can change\n",
    "    for n in S: # ensure S is a subcollection of C\n",
    "        if n not in C:\n",
    "            return False\n",
    "        C.remove(n)\n",
    "    return True"
   ]
  },
  {
   "cell_type": "code",
   "execution_count": 18,
   "metadata": {
    "collapsed": false
   },
   "outputs": [
    {
     "name": "stdout",
     "output_type": "stream",
     "text": [
      "False\n",
      "True\n"
     ]
    }
   ],
   "source": [
    "C = [1,2,3,4,5,6,7,8]\n",
    "t = 20\n",
    "S = [1,2,3,4,5,6]\n",
    "print subset_sum_v(C, t, S)\n",
    "\n",
    "C = [1,2,3,4,5,6,7,8]\n",
    "t = 20\n",
    "S = [8, 7, 5]\n",
    "print subset_sum_v(C, t, S)"
   ]
  },
  {
   "cell_type": "markdown",
   "metadata": {},
   "source": [
    "# NTM"
   ]
  },
  {
   "cell_type": "code",
   "execution_count": 19,
   "metadata": {
    "collapsed": true
   },
   "outputs": [],
   "source": [
    "import collections\n",
    "\n",
    "def next_configs(delta, config):\n",
    "    \"\"\"Apply delta to configuration (state, pos, content)\n",
    "    to get list of possible next configurations.\"\"\"\n",
    "    state, pos, content = config # give names to each part of triple\n",
    "    configs = []\n",
    "    symbol = content[pos]\n",
    "    for (new_state, new_symbol, move) in delta(state, symbol):\n",
    "        new_content = content[:pos] + new_symbol + content[pos+1:]\n",
    "        new_pos = max(0, pos + move)\n",
    "        if new_pos >= len(new_content):\n",
    "            new_content += \"-\"\n",
    "        config = (new_state, new_pos, new_content)\n",
    "        configs.append(config)\n",
    "    return configs\n",
    "\n",
    "def M(x):\n",
    "    \"\"\"An NTM that replaces its input with a\n",
    "    nondeterministically chosen string of the same length\n",
    "    accepts if it ever guessed a 1, otherwise rejects\"\"\"\n",
    "    init_config = (\"q0\", 0, x+\"_\")\n",
    "    def delta(state, symbol):\n",
    "        # if in halting state, no next configuration\n",
    "        if state in [\"qA\", \"qR\"]:\n",
    "            return []\n",
    "        if symbol == \"_\":  # if blank, halt\n",
    "            if state == \"q1\":\n",
    "                return [(\"qA\", \"_\", -1)]\n",
    "            elif state == \"q0\":\n",
    "                return [(\"qR\", \"_\", -1)]\n",
    "        else: \n",
    "            # write a 0 or 1 over the current symbol\n",
    "            # remember if a 1 is written\n",
    "            if state == \"q0\":\n",
    "                return [ (\"q0\", \"0\", 1), (\"q1\", \"1\", 1) ]\n",
    "            elif state == \"q1\":\n",
    "                return [ (\"q1\", \"0\", 1), (\"q1\", \"1\", 1) ]\n",
    "        assert False\n",
    "\n",
    "    # do breadth-first search of configuration graph\n",
    "    visited = []\n",
    "    queue = collections.deque([init_config])\n",
    "    while queue:\n",
    "        config = queue.popleft()\n",
    "        if config[0] == \"qA\":\n",
    "            return True\n",
    "        if config not in visited:\n",
    "            visited.append(config)\n",
    "            # get all possible next configurations; see below\n",
    "            neighbors = next_configs(delta, config)\n",
    "            for neighbor in neighbors:\n",
    "                if neighbor not in visited:\n",
    "                    queue.append(neighbor)\n",
    "    return False"
   ]
  },
  {
   "cell_type": "code",
   "execution_count": 20,
   "metadata": {
    "collapsed": false
   },
   "outputs": [
    {
     "data": {
      "text/plain": [
       "True"
      ]
     },
     "execution_count": 20,
     "metadata": {},
     "output_type": "execute_result"
    }
   ],
   "source": [
    "M('0101')"
   ]
  },
  {
   "cell_type": "markdown",
   "metadata": {},
   "source": [
    "# Hamiltonian path NTM"
   ]
  },
  {
   "cell_type": "code",
   "execution_count": 22,
   "metadata": {
    "collapsed": false
   },
   "outputs": [],
   "source": [
    "import random\n",
    "\n",
    "def ham_path_ntm(G):\n",
    "    \"\"\" 'NTM' (implemented via random) for deciding HamPath. \"\"\"\n",
    "    V,E = G\n",
    "    # guess a path p that visits each node exactly once\n",
    "    p = list(V)\n",
    "    random.shuffle(p)\n",
    "    # verify each pair of adjacent nodes in pi shares an edge\n",
    "    for i in range(len(p) - 1):\n",
    "        if (p[i],p[i+1]) not in E:\n",
    "            return False\n",
    "    print p, \n",
    "    return True"
   ]
  },
  {
   "cell_type": "code",
   "execution_count": 23,
   "metadata": {
    "collapsed": false
   },
   "outputs": [
    {
     "name": "stdout",
     "output_type": "stream",
     "text": [
      "False False False False False False False False False False False False False False False False False False False False False False False False False False False False False False False False False False False False False False False False False False False False False False False False False False False False False False False False False False False False False False False False False False False False False False [1, 2, 4, 3, 5] True False False False False False False False False False False False False False False False False False False False False False False False False False False False False False False False False False False [1, 2, 4, 3, 5] True False False False False False False False False False False False False [1, 2, 4, 3, 5] True False False False False False False False False False False False False False False False False False False False False False False False False False False False False False False False False False False False False False False False False False False False False False False False False False False False False False False False False False False False False False False False False False False False False False False False False False False False False False False False False False False False False False False False False False False [1, 2, 4, 3, 5] True False False False False False False False False False False False False False False False False False False False False False False False False False False False False False False False False False False False False False False False False False False False False False False False False False False False False False False False False False False False False False False False False False False False False False False False False False False False False False False False False False False False False False False False False False False False False False False False False False False False False False False False False False False False False False False False False False False False False False False [1, 2, 4, 3, 5] True False False False False False False False False False False False False False False False False False False False False False False False False False False False False False False False False False False False False False False False False False False False False False False False False False False False False False False False False False False False False False False False False False False False False False False False False False False False False False False False False False False False False False False False False False False False False False False False False False False False False False False False False False False False False False False False [1, 2, 4, 3, 5] True False False False False False False False False False False False False False False False False False False False False False False False False False False False False False False False False False False False False False False False False False False False False False False False False False False False False False False False False False False False\n"
     ]
    }
   ],
   "source": [
    "V = [1,2,3,4,5]\n",
    "E = [ (1,2), (2,4), (4,3), (3,5), (3,1)]\n",
    "G = (V,E)\n",
    "for _ in range(500):\n",
    "    print ham_path_ntm(G), "
   ]
  },
  {
   "cell_type": "markdown",
   "metadata": {},
   "source": [
    "# general exponential-time algorithm for finding NP witnesses"
   ]
  },
  {
   "cell_type": "code",
   "execution_count": null,
   "metadata": {
    "collapsed": true
   },
   "outputs": [],
   "source": [
    "import itertools \n",
    "\n",
    "def V_A(x,w):\n",
    "    \"\"\"Verifier for decision problem A.\"\"\"\n",
    "    raise NotImplementedError()\n",
    "\n",
    "def binary_strings_of_length(length):\n",
    "    \"\"\"A nice Python way to generate all strings of a given length.\"\"\"\n",
    "    return map(lambda lst: ''.join(lst), itertools.product(['0', '1'], repeat=length))\n",
    "\n",
    "def A_decider(x):\n",
    "    \"\"\"Exponential-time algorithm for finding witnesses.\"\"\"\n",
    "    n = len(x)\n",
    "    for m in range(n**c + 1): # check lengths m in [0,1,...,n^c]\n",
    "        for w in binary_strings_of_length(m):\n",
    "            if V_A(x,w): # assumes V_A is implemented\n",
    "                return True\n",
    "    return False"
   ]
  },
  {
   "cell_type": "markdown",
   "metadata": {},
   "source": [
    "# Hamiltonian path exponential-time deterministic algorithm"
   ]
  },
  {
   "cell_type": "code",
   "execution_count": 16,
   "metadata": {
    "collapsed": true
   },
   "outputs": [],
   "source": [
    "import itertools\n",
    "\n",
    "def ham_path_brute_force(G):\n",
    "    \"\"\"Exponential-time algorithm for finding Hamiltonian paths,\n",
    "    which calls the verifier on all potential witnesses.\"\"\"\n",
    "    V,E = G\n",
    "    for p in itertools.permutations(V):\n",
    "        if ham_path_verify(G, p):\n",
    "            return True\n",
    "    return False"
   ]
  },
  {
   "cell_type": "code",
   "execution_count": 17,
   "metadata": {
    "collapsed": false
   },
   "outputs": [
    {
     "name": "stdout",
     "output_type": "stream",
     "text": [
      "False\n",
      "True\n"
     ]
    }
   ],
   "source": [
    "V = [1,2,3,4,5,6]\n",
    "E = [ (1,2), (2,3), (3,4), (4,1), (5,6) ]\n",
    "G = (V,E)\n",
    "print ham_path_brute_force(G)\n",
    "\n",
    "V = [1,2,3,4,5,6]\n",
    "E = [ (1,2), (2,3), (3,4), (4,5), (5,6) ]\n",
    "G = (V,E)\n",
    "print ham_path_brute_force(G)"
   ]
  },
  {
   "cell_type": "markdown",
   "metadata": {},
   "source": [
    "# Boolean formulas"
   ]
  },
  {
   "cell_type": "code",
   "execution_count": 118,
   "metadata": {
    "collapsed": false
   },
   "outputs": [],
   "source": [
    "class Boolean_formula(object):\n",
    "    \"\"\"Represents a Boolean formula with AND, OR, and NOT operations.\"\"\"\n",
    "    def __init__(self, variable=None, op=None, phi=None, psi=None):\n",
    "        if not ( (variable == None and op == \"not\" and phi != None and psi == None) or \n",
    "                 (variable == None and op == \"and\" and phi != None and psi != None) or \n",
    "                 (variable == None and op == \"or\"  and phi != None and psi != None) or \n",
    "                 (variable != None and op == phi == psi == None) ):\n",
    "            raise ValueError(\"Must either set variable for base case\" +\\\n",
    "                             \"or must set op to 'not', 'and', or 'or'\" +\\\n",
    "                             \"and recursive formulas phi and psi\")\n",
    "        self.variable = variable\n",
    "        self.op = op\n",
    "        self.phi = phi\n",
    "        self.psi = psi\n",
    "        if self.variable:\n",
    "            self.variables = [variable]\n",
    "        elif op == 'not':\n",
    "            self.variables = phi.variables\n",
    "        elif op in ['and', 'or']:\n",
    "            self.variables = list(phi.variables)\n",
    "            self.variables.extend(x for x in psi.variables if x not in phi.variables)\n",
    "            self.variables.sort()\n",
    "        \n",
    "    def evaluate(self, assignment):\n",
    "        \"\"\"Value of this formula with given assignment,  a dict mapping variable names to Python booleans.\n",
    "        \n",
    "        Assignment can also be a string of bits, which will be mapped to variables in alphabetical order.\n",
    "        Boolean values are interconverted with integers to make for nicer printing \n",
    "        (0 and 1 versus True and False)\"\"\"\n",
    "        if type(assignment) is str:\n",
    "            assignment = dict(zip(self.variables, map(int, assignment)))\n",
    "        if self.op == None:\n",
    "            return assignment[self.variable]\n",
    "        elif self.op == 'not':\n",
    "            return int(not self.phi.evaluate(assignment))\n",
    "        elif self.op == 'and':\n",
    "            return int(self.phi.evaluate(assignment) and self.psi.evaluate(assignment))\n",
    "        elif self.op == 'or':\n",
    "            return int(self.phi.evaluate(assignment) or self.psi.evaluate(assignment))\n",
    "        else:\n",
    "            raise ValueError(\"This shouldn't be reachable\")"
   ]
  },
  {
   "cell_type": "code",
   "execution_count": 121,
   "metadata": {
    "collapsed": false
   },
   "outputs": [
    {
     "name": "stdout",
     "output_type": "stream",
     "text": [
      "formula value = 0 on assignment 000\n",
      "formula value = 1 on assignment 001\n",
      "formula value = 0 on assignment 010\n",
      "formula value = 0 on assignment 011\n",
      "formula value = 0 on assignment 100\n",
      "formula value = 1 on assignment 101\n",
      "formula value = 1 on assignment 110\n",
      "formula value = 1 on assignment 111\n"
     ]
    }
   ],
   "source": [
    "# verbose way to build formula (x and y) or (z and not y)\n",
    "# since I don't feel like writing a parser for Boolean formulas\n",
    "# if I want to do that in the future, go here:\n",
    "#   http://pyparsing.wikispaces.com/file/view/simpleBool.py\n",
    "x = Boolean_formula(variable=\"x\")\n",
    "y = Boolean_formula(variable=\"y\")\n",
    "z = Boolean_formula(variable=\"z\")\n",
    "x_and_y = Boolean_formula(op=\"and\", phi=x, psi=y)\n",
    "not_y = Boolean_formula(op=\"not\", phi=y)\n",
    "z_and_not_y = Boolean_formula(op=\"and\", phi=z, psi=not_y)\n",
    "formula = Boolean_formula(op=\"or\", phi=x_and_y, psi=z_and_not_y)\n",
    "\n",
    "import itertools\n",
    "num_variables = len(formula.variables)\n",
    "for assignment in itertools.product([\"0\",\"1\"], repeat=num_variables):\n",
    "    assignment = \"\".join(assignment)\n",
    "    value = formula.evaluate(assignment)\n",
    "    print \"formula value = {} on assignment {}\".format(value, assignment)"
   ]
  },
  {
   "cell_type": "markdown",
   "metadata": {},
   "source": [
    "# polynomial-time mapping reduction of Clique to Independent-Set"
   ]
  },
  {
   "cell_type": "code",
   "execution_count": 18,
   "metadata": {
    "collapsed": true
   },
   "outputs": [],
   "source": [
    "import itertools\n",
    "def reduction_from_clique_to_independent_set(G):\n",
    "    V,E = G\n",
    "    Ep = [ {u,v} for (u,v) in itertools.combinations(V,2) if {u,v} not in E and u!=v ]\n",
    "    Gp = (V,Ep)\n",
    "    return Gp"
   ]
  },
  {
   "cell_type": "code",
   "execution_count": 19,
   "metadata": {
    "collapsed": false
   },
   "outputs": [
    {
     "name": "stdout",
     "output_type": "stream",
     "text": [
      "([1, 2, 3, 4, 5, 6, 7],\n",
      " [set([1, 2]),\n",
      "  set([2, 3]),\n",
      "  set([3, 4]),\n",
      "  set([1, 5]),\n",
      "  set([5, 6]),\n",
      "  set([6, 7]),\n",
      "  set([2, 5]),\n",
      "  set([2, 6]),\n",
      "  set([3, 5]),\n",
      "  set([3, 6]),\n",
      "  set([3, 7])])\n",
      "([1, 2, 3, 4, 5, 6, 7],\n",
      " [set([1, 3]),\n",
      "  set([1, 4]),\n",
      "  set([1, 6]),\n",
      "  set([1, 7]),\n",
      "  set([2, 4]),\n",
      "  set([2, 7]),\n",
      "  set([4, 5]),\n",
      "  set([4, 6]),\n",
      "  set([4, 7]),\n",
      "  set([5, 7])])\n"
     ]
    }
   ],
   "source": [
    "from pprint import pprint\n",
    "V = [1,2,3,4,5,6,7]\n",
    "E = [ {1,2}, {2,3}, {3,4}, {1,5}, {5,6}, {6,7}, {2,5}, {2,6}, {3,5}, {3,6}, {3,7} ]\n",
    "G = (V,E)\n",
    "pprint(G)\n",
    "pprint(reduction_from_clique_to_independent_set(G))"
   ]
  },
  {
   "cell_type": "markdown",
   "metadata": {},
   "source": [
    "# using mapping reduction to show if B is in P, then A is in P"
   ]
  },
  {
   "cell_type": "code",
   "execution_count": null,
   "metadata": {
    "collapsed": true
   },
   "outputs": [],
   "source": [
    "def f(x):\n",
    "    raise NotImplementedError()\n",
    "    # TODO: code for f, reducing A to B, goes here\n",
    "\n",
    "def M(y):\n",
    "    raise NotImplementedError()\n",
    "    # TODO: code for M, deciding B, goes here\n",
    "\n",
    "def N(x):\n",
    "    \"\"\"Compose reduction f from A to B, with algorithm M for B,\n",
    "    to get algorithm N for A.\"\"\"\n",
    "    y = f(x)\n",
    "    output = M(y)\n",
    "    return output"
   ]
  },
  {
   "cell_type": "markdown",
   "metadata": {},
   "source": [
    "# enumerators"
   ]
  },
  {
   "cell_type": "code",
   "execution_count": 1,
   "metadata": {
    "collapsed": true
   },
   "outputs": [],
   "source": [
    "def is_prime(n):\n",
    "    \"\"\"Check if n is prime.\"\"\"\n",
    "    if n < 2: # 0 and 1 are not primes\n",
    "        return False\n",
    "    for x in xrange(2, int(n**0.5)+1):\n",
    "        if n % x == 0:\n",
    "            return False\n",
    "    return True\n",
    "\n",
    "import itertools\n",
    "def primes_enumerator():\n",
    "    \"\"\"Iterate over all prime numbers.\"\"\"\n",
    "    for n in itertools.count(): #iterates over all natural numbers\n",
    "        if is_prime(n):\n",
    "            yield n"
   ]
  },
  {
   "cell_type": "code",
   "execution_count": 2,
   "metadata": {
    "collapsed": false
   },
   "outputs": [
    {
     "name": "stdout",
     "output_type": "stream",
     "text": [
      "2 3 5 7 11 13 17 19 23 29 31 37 41 43 47 53 59 61 67 71 73 79 83 89 97 101 103 107 109 113 127 131 137 139 149 151 157 163 167 173 179 181 191 193 197 199 211 223 227 229 233 239 241 251 257 263 269 271 277 281 283 293 307 311 313 317 331 337 347 349 353 359 367 373 379 383 389 397 401 409 419 421 431 433 439 443 449 457 461 463 467 479 487 491 499 503 509 521 523 541\n"
     ]
    }
   ],
   "source": [
    "# print first 100 numbers returned from primes_enumerator()\n",
    "for (p, count) in zip(primes_enumerator(), range(100)):\n",
    "    print p,"
   ]
  }
 ],
 "metadata": {
  "anaconda-cloud": {},
  "kernelspec": {
   "display_name": "Python 2",
   "language": "python",
   "name": "python2"
  },
  "language_info": {
   "codemirror_mode": {
    "name": "ipython",
    "version": 2
   },
   "file_extension": ".py",
   "mimetype": "text/x-python",
   "name": "python",
   "nbconvert_exporter": "python",
   "pygments_lexer": "ipython2",
   "version": "2.7.9"
  }
 },
 "nbformat": 4,
 "nbformat_minor": 0
}
