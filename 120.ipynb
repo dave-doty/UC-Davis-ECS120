{
 "cells": [
  {
   "cell_type": "markdown",
   "metadata": {},
   "source": [
    "# utility functions"
   ]
  },
  {
   "cell_type": "code",
   "execution_count": 1,
   "metadata": {
    "collapsed": true
   },
   "outputs": [],
   "source": [
    "def make_undirected(G):\n",
    "    \"\"\"Makes directed graph undirected by adding reverse edges.\"\"\"\n",
    "    V,E = G\n",
    "    reverse_edges = []\n",
    "    for (u,v) in E:\n",
    "        if (v,u) not in E and (v,u) not in reverse_edges:\n",
    "            reverse_edges.append((v,u))\n",
    "    return (V, E+reverse_edges)"
   ]
  },
  {
   "cell_type": "markdown",
   "metadata": {},
   "source": [
    "# Path"
   ]
  },
  {
   "cell_type": "code",
   "execution_count": 2,
   "metadata": {
    "collapsed": false
   },
   "outputs": [],
   "source": [
    "import collections\n",
    "def path(G,s,t):\n",
    "    \"\"\"Check if there is a path from node s to node t in graph G.\"\"\"\n",
    "    V,E = G\n",
    "    visited = []\n",
    "    queue = collections.deque([s])\n",
    "    while queue: # |\\label{bfs:line-outer-loop}|\n",
    "        node = queue.popleft()\n",
    "        if node == t:\n",
    "            return True\n",
    "        if node not in visited:\n",
    "            visited.append(node)\n",
    "            node_neighbors = [ v for (u,v) in E if u==node ] # |\\label{bfs:line-find-neighbors}|\n",
    "            for neighbor in node_neighbors: # |\\label{bfs:line-inner-loop}|\n",
    "                if neighbor not in visited:\n",
    "                    queue.append(neighbor)\n",
    "    return False"
   ]
  },
  {
   "cell_type": "code",
   "execution_count": 3,
   "metadata": {
    "collapsed": false,
    "scrolled": true
   },
   "outputs": [
    {
     "name": "stdout",
     "output_type": "stream",
     "text": [
      "path from 4 to 1? False\n",
      "path from 1 to 4? True\n",
      "path from 4 to 1? True\n",
      "path from 1 to 4? True\n",
      "path from 4 to 7? False\n"
     ]
    }
   ],
   "source": [
    "V = [1,2,3,4,5,6,7,8]\n",
    "E = [ (1,2), (2,3), (3,4), (4,5), (6,7), (7,8), (8,6) ]\n",
    "G = (V,E)\n",
    "print \"path from {} to {}? {}\".format(4, 1, path(G, 4, 1))\n",
    "print \"path from {} to {}? {}\".format(1, 4, path(G, 1, 4))\n",
    "\n",
    "G = make_undirected(G)\n",
    "print \"path from {} to {}? {}\".format(4, 1, path(G, 4, 1))\n",
    "print \"path from {} to {}? {}\".format(1, 4, path(G, 1, 4))\n",
    "print \"path from {} to {}? {}\".format(4, 7, path(G, 4, 7))"
   ]
  },
  {
   "cell_type": "markdown",
   "metadata": {},
   "source": [
    "# relatively prime"
   ]
  },
  {
   "cell_type": "code",
   "execution_count": 4,
   "metadata": {
    "collapsed": false
   },
   "outputs": [],
   "source": [
    "def gcd(x,y):\n",
    "    \"\"\"Euclid's algorithm for greatest common divisor.\"\"\"\n",
    "    while y>0:\n",
    "        x = x % y\n",
    "        x,y = y,x\n",
    "    return x\n",
    "\n",
    "def rel_prime(x,y):\n",
    "    return gcd(x,y) == 1"
   ]
  },
  {
   "cell_type": "code",
   "execution_count": 5,
   "metadata": {
    "collapsed": false
   },
   "outputs": [
    {
     "name": "stdout",
     "output_type": "stream",
     "text": [
      "12 False\n",
      "1 True\n"
     ]
    }
   ],
   "source": [
    "print gcd(24,60), rel_prime(24,60)\n",
    "print gcd(25,63), rel_prime(25,63)"
   ]
  },
  {
   "cell_type": "markdown",
   "metadata": {},
   "source": [
    "# Connected"
   ]
  },
  {
   "cell_type": "code",
   "execution_count": 6,
   "metadata": {
    "collapsed": true
   },
   "outputs": [],
   "source": [
    "import itertools\n",
    "def connected(G):\n",
    "    \"\"\"Check if G is connected.\"\"\"\n",
    "    V,E = G\n",
    "    for (s,t) in itertools.combinations(V,2):\n",
    "        if not path(G,s,t):\n",
    "            return False\n",
    "    return True"
   ]
  },
  {
   "cell_type": "code",
   "execution_count": 7,
   "metadata": {
    "collapsed": false
   },
   "outputs": [
    {
     "name": "stdout",
     "output_type": "stream",
     "text": [
      "False\n",
      "True\n"
     ]
    }
   ],
   "source": [
    "V = [1,2,3,4,5,6]\n",
    "E = [ (1,2), (2,3), (3,4), (4,1), (5,6) ]\n",
    "G = (V,E)\n",
    "G = make_undirected(G)\n",
    "print connected(G)\n",
    "\n",
    "V = [1,2,3,4,5,6]\n",
    "E = [ (1,2), (2,3), (3,4), (4,1), (5,6), (2,5) ]\n",
    "G = (V,E)\n",
    "G = make_undirected(G)\n",
    "print connected(G)"
   ]
  },
  {
   "cell_type": "markdown",
   "metadata": {},
   "source": [
    "# Eulerian path"
   ]
  },
  {
   "cell_type": "code",
   "execution_count": 8,
   "metadata": {
    "collapsed": true
   },
   "outputs": [],
   "source": [
    "def degree(node, E):\n",
    "    \"\"\"Return degree of node.\"\"\"\n",
    "    return sum(1 for (u,v) in E if u==node)\n",
    "\n",
    "def eulerian_path(G):\n",
    "    \"\"\"Check if G has an Eulerian path.\"\"\"\n",
    "    V,E = G\n",
    "    num_deg_odd = 0\n",
    "    V_pos = [] # nodes with positive degree\n",
    "    for u in V:\n",
    "        deg = degree(u, E)\n",
    "        if deg % 2 == 1:\n",
    "            num_deg_odd += 1\n",
    "        if deg > 0:\n",
    "            V_pos.append(u)\n",
    "    if num_deg_odd not in [0,2]:\n",
    "        return False\n",
    "    G_pos = (V_pos,E)\n",
    "    return connected(G_pos)"
   ]
  },
  {
   "cell_type": "code",
   "execution_count": 9,
   "metadata": {
    "collapsed": false
   },
   "outputs": [
    {
     "name": "stdout",
     "output_type": "stream",
     "text": [
      "False\n",
      "True\n"
     ]
    }
   ],
   "source": [
    "V = [1,2,3,4,5,6]\n",
    "E = [ (1,2), (2,3), (3,4), (4,1), (5,6) ]\n",
    "G = (V,E)\n",
    "G = make_undirected(G)\n",
    "print eulerian_path(G)\n",
    "\n",
    "V = [1,2,3,4,5,6]\n",
    "E = [ (1,2), (2,3), (3,4), (4,1), (5,1) ]\n",
    "G = (V,E)\n",
    "G = make_undirected(G)\n",
    "print eulerian_path(G)"
   ]
  },
  {
   "cell_type": "markdown",
   "metadata": {},
   "source": [
    "# Hamiltonian path verifier"
   ]
  },
  {
   "cell_type": "code",
   "execution_count": 10,
   "metadata": {
    "collapsed": true
   },
   "outputs": [],
   "source": [
    "def ham_path_verify(G, p):\n",
    "    \"\"\"Verify that p is a Hamiltonian path in G.\"\"\"\n",
    "    V,E = G\n",
    "    # verify each pair of adjacent nodes in p shares an edge\n",
    "    for i in range(len(p) - 1):\n",
    "        if (p[i],p[i+1]) not in E:\n",
    "            return False\n",
    "    # verify each node in V appears in p\n",
    "    if set(p) != set(V):\n",
    "        return False\n",
    "    # verify each node in V appears exactly once in p\n",
    "    if len(set(p)) != len(p):\n",
    "        return False\n",
    "    return True"
   ]
  },
  {
   "cell_type": "code",
   "execution_count": 11,
   "metadata": {
    "collapsed": false
   },
   "outputs": [
    {
     "name": "stdout",
     "output_type": "stream",
     "text": [
      "False\n",
      "False\n",
      "True\n"
     ]
    }
   ],
   "source": [
    "V = [1,2,3,4,5]\n",
    "E = [ (1,2), (2,4), (4,3), (3,5), (3,1)]\n",
    "G = (V,E)\n",
    "\n",
    "p_bad = [1,2,3,4,5]\n",
    "print ham_path_verify(G, p_bad)\n",
    "\n",
    "p_bad2 = [1,2,4,3,1,2,4,3,5]\n",
    "print ham_path_verify(G, p_bad2)\n",
    "\n",
    "p_good = [1,2,4,3,5]\n",
    "print ham_path_verify(G, p_good)"
   ]
  },
  {
   "cell_type": "markdown",
   "metadata": {},
   "source": [
    "# composite verifier"
   ]
  },
  {
   "cell_type": "code",
   "execution_count": 12,
   "metadata": {
    "collapsed": false
   },
   "outputs": [],
   "source": [
    "def composite_verify(n,p):\n",
    "    \"\"\"Verify that p is a nontrivial divisor of n.\"\"\"\n",
    "    if not 1 < p < n:\n",
    "        return False\n",
    "    return n % p == 0 "
   ]
  },
  {
   "cell_type": "code",
   "execution_count": 13,
   "metadata": {
    "collapsed": false
   },
   "outputs": [
    {
     "name": "stdout",
     "output_type": "stream",
     "text": [
      "True\n",
      "False False False False False False False False False False False False False False False False False False False\n"
     ]
    }
   ],
   "source": [
    "print composite_verify(15, 3)\n",
    "for p in range(1,20):\n",
    "    print composite_verify(17, p), "
   ]
  },
  {
   "cell_type": "markdown",
   "metadata": {},
   "source": [
    "# NTM"
   ]
  },
  {
   "cell_type": "code",
   "execution_count": 14,
   "metadata": {
    "collapsed": true
   },
   "outputs": [],
   "source": [
    "import collections\n",
    "\n",
    "def M(x):\n",
    "    init_config = (\"q0\", 0, x+\"_\")\n",
    "    def delta(state, symbol):\n",
    "        return [ (state, symbol, 1), (\"q0\", \"0\", -1) ]\n",
    "    visited = []\n",
    "    queue = collections.deque([init_config])\n",
    "    while queue:\n",
    "        config = queue.popleft()\n",
    "        if config.state == \"qA\":\n",
    "            return True\n",
    "        if config not in visited:\n",
    "            visited.append(config)\n",
    "            # get all possible next configurations; see below\n",
    "            neighbors = next_configs(delta, config)\n",
    "            for neighbor in neighbors:\n",
    "                if neighbor not in visited:\n",
    "                    queue.append(neighbor)\n",
    "    return False\n",
    "\n",
    "def next_configs(delta, config):\n",
    "    \"\"\"Apply delta to configuration (state, pos, content)\n",
    "    to get list of possible next configurations.\"\"\"\n",
    "    state, pos, content = config # give names to each part of triple\n",
    "    configs = []\n",
    "    symbol = content[pos]\n",
    "    for (new_state, new_symbol, move) in delta(state, symbol):\n",
    "        new_content = content[:pos] + new_symbol + content[pos+1:]\n",
    "        new_pos = max(0, pos + move)\n",
    "        if new_pos >= len(new_content):\n",
    "            new_content += \"-\"\n",
    "        config = (new_state, new_pos, new_content)\n",
    "        configs.append(config)\n",
    "    return configs\n",
    "\n",
    "#TODO: make up a more interesting NTM"
   ]
  },
  {
   "cell_type": "code",
   "execution_count": 15,
   "metadata": {
    "collapsed": false
   },
   "outputs": [
    {
     "name": "stdout",
     "output_type": "stream",
     "text": [
      "False False False False False False False False False False False False False False False False False False False False False False False False False False False False False False False False False False False False False False False False False False False False False False False False False False False False False [1, 2, 4, 3, 5] True False False False False False False False False False False False False False False False False False False False False False False False False False False False False False False False False False False False False False False False False False False False False False False\n"
     ]
    }
   ],
   "source": [
    "import random\n",
    "\n",
    "def N1(G):\n",
    "    \"\"\"NTM (nondeterminism implemented via random) deciding HamPath.\"\"\"\n",
    "    V,E = G\n",
    "    # guess a path p that visits each node exactly once\n",
    "    p = list(V)\n",
    "    random.shuffle(p)\n",
    "    # verify each pair of adjacent nodes in pi shares an edge\n",
    "    for i in range(len(p) - 1):\n",
    "        if (p[i],p[i+1]) not in E:\n",
    "            return False\n",
    "    print p, \n",
    "    return True\n",
    "\n",
    "V = [1,2,3,4,5]\n",
    "E = [ (1,2), (2,4), (4,3), (3,5), (3,1)]\n",
    "G = (V,E)\n",
    "for _ in range(100):\n",
    "    print N1(G), "
   ]
  },
  {
   "cell_type": "markdown",
   "metadata": {},
   "source": [
    "# Hamiltonian path exponential-time deterministic algorithm"
   ]
  },
  {
   "cell_type": "code",
   "execution_count": 16,
   "metadata": {
    "collapsed": true
   },
   "outputs": [],
   "source": [
    "import itertools\n",
    "\n",
    "def ham_path_brute_force(G):\n",
    "    \"\"\"Exponential-time algorithm for finding Hamiltonian paths,\n",
    "    which calls the verifier on all potential witnesses.\"\"\"\n",
    "    V,E = G\n",
    "    for p in itertools.permutations(V):\n",
    "        if ham_path_verify(G, p):\n",
    "            return True\n",
    "    return False"
   ]
  },
  {
   "cell_type": "code",
   "execution_count": 17,
   "metadata": {
    "collapsed": false
   },
   "outputs": [
    {
     "name": "stdout",
     "output_type": "stream",
     "text": [
      "False\n",
      "True\n"
     ]
    }
   ],
   "source": [
    "V = [1,2,3,4,5,6]\n",
    "E = [ (1,2), (2,3), (3,4), (4,1), (5,6) ]\n",
    "G = (V,E)\n",
    "print ham_path_brute_force(G)\n",
    "\n",
    "V = [1,2,3,4,5,6]\n",
    "E = [ (1,2), (2,3), (3,4), (4,5), (5,6) ]\n",
    "G = (V,E)\n",
    "print ham_path_brute_force(G)"
   ]
  },
  {
   "cell_type": "markdown",
   "metadata": {},
   "source": [
    "# clique verifier"
   ]
  },
  {
   "cell_type": "code",
   "execution_count": 18,
   "metadata": {
    "collapsed": true
   },
   "outputs": [],
   "source": [
    "import itertools\n",
    "def clique_v(G, k, C):\n",
    "    \"\"\"Verify C is a k-clique in G.\"\"\"\n",
    "    V,E = G\n",
    "    # verify C is the correct size\n",
    "    if len(C) != k:\n",
    "        return False\n",
    "    # verify each pair of nodes in C shares an edge\n",
    "    for (u,v) in itertools.combinations(C, 2):\n",
    "        if (u,v) not in E:\n",
    "            return False\n",
    "    return True"
   ]
  },
  {
   "cell_type": "code",
   "execution_count": 19,
   "metadata": {
    "collapsed": false
   },
   "outputs": [
    {
     "name": "stdout",
     "output_type": "stream",
     "text": [
      "[1, 2, 3, 4] is a 4-clique in G? True\n",
      "[3, 4, 5] is a 4-clique in G? False\n"
     ]
    }
   ],
   "source": [
    "V = [1,2,3,4,5,6]\n",
    "E = [(1,2), (1,3), (1,4), (2,3), (2,4), (3,4), (4,5), (5,6), (4,6)]\n",
    "G = (V,E)\n",
    "G = make_undirected(G)\n",
    "\n",
    "C = [1,2,3,4]\n",
    "k = len(C)\n",
    "print '{} is a {}-clique in G? {}'.format(C, k, clique_v(G, k, C))\n",
    "\n",
    "C = [3,4,5]\n",
    "print '{} is a {}-clique in G? {}'.format(C, k, clique_v(G, k, C))"
   ]
  },
  {
   "cell_type": "markdown",
   "metadata": {},
   "source": [
    "# subset sum verifier"
   ]
  },
  {
   "cell_type": "code",
   "execution_count": 20,
   "metadata": {
    "collapsed": false
   },
   "outputs": [],
   "source": [
    "import itertools\n",
    "def subset_sum_v(C, t, S):\n",
    "    \"\"\"Verifies that S is a subcollection of C summing to t.\"\"\"\n",
    "    if sum(S) != t: # check sum\n",
    "        return False\n",
    "    C = list(C) # make copy that we can change\n",
    "    for n in S: # ensure S is a subcollection of C\n",
    "        if n not in C:\n",
    "            return False\n",
    "        C.remove(n)\n",
    "    return True"
   ]
  },
  {
   "cell_type": "code",
   "execution_count": 21,
   "metadata": {
    "collapsed": false
   },
   "outputs": [
    {
     "name": "stdout",
     "output_type": "stream",
     "text": [
      "False\n",
      "True\n"
     ]
    }
   ],
   "source": [
    "C = [1,2,3,4,5,6,7,8]\n",
    "t = 20\n",
    "S = [1,2,3,4,5,6]\n",
    "print subset_sum_v(C, t, S)\n",
    "\n",
    "C = [1,2,3,4,5,6,7,8]\n",
    "t = 20\n",
    "S = [8, 7, 5]\n",
    "print subset_sum_v(C, t, S)"
   ]
  }
 ],
 "metadata": {
  "kernelspec": {
   "display_name": "Python 2",
   "language": "python",
   "name": "python2"
  },
  "language_info": {
   "codemirror_mode": {
    "name": "ipython",
    "version": 2
   },
   "file_extension": ".py",
   "mimetype": "text/x-python",
   "name": "python",
   "nbconvert_exporter": "python",
   "pygments_lexer": "ipython2",
   "version": "2.7.9"
  }
 },
 "nbformat": 4,
 "nbformat_minor": 0
}
