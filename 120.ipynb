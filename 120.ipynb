{
 "cells": [
  {
   "cell_type": "markdown",
   "metadata": {},
   "source": [
    "# utility functions"
   ]
  },
  {
   "cell_type": "code",
   "execution_count": 1,
   "metadata": {},
   "outputs": [],
   "source": [
    "def add_reverse_edges(G):\n",
    "    \"\"\"Makes directed graph undirected by adding reverse edges.\"\"\"\n",
    "    V,E = G\n",
    "    reverse_edges = []\n",
    "    for (u,v) in E:\n",
    "        if (v,u) not in E and (v,u) not in reverse_edges:\n",
    "            reverse_edges.append((v,u))\n",
    "    return (V, E+reverse_edges)\n",
    "\n",
    "def make_undirected(G):\n",
    "    \"\"\"Makes directed graph undirected by replacing ordered edge pairs with unordered sets.\"\"\"\n",
    "    V,E = G\n",
    "    Eu = []\n",
    "    for (u,v) in E:\n",
    "        if {u,v} not in Eu:\n",
    "            Eu.append({u,v})\n",
    "    return (V, Eu)\n",
    "\n",
    "def is_prime(n):\n",
    "    \"\"\"Check if n is prime.\"\"\"\n",
    "    if n < 2: # 0 and 1 are not primes\n",
    "        return False\n",
    "    for x in range(2, int(n**0.5)+1):\n",
    "        if n % x == 0:\n",
    "            return False\n",
    "    return True"
   ]
  },
  {
   "cell_type": "markdown",
   "metadata": {},
   "source": [
    "# path"
   ]
  },
  {
   "cell_type": "code",
   "execution_count": 2,
   "metadata": {},
   "outputs": [],
   "source": [
    "import collections\n",
    "def path(G,s,t):\n",
    "    \"\"\"Check if there is a path from node s to node t in graph G.\"\"\"\n",
    "    V,E = G\n",
    "    visited = []\n",
    "    queue = collections.deque([s])\n",
    "    while queue: # |\\label{bfs:line-outer-loop}|\n",
    "        node = queue.popleft()\n",
    "        if node == t:\n",
    "            return True\n",
    "        if node not in visited:\n",
    "            visited.append(node)\n",
    "            node_neighbors = [ v for (u,v) in E if u==node ] # |\\label{bfs:line-find-neighbors}|\n",
    "            for neighbor in node_neighbors: # |\\label{bfs:line-inner-loop}|\n",
    "                if neighbor not in visited:\n",
    "                    queue.append(neighbor)\n",
    "    return False"
   ]
  },
  {
   "cell_type": "code",
   "execution_count": 6,
   "metadata": {
    "scrolled": true
   },
   "outputs": [
    {
     "name": "stdout",
     "output_type": "stream",
     "text": [
      "path from 4 to 1? False\n",
      "path from 1 to 4? True\n",
      "path from 4 to 1? True\n",
      "path from 1 to 4? True\n",
      "path from 4 to 7? False\n"
     ]
    }
   ],
   "source": [
    "V = [1,2,3,4,5,6,7,8]\n",
    "E = [ (1,2), (2,3), (3,4), (4,5), (6,7), (7,8), (8,6) ]\n",
    "\n",
    "G = (V,E)\n",
    "print( \"path from {} to {}? {}\".format(4, 1, path(G, 4, 1)))\n",
    "print( \"path from {} to {}? {}\".format(1, 4, path(G, 1, 4)))\n",
    "\n",
    "G = add_reverse_edges(G)\n",
    "print( \"path from {} to {}? {}\".format(4, 1, path(G, 4, 1)))\n",
    "print( \"path from {} to {}? {}\".format(1, 4, path(G, 1, 4)))\n",
    "print( \"path from {} to {}? {}\".format(4, 7, path(G, 4, 7)))"
   ]
  },
  {
   "cell_type": "code",
   "execution_count": null,
   "metadata": {},
   "outputs": [],
   "source": [
    "def path_verify(G,s,t,p):\n",
    "    V,E = G\n",
    "    n = len(V)\n",
    "    if p[0] != s or p[-1] != t:\n",
    "        return False\n",
    "    for i in range(len(p)-1): # i=0,1,2,...,|p|-1\n",
    "        if (p[i],p[i+1]) not in E:\n",
    "            return False\n",
    "    return True\n",
    "\n",
    "def path_verify_exact_length(G,s,t,p):\n",
    "    V,E = G\n",
    "    n = len(V)\n",
    "    if len(p) != n:\n",
    "        return False\n",
    "    idx = p.index(0)\n",
    "    p_shortened = p[:idx]\n",
    "    return path_verify(G,s,t,p_shortened)"
   ]
  },
  {
   "cell_type": "code",
   "execution_count": 4,
   "metadata": {},
   "outputs": [
    {
     "name": "stdout",
     "output_type": "stream",
     "text": [
      "True\n",
      "True\n",
      "True\n"
     ]
    }
   ],
   "source": [
    "V = [1,2,3,4,5,6,7,8]\n",
    "E = [ (1,2), (2,3), (3,4), (4,5), (5,6), (6,7), (7,8), (8,6) ]\n",
    "G = (V,E)\n",
    "G = add_reverse_edges(G)\n",
    "p = [3,4,5,6,8,7]\n",
    "print(path_verify(G,3,7,p))\n",
    "p = [3,4,5,6,7]\n",
    "print(path_verify(G,3,7,p))\n",
    "p_exact = [3,4,5,6,7,0,0,0]\n",
    "print(path_verify_exact_length(G,3,7,p_exact))"
   ]
  },
  {
   "cell_type": "markdown",
   "metadata": {},
   "source": [
    "# relatively prime"
   ]
  },
  {
   "cell_type": "code",
   "execution_count": 11,
   "metadata": {
    "collapsed": true
   },
   "outputs": [],
   "source": [
    "def gcd(x,y):\n",
    "    \"\"\"Euclid's algorithm for greatest common divisor.\"\"\"\n",
    "    while y>0:\n",
    "        x = x % y\n",
    "        x,y = y,x\n",
    "    return x\n",
    "\n",
    "def rel_prime(x,y):\n",
    "    return gcd(x,y) == 1"
   ]
  },
  {
   "cell_type": "code",
   "execution_count": 12,
   "metadata": {},
   "outputs": [
    {
     "name": "stdout",
     "output_type": "stream",
     "text": [
      "12 False\n",
      "1 True\n"
     ]
    }
   ],
   "source": [
    "print( gcd(24,60), rel_prime(24,60))\n",
    "print( gcd(25,63), rel_prime(25,63))"
   ]
  },
  {
   "cell_type": "markdown",
   "metadata": {},
   "source": [
    "# connected"
   ]
  },
  {
   "cell_type": "code",
   "execution_count": 5,
   "metadata": {
    "collapsed": true
   },
   "outputs": [],
   "source": [
    "import itertools\n",
    "def connected(G):\n",
    "    \"\"\"Check if G is connected.\"\"\"\n",
    "    V,E = G\n",
    "    for (s,t) in itertools.combinations(V,2):\n",
    "        if not path(G,s,t):\n",
    "            return False\n",
    "    return True"
   ]
  },
  {
   "cell_type": "code",
   "execution_count": 14,
   "metadata": {},
   "outputs": [
    {
     "name": "stdout",
     "output_type": "stream",
     "text": [
      "False\n",
      "True\n"
     ]
    }
   ],
   "source": [
    "V = [1,2,3,4,5,6]\n",
    "E = [ (1,2), (2,3), (3,4), (4,1), (5,6) ]\n",
    "G = (V,E)\n",
    "G = add_reverse_edges(G)\n",
    "print(connected(G))\n",
    "\n",
    "V = [1,2,3,4,5,6]\n",
    "E = [ (1,2), (2,3), (3,4), (4,1), (5,6), (2,5) ]\n",
    "G = (V,E)\n",
    "G = add_reverse_edges(G)\n",
    "print(connected(G))"
   ]
  },
  {
   "cell_type": "markdown",
   "metadata": {},
   "source": [
    "# Eulerian path"
   ]
  },
  {
   "cell_type": "code",
   "execution_count": 3,
   "metadata": {
    "collapsed": true
   },
   "outputs": [],
   "source": [
    "def degree(node, E):\n",
    "    \"\"\"Return degree of node.\"\"\"\n",
    "    return sum(1 for (u,v) in E if u==node)\n",
    "\n",
    "def eulerian_path(G):\n",
    "    \"\"\"Check if G has an Eulerian path.\"\"\"\n",
    "    V,E = G\n",
    "    num_deg_odd = 0\n",
    "    V_pos = [] # nodes with positive degree\n",
    "    for u in V:\n",
    "        deg = degree(u, E)\n",
    "        if deg % 2 == 1:\n",
    "            num_deg_odd += 1\n",
    "        if deg > 0:\n",
    "            V_pos.append(u)\n",
    "    if num_deg_odd not in [0,2]:\n",
    "        return False\n",
    "    G_pos = (V_pos,E)\n",
    "    return connected(G_pos)"
   ]
  },
  {
   "cell_type": "code",
   "execution_count": 8,
   "metadata": {},
   "outputs": [
    {
     "name": "stdout",
     "output_type": "stream",
     "text": [
      "False\n",
      "True\n"
     ]
    }
   ],
   "source": [
    "V = [1,2,3,4,5,6]\n",
    "E = [ (1,2), (2,3), (3,4), (4,1), (5,6) ]\n",
    "G = (V,E)\n",
    "G = add_reverse_edges(G)\n",
    "print(eulerian_path(G))\n",
    "\n",
    "V = [1,2,3,4,5,6]\n",
    "E = [ (1,2), (2,3), (3,4), (4,1), (5,1) ]\n",
    "G = (V,E)\n",
    "G = add_reverse_edges(G)\n",
    "print(eulerian_path(G))"
   ]
  },
  {
   "cell_type": "markdown",
   "metadata": {},
   "source": [
    "# Hamiltonian path verifier"
   ]
  },
  {
   "cell_type": "code",
   "execution_count": 3,
   "metadata": {},
   "outputs": [],
   "source": [
    "def ham_path_verify(G,p):\n",
    "    \"\"\"Verify that p is a Hamiltonian path in G.\"\"\"\n",
    "    V,E = G\n",
    "    # verify each pair of adjacent nodes in p shares an edge\n",
    "    for i in range(len(p) - 1):\n",
    "        if (p[i],p[i+1]) not in E:\n",
    "            return False\n",
    "    # verify p has |V| nodes\n",
    "    if len(p) != len(V):\n",
    "        return False\n",
    "    # verify p has no duplicates\n",
    "    if len(set(p)) != len(p):\n",
    "        return False\n",
    "    return True"
   ]
  },
  {
   "cell_type": "code",
   "execution_count": 8,
   "metadata": {},
   "outputs": [
    {
     "name": "stdout",
     "output_type": "stream",
     "text": [
      "False\n",
      "False\n",
      "False\n",
      "True\n"
     ]
    }
   ],
   "source": [
    "V = [1,2,3,4,5]\n",
    "E = [ (1,2), (2,4), (4,3), (3,5), (3,1)]\n",
    "G = (V,E)\n",
    "\n",
    "p_bad = [1,2,3,4,5]\n",
    "print(ham_path_verify(G, p_bad))\n",
    "\n",
    "p_bad2 = [1,2,4,3,1,2,4,3,5]\n",
    "print(ham_path_verify(G, p_bad2))\n",
    "\n",
    "p_bad3 = [1,2,4]\n",
    "print(ham_path_verify(G, p_bad3))\n",
    "\n",
    "p_good = [1,2,4,3,5]\n",
    "print(ham_path_verify(G, p_good))"
   ]
  },
  {
   "cell_type": "markdown",
   "metadata": {},
   "source": [
    "# composite verifier"
   ]
  },
  {
   "cell_type": "code",
   "execution_count": 9,
   "metadata": {},
   "outputs": [],
   "source": [
    "def composite_verify(n,d):\n",
    "    \"\"\"Verify that d is a nontrivial divisor of n.\"\"\"\n",
    "    if not 1 < d < n:\n",
    "        return False\n",
    "    return n % d == 0\n",
    "\n",
    "def prime_verify_bad(n,d):\n",
    "    \"\"\"Verify that d is a nontrivial divisor of n.\"\"\"\n",
    "    if not 1 < d < n:\n",
    "        return True\n",
    "    return n % d != 0"
   ]
  },
  {
   "cell_type": "code",
   "execution_count": 10,
   "metadata": {},
   "outputs": [
    {
     "name": "stdout",
     "output_type": "stream",
     "text": [
      "True\n",
      "False\n",
      "False False False False False False False False False False False False False False False \n",
      "True True False False True False False True False False False False False False False False \n"
     ]
    }
   ],
   "source": [
    "n = 15\n",
    "print(composite_verify(n, 3))\n",
    "print(composite_verify(n, 4))\n",
    "     \n",
    "n = 17\n",
    "for d in range(2,n):\n",
    "    print(composite_verify(17, d), end=\" \")\n",
    "print()\n",
    "\n",
    "n = 18\n",
    "for d in range(2,n):\n",
    "    print(composite_verify(18, d), end=\" \")\n",
    "print()\n",
    "\n",
    "# n = 18\n",
    "# for d in range(2,n):\n",
    "#     print(prime_verify_bad(18, d), end=\" \")"
   ]
  },
  {
   "cell_type": "markdown",
   "metadata": {},
   "source": [
    "# clique verifier"
   ]
  },
  {
   "cell_type": "code",
   "execution_count": 4,
   "metadata": {},
   "outputs": [],
   "source": [
    "import itertools\n",
    "def clique_v(G, k, C):\n",
    "    \"\"\"Verify C is a k-clique in G.\"\"\"\n",
    "    V,E = G\n",
    "    # verify C is the correct size\n",
    "    if len(C) != k:\n",
    "        return False\n",
    "    # verify each pair of nodes in C shares an edge\n",
    "    for (u,v) in itertools.combinations(C, 2):\n",
    "        if (u,v) not in E:\n",
    "            return False\n",
    "    return True"
   ]
  },
  {
   "cell_type": "code",
   "execution_count": 5,
   "metadata": {
    "scrolled": true
   },
   "outputs": [
    {
     "name": "stdout",
     "output_type": "stream",
     "text": [
      "[1, 2, 3, 4] is a 4-clique in G?   True\n",
      "[3, 4, 5] is a 4-clique in G?   False\n",
      "[4, 5, 6] is a 4-clique in G?   False\n",
      "[1, 3, 4, 5] is a 4-clique in G?   False\n"
     ]
    }
   ],
   "source": [
    "V = [1,2,3,4,5,6]\n",
    "E = [(1,2), (1,3), (1,4), (2,3), (2,4), (3,4), (4,5), (5,6), (4,6)]\n",
    "G = (V,E)\n",
    "G = add_reverse_edges(G)\n",
    "\n",
    "C = [1,2,3,4]\n",
    "k = len(C)\n",
    "print('{} is a {}-clique in G?   {}'.format(C, k, clique_v(G, k, C)))\n",
    "\n",
    "C = [3,4,5]\n",
    "print('{} is a {}-clique in G?   {}'.format(C, k, clique_v(G, k, C)))\n",
    "\n",
    "C = [4,5,6]\n",
    "print('{} is a {}-clique in G?   {}'.format(C, k, clique_v(G, k, C)))\n",
    "\n",
    "C = [1,3,4,5]\n",
    "print('{} is a {}-clique in G?   {}'.format(C, k, clique_v(G, k, C)))"
   ]
  },
  {
   "cell_type": "markdown",
   "metadata": {},
   "source": [
    "# subset sum verifier"
   ]
  },
  {
   "cell_type": "code",
   "execution_count": 6,
   "metadata": {},
   "outputs": [],
   "source": [
    "import itertools\n",
    "def subset_sum_v(C, t, S):\n",
    "    \"\"\"Verifies that S is a subcollection of C summing to t.\"\"\"\n",
    "    if sum(S) != t: # check sum\n",
    "        return False\n",
    "    C = list(C) # make copy that we can change\n",
    "    for y in S: # ensure S is a subcollection of C\n",
    "        if y not in C:\n",
    "            return False\n",
    "        C.remove(y)\n",
    "    return True"
   ]
  },
  {
   "cell_type": "code",
   "execution_count": 20,
   "metadata": {},
   "outputs": [
    {
     "name": "stdout",
     "output_type": "stream",
     "text": [
      "False\n",
      "True\n"
     ]
    }
   ],
   "source": [
    "C = [1,2,3,4,5,6,7,8]\n",
    "t = 20\n",
    "S = [1,2,3,4,5,6]\n",
    "print(subset_sum_v(C, t, S))\n",
    "\n",
    "C = [1,2,3,4,5,6,7,8]\n",
    "t = 20\n",
    "S = [8, 7, 5]\n",
    "print(subset_sum_v(C, t, S))"
   ]
  },
  {
   "cell_type": "markdown",
   "metadata": {},
   "source": [
    "# NTM"
   ]
  },
  {
   "cell_type": "code",
   "execution_count": 30,
   "metadata": {
    "collapsed": true
   },
   "outputs": [],
   "source": [
    "import collections\n",
    "\n",
    "def next_configs(delta, config):\n",
    "    \"\"\"Apply delta to configuration (state, pos, content)\n",
    "    to get list of possible next configurations.\"\"\"\n",
    "    state, pos, content = config # give names to each part of triple\n",
    "    configs = []\n",
    "    symbol = content[pos]\n",
    "    for (new_state, new_symbol, move) in delta(state, symbol):\n",
    "        new_content = content[:pos] + new_symbol + content[pos+1:]\n",
    "        new_pos = max(0, pos + move)\n",
    "        if new_pos >= len(new_content):\n",
    "            new_content += \"-\"\n",
    "        config = (new_state, new_pos, new_content)\n",
    "        configs.append(config)\n",
    "    return configs\n",
    "\n",
    "def M(x):\n",
    "    \"\"\"An NTM that replaces its input with a\n",
    "    nondeterministically chosen string of the same length\n",
    "    accepts if it ever guessed a 1, otherwise rejects\"\"\"\n",
    "    init_config = (\"q0\", 0, x+\"_\")\n",
    "    def delta(state, symbol):\n",
    "        # if in halting state, no next configuration\n",
    "        if state in [\"qA\", \"qR\"]:\n",
    "            return []\n",
    "        if symbol == \"_\":  # if blank, halt\n",
    "            if state == \"q1\":\n",
    "                return [(\"qA\", \"_\", -1)]\n",
    "            elif state == \"q0\":\n",
    "                return [(\"qR\", \"_\", -1)]\n",
    "        else: \n",
    "            # write a 0 or 1 over the current symbol\n",
    "            # remember if a 1 is written\n",
    "            if state == \"q0\":\n",
    "                return [ (\"q0\", \"0\", 1), (\"q1\", \"1\", 1) ]\n",
    "            elif state == \"q1\":\n",
    "                return [ (\"q1\", \"0\", 1), (\"q1\", \"1\", 1) ]\n",
    "        assert False\n",
    "\n",
    "    # do breadth-first search of configuration graph\n",
    "    visited = []\n",
    "    queue = collections.deque([init_config])\n",
    "    while queue:\n",
    "        config = queue.popleft()\n",
    "        if config[0] == \"qA\":\n",
    "            return True\n",
    "        if config not in visited:\n",
    "            visited.append(config)\n",
    "            # get all possible next configurations; see below\n",
    "            neighbors = next_configs(delta, config)\n",
    "            for neighbor in neighbors:\n",
    "                if neighbor not in visited:\n",
    "                    queue.append(neighbor)\n",
    "    return False"
   ]
  },
  {
   "cell_type": "code",
   "execution_count": 31,
   "metadata": {},
   "outputs": [
    {
     "data": {
      "text/plain": [
       "True"
      ]
     },
     "execution_count": 31,
     "metadata": {},
     "output_type": "execute_result"
    }
   ],
   "source": [
    "M('0101')"
   ]
  },
  {
   "cell_type": "markdown",
   "metadata": {},
   "source": [
    "# Hamiltonian path NTM"
   ]
  },
  {
   "cell_type": "code",
   "execution_count": 35,
   "metadata": {},
   "outputs": [
    {
     "name": "stdout",
     "output_type": "stream",
     "text": [
      "0\n"
     ]
    }
   ],
   "source": [
    "import random\n",
    "def P(x):\n",
    "    a = random.choice([0,1])\n",
    "    print(a)\n",
    "P(\"\")"
   ]
  },
  {
   "cell_type": "code",
   "execution_count": 41,
   "metadata": {
    "collapsed": true
   },
   "outputs": [],
   "source": [
    "import random\n",
    "\n",
    "def ham_path_ntm(G):\n",
    "    \"\"\" 'NTM' (implemented via random) for deciding HamPath. \"\"\"\n",
    "    V,E = G\n",
    "    # guess a path p that visits each node exactly once\n",
    "    p = list(V)\n",
    "    random.shuffle(p)\n",
    "    # verify each pair of adjacent nodes in pi shares an edge\n",
    "    for i in range(len(p) - 1):\n",
    "        if (p[i],p[i+1]) not in E:\n",
    "            return False\n",
    "    print(p)\n",
    "    return True"
   ]
  },
  {
   "cell_type": "code",
   "execution_count": 42,
   "metadata": {},
   "outputs": [
    {
     "name": "stdout",
     "output_type": "stream",
     "text": [
      "False False False False False False False False False False False False False False False False False False False False False False False False False False False False False False False False [1, 2, 4, 3, 5]\n",
      "True False False False False False False False False False False False False False False False False False False False False False False False False False False False False False False False False False False False False False False False False False False False False False False False False False False False False False False False False False False False False False False False False False False False False False False [1, 2, 4, 3, 5]\n",
      "True False False False False False False False False False False False False False False False False False False False False False False False False False False False False False False False False False False False False False False False False False False False False False False False False False False False False False False False False False False False False False False False False False False False False False False False False False False False False False False False False False False False False False False False False False False False False False False False False False False False False False False False False False False False False False False False False False False False False False False False False False False False False False False False False False False False False False False False False False False False False False False False False False False False False False False False False False False False False False False False False False False False False False False False False False False False False False False False False False False False False False False False False False False False False False False False False False False False False False False False False False False False False False False False False False False False False False False False False False False False False False False False False False False False False False False False False False False False False False False False False False False False False False False False False False False False False False False False False False False False False False False False False False False False False False False False False False False False False False False False False False False False False False False False False False False False False False False False False False False False False False False False False False False False False False False False False False False [1, 2, 4, 3, 5]\n",
      "True False False False False False False False False False False False False False False False False False False False False False False False False False False False False False False False False False False False False False False False False False False False False False False False False False False False False False False False False False False False False False False False False False False False False False False False False False False False False False False False False False "
     ]
    }
   ],
   "source": [
    "V = [1,2,3,4,5]\n",
    "E = [ (1,2), (2,4), (4,3), (3,5), (3,1)]\n",
    "G = (V,E)\n",
    "for _ in range(500):\n",
    "    print(ham_path_ntm(G), end=\" \")"
   ]
  },
  {
   "cell_type": "markdown",
   "metadata": {},
   "source": [
    "# general exponential-time algorithm for finding $\\mathsf{NP}$ witnesses"
   ]
  },
  {
   "cell_type": "code",
   "execution_count": 4,
   "metadata": {},
   "outputs": [],
   "source": [
    "import itertools \n",
    "\n",
    "k = 7 # these can be arbitrary constants\n",
    "\n",
    "def V_A(x,w):\n",
    "    \"\"\"Verifier for decision problem A.\"\"\"\n",
    "    raise NotImplementedError()\n",
    "\n",
    "def binary_strings_of_length(length):\n",
    "    \"\"\"A nice Python way to generate all strings of a given length.\"\"\"\n",
    "    return map(lambda lst: ''.join(lst), itertools.product(['0', '1'], repeat=length))\n",
    "\n",
    "def A_decider(x):\n",
    "    \"\"\"Exponential-time algorithm for finding witnesses.\"\"\"\n",
    "    n = len(x)\n",
    "    for m in range(n**k + 1): # check lengths m in [0,1,...,n^c]\n",
    "        for w in binary_strings_of_length(m):\n",
    "            if V_A(x,w): # assumes V_A is implemented\n",
    "                return True\n",
    "    return False"
   ]
  },
  {
   "cell_type": "markdown",
   "metadata": {},
   "source": [
    "# Hamiltonian path exponential-time deterministic algorithm"
   ]
  },
  {
   "cell_type": "code",
   "execution_count": 5,
   "metadata": {},
   "outputs": [],
   "source": [
    "import itertools\n",
    "\n",
    "def ham_path_brute_force(G):\n",
    "    \"\"\"Exponential-time algorithm for finding Hamiltonian paths,\n",
    "    which calls the verifier on all potential witnesses.\"\"\"\n",
    "    V,E = G\n",
    "    for p in itertools.permutations(V):\n",
    "        if ham_path_verify(G, p):\n",
    "            return True\n",
    "    return False"
   ]
  },
  {
   "cell_type": "code",
   "execution_count": 6,
   "metadata": {},
   "outputs": [
    {
     "name": "stdout",
     "output_type": "stream",
     "text": [
      "False\n",
      "True\n"
     ]
    }
   ],
   "source": [
    "V = [1,2,3,4,5,6]\n",
    "E = [ (1,2), (2,3), (3,4), (4,1), (5,6) ]\n",
    "G = (V,E)\n",
    "print(ham_path_brute_force(G))\n",
    "\n",
    "V = [1,2,3,4,5,6]\n",
    "E = [ (1,2), (2,3), (3,4), (4,5), (5,6) ]\n",
    "G = (V,E)\n",
    "print(ham_path_brute_force(G))"
   ]
  },
  {
   "cell_type": "markdown",
   "metadata": {},
   "source": [
    "# Boolean formulas"
   ]
  },
  {
   "cell_type": "code",
   "execution_count": 7,
   "metadata": {},
   "outputs": [],
   "source": [
    "class Boolean_formula(object):\n",
    "    \"\"\"Represents a Boolean formula with AND, OR, and NOT operations.\"\"\"\n",
    "    def __init__(self, variable=None, op=None, left=None, right=None):\n",
    "        if not ( (variable == None and op == \"not\" and left == None and right != None) or\n",
    "                 (variable == None and op == \"and\" and left != None and right != None) or\n",
    "                 (variable == None and op == \"or\"  and left != None and right != None) or\n",
    "                 (variable != None and op == left == right == None) ):\n",
    "            raise ValueError(\"Must either set variable for base case\" +\\\n",
    "                             \"or must set op to 'not', 'and', or 'or'\" +\\\n",
    "                             \"and recursive formulas left and right\")\n",
    "        self.variable = variable\n",
    "        self.op = op\n",
    "        self.left = left\n",
    "        self.right = right\n",
    "        if self.variable:\n",
    "            self.variables = [variable]\n",
    "        elif op == 'not':\n",
    "            self.variables = right.variables\n",
    "        elif op in ['and', 'or']:\n",
    "            self.variables = list(left.variables)\n",
    "            self.variables.extend(x for x in right.variables if x not in left.variables)\n",
    "            self.variables.sort()\n",
    "\n",
    "    def evaluate(self, assignment):\n",
    "        \"\"\"Value of this formula with given assignment, a dict mapping variable \n",
    "        names to Python booleans.\n",
    "\n",
    "        Assignment can also be a string of bits, which will be mapped to variables \n",
    "        in alphabetical order. Boolean values are interconverted with integers to \n",
    "        make for nicer printing (0 and 1 versus True and False)\"\"\"\n",
    "        if type(assignment) is str:\n",
    "            assignment = dict(zip(self.variables, map(int, assignment)))\n",
    "        if self.op == None:\n",
    "            return assignment[self.variable]\n",
    "        elif self.op == 'not':\n",
    "            return int(not self.right.evaluate(assignment))\n",
    "        elif self.op == 'and':\n",
    "            return int(self.left.evaluate(assignment) and self.right.evaluate(assignment))\n",
    "        elif self.op == 'or':\n",
    "            return int(self.left.evaluate(assignment) or self.right.evaluate(assignment))\n",
    "        else:\n",
    "            raise ValueError(\"This shouldn't be reachable\")\n",
    "\n",
    "    def __repr__(self):\n",
    "        if self.variable:\n",
    "            return self.variable\n",
    "        elif self.op == 'not':\n",
    "            return '(not {})'.format(self.right)\n",
    "        else:\n",
    "            return '({} {} {})'.format(self.left, self.op, self.right)\n",
    "\n",
    "    def __str__(self):\n",
    "        return repr(self)\n",
    "\n",
    "    @staticmethod\n",
    "    def from_string(text):\n",
    "        \"\"\"Convert string that looks like a Python Boolean expression with \n",
    "        variables, e.g. \"x and y or not z and (a or b)\", to Boolean_formula.\"\"\"\n",
    "        # add plenty of whitespace to make it easy to tokenize with string.split()\n",
    "        for token in ['and','or','not','(',')']:\n",
    "            text = text.replace(token, ' ' + token + ' ')\n",
    "        tokens = text.split()\n",
    "        val_stack = []\n",
    "        op_stack = []\n",
    "        for token in tokens:\n",
    "            if token in ['and','or','not']:\n",
    "                cur_op = token\n",
    "                while len(op_stack) > 0 and not precedence_greater(cur_op, op_stack[-1]):\n",
    "                    process_top_op(op_stack, val_stack)\n",
    "                op_stack.append(cur_op)\n",
    "            elif token == '(':\n",
    "                op_stack.append('(')\n",
    "            elif token == ')':\n",
    "                while op_stack[-1] != '(':\n",
    "                    process_top_op(op_stack, val_stack)\n",
    "                op_stack.pop()\n",
    "            else:\n",
    "                val_stack.append(Boolean_formula(variable=token))\n",
    "        while len(op_stack) > 0 and not precedence_greater(cur_op, op_stack[-1]):\n",
    "            process_top_op(op_stack, val_stack)\n",
    "        return val_stack.pop()\n",
    "\n",
    "def process_top_op(op_stack, val_stack):\n",
    "    \"\"\"Processes top operator from op_stack, popping one or two values as needed \n",
    "    from val_stack, and pushing the result back on the value stack.\"\"\"\n",
    "    op = op_stack.pop()\n",
    "    right = val_stack.pop()\n",
    "    if op == 'not':\n",
    "        val_stack.append(Boolean_formula(op='not', right=right))\n",
    "    elif op in ['and','or']:\n",
    "        left = val_stack.pop()\n",
    "        val_stack.append(Boolean_formula(op=op, left=left, right=right))\n",
    "\n",
    "def precedence_greater(op1, op2):\n",
    "    return (op2 == '(') or (op1=='not' and op2 in ['and','or']) or (op1=='and' and op2=='or')"
   ]
  },
  {
   "cell_type": "code",
   "execution_count": 16,
   "metadata": {},
   "outputs": [
    {
     "name": "stdout",
     "output_type": "stream",
     "text": [
      "0\n",
      "0\n"
     ]
    }
   ],
   "source": [
    "formula = Boolean_formula.from_string('((x and y) or ((not z) and (a or b)))')\n",
    "print(formula.evaluate(\"11001\"))\n",
    "\n",
    "formula = Boolean_formula.from_string('x and y or not z and (a or b)')\n",
    "print(formula.evaluate(\"11001\"))"
   ]
  },
  {
   "cell_type": "code",
   "execution_count": 10,
   "metadata": {},
   "outputs": [
    {
     "name": "stdout",
     "output_type": "stream",
     "text": [
      "formula value = 0 on assignment 000\n",
      "formula value = 1 on assignment 001\n",
      "formula value = 0 on assignment 010\n",
      "formula value = 0 on assignment 011\n",
      "formula value = 0 on assignment 100\n",
      "formula value = 1 on assignment 101\n",
      "formula value = 1 on assignment 110\n",
      "formula value = 1 on assignment 111\n"
     ]
    }
   ],
   "source": [
    "formula = Boolean_formula.from_string(\"((x and y) or (z and (not y)))\")\n",
    "import itertools\n",
    "num_variables = len(formula.variables)\n",
    "for assignment in itertools.product([\"0\",\"1\"], repeat=num_variables):\n",
    "    assignment = \"\".join(assignment)\n",
    "    value = formula.evaluate(assignment)\n",
    "    print(\"formula value = {} on assignment {}\".format(value, assignment))"
   ]
  },
  {
   "cell_type": "code",
   "execution_count": 9,
   "metadata": {},
   "outputs": [
    {
     "name": "stdout",
     "output_type": "stream",
     "text": [
      "formula value = 0 on assignment 00000\n",
      "formula value = 0 on assignment 00001\n",
      "formula value = 0 on assignment 00010\n",
      "formula value = 0 on assignment 00011\n",
      "formula value = 0 on assignment 00100\n",
      "formula value = 0 on assignment 00101\n",
      "formula value = 1 on assignment 00110\n",
      "formula value = 1 on assignment 00111\n",
      "formula value = 1 on assignment 01000\n",
      "formula value = 0 on assignment 01001\n",
      "formula value = 1 on assignment 01010\n",
      "formula value = 0 on assignment 01011\n",
      "formula value = 1 on assignment 01100\n",
      "formula value = 0 on assignment 01101\n",
      "formula value = 1 on assignment 01110\n",
      "formula value = 1 on assignment 01111\n",
      "formula value = 1 on assignment 10000\n",
      "formula value = 0 on assignment 10001\n",
      "formula value = 1 on assignment 10010\n",
      "formula value = 0 on assignment 10011\n",
      "formula value = 1 on assignment 10100\n",
      "formula value = 0 on assignment 10101\n",
      "formula value = 1 on assignment 10110\n",
      "formula value = 1 on assignment 10111\n",
      "formula value = 1 on assignment 11000\n",
      "formula value = 0 on assignment 11001\n",
      "formula value = 1 on assignment 11010\n",
      "formula value = 0 on assignment 11011\n",
      "formula value = 1 on assignment 11100\n",
      "formula value = 0 on assignment 11101\n",
      "formula value = 1 on assignment 11110\n",
      "formula value = 1 on assignment 11111\n"
     ]
    }
   ],
   "source": [
    "formula = Boolean_formula.from_string(\"x and y or not z and (a or b)\")\n",
    "import itertools\n",
    "num_variables = len(formula.variables)\n",
    "for assignment in itertools.product([\"0\",\"1\"], repeat=num_variables):\n",
    "    assignment = \"\".join(assignment)\n",
    "    value = formula.evaluate(assignment)\n",
    "    print(\"formula value = {} on assignment {}\".format(value, assignment))"
   ]
  },
  {
   "cell_type": "markdown",
   "metadata": {},
   "source": [
    "# polynomial-time mapping reduction of Clique to Independent-Set"
   ]
  },
  {
   "cell_type": "code",
   "execution_count": 48,
   "metadata": {
    "collapsed": true
   },
   "outputs": [],
   "source": [
    "import itertools\n",
    "def reduction_from_independent_set_to_clique(G,k):\n",
    "    V,E = G\n",
    "    Ec = [ {u,v} for (u,v) in itertools.combinations(V,2) \n",
    "           if {u,v} not in E ]\n",
    "    Gc = (V,Ec)\n",
    "    return (Gc,k)\n",
    "\n",
    "# hypothetical polynomial-time algorithm for Independent-Set,\n",
    "# which calls another hypothetical polynomial-time algorithm A for Clique\n",
    "def independent_set_algorithm(G,k):\n",
    "    Gp,kp = reduction_from_clique_to_independent_set(G,k)\n",
    "    return clique_algorithm(Gp,kp)\n",
    "\n",
    "def clique_algorithm(G,k):\n",
    "    raise NotImplementedError()"
   ]
  },
  {
   "cell_type": "code",
   "execution_count": 50,
   "metadata": {},
   "outputs": [
    {
     "name": "stdout",
     "output_type": "stream",
     "text": [
      "([1, 2, 3, 4, 5, 6, 7],\n",
      " [{1, 2},\n",
      "  {2, 3},\n",
      "  {3, 4},\n",
      "  {1, 5},\n",
      "  {5, 6},\n",
      "  {6, 7},\n",
      "  {2, 5},\n",
      "  {2, 6},\n",
      "  {3, 5},\n",
      "  {3, 6},\n",
      "  {3, 7}])\n",
      "(([1, 2, 3, 4, 5, 6, 7],\n",
      "  [{1, 3},\n",
      "   {1, 4},\n",
      "   {1, 6},\n",
      "   {1, 7},\n",
      "   {2, 4},\n",
      "   {2, 7},\n",
      "   {4, 5},\n",
      "   {4, 6},\n",
      "   {4, 7},\n",
      "   {5, 7}]),\n",
      " 4)\n"
     ]
    }
   ],
   "source": [
    "from pprint import pprint\n",
    "V = [1,2,3,4,5,6,7]\n",
    "E = [ {1,2}, {2,3}, {3,4}, {1,5}, {5,6}, {6,7}, {2,5}, {2,6}, {3,5}, {3,6}, {3,7} ]\n",
    "G = (V,E)\n",
    "pprint(G)\n",
    "k = 4\n",
    "pprint(reduction_from_independent_set_to_clique(G,k))"
   ]
  },
  {
   "cell_type": "markdown",
   "metadata": {},
   "source": [
    "# using mapping reduction to show if $B \\in \\mathsf{P}$, then $A \\in \\mathsf{P}$"
   ]
  },
  {
   "cell_type": "code",
   "execution_count": 51,
   "metadata": {
    "collapsed": true
   },
   "outputs": [],
   "source": [
    "def f(x):\n",
    "    raise NotImplementedError()\n",
    "    # TODO: code for f, reducing A to B, goes here\n",
    "\n",
    "def M_B(y):\n",
    "    raise NotImplementedError()\n",
    "    # TODO: code for M_B, deciding B, goes here\n",
    "\n",
    "def M_A(x):\n",
    "    \"\"\"Compose reduction f from A to B, with algorithm M for B,\n",
    "    to get algorithm M_A for A.\"\"\"\n",
    "    y = f(x)\n",
    "    output = M_B(y)\n",
    "    return output"
   ]
  },
  {
   "cell_type": "markdown",
   "metadata": {},
   "source": [
    "# 3CNF formulas"
   ]
  },
  {
   "cell_type": "code",
   "execution_count": 11,
   "metadata": {
    "collapsed": true
   },
   "outputs": [],
   "source": [
    "class CNF(object):\n",
    "    \"\"\"Represents a CNF formula. Each variable is a string (e.g., \"x1\",\n",
    "    and each clause is a tuple of strings, each either a variable\n",
    "    or its negation, e.g., (\"!x1\", \"x3\", \"!x4\") \"\"\"\n",
    "    def __init__(self, clauses):\n",
    "        self.variables = extract_variables(clauses)\n",
    "        self.clauses = clauses\n",
    "        \n",
    "    def evaluate(self, assignment):\n",
    "        \"\"\"Value of this formula with given assignment, which is a dict mapping variable names \n",
    "        to Python booleans.\n",
    "        \n",
    "        Assignment can also be a string of bits, which will be mapped to variables in sorted order\n",
    "        they were specified in the constructor.\n",
    "        \n",
    "        Boolean values are interconverted with integers to make for nicer printing \n",
    "        (0 and 1 versus True and False)\"\"\"\n",
    "        if type(assignment) is str:\n",
    "            assignment = dict(zip(self.variables, map(int, assignment)))\n",
    "        return int(all( clause_evaluate(clause, assignment) for clause in self.clauses ))\n",
    "\n",
    "def extract_variables(clauses):\n",
    "    variables = set()\n",
    "    for clause in clauses:\n",
    "        for literal in clause:\n",
    "            variable = literal[1:] if literal[0] == \"!\" else literal\n",
    "            variables.add(variable)\n",
    "    return sorted(list(variables))\n",
    "    \n",
    "def clause_evaluate(clause, assignment):\n",
    "    \"\"\"Value of this clause with given assignment.\"\"\"\n",
    "    return any( literal_evaluate(literal, assignment) for literal in clause )\n",
    "\n",
    "def literal_evaluate(literal, assignment):\n",
    "    \"\"\"Value of this literal with given assignment.\"\"\"\n",
    "    if literal[0] == \"!\":\n",
    "        variable = literal[1:]\n",
    "        return not assignment[variable]\n",
    "    else:\n",
    "        variable = literal\n",
    "        return assignment[variable]"
   ]
  },
  {
   "cell_type": "code",
   "execution_count": 12,
   "metadata": {},
   "outputs": [
    {
     "name": "stdout",
     "output_type": "stream",
     "text": [
      "formula value = 0 on assignment 000000\n",
      "formula value = 0 on assignment 000001\n",
      "formula value = 0 on assignment 000010\n",
      "formula value = 0 on assignment 000011\n",
      "formula value = 1 on assignment 000100\n",
      "formula value = 1 on assignment 000101\n",
      "formula value = 0 on assignment 000110\n",
      "formula value = 1 on assignment 000111\n",
      "formula value = 0 on assignment 001000\n",
      "formula value = 1 on assignment 001001\n",
      "formula value = 1 on assignment 001010\n",
      "formula value = 1 on assignment 001011\n",
      "formula value = 1 on assignment 001100\n",
      "formula value = 1 on assignment 001101\n",
      "formula value = 1 on assignment 001110\n",
      "formula value = 1 on assignment 001111\n",
      "formula value = 0 on assignment 010000\n",
      "formula value = 0 on assignment 010001\n",
      "formula value = 0 on assignment 010010\n",
      "formula value = 0 on assignment 010011\n",
      "formula value = 1 on assignment 010100\n",
      "formula value = 1 on assignment 010101\n",
      "formula value = 0 on assignment 010110\n",
      "formula value = 1 on assignment 010111\n",
      "formula value = 0 on assignment 011000\n",
      "formula value = 0 on assignment 011001\n",
      "formula value = 0 on assignment 011010\n",
      "formula value = 0 on assignment 011011\n",
      "formula value = 0 on assignment 011100\n",
      "formula value = 0 on assignment 011101\n",
      "formula value = 0 on assignment 011110\n",
      "formula value = 0 on assignment 011111\n",
      "formula value = 0 on assignment 100000\n",
      "formula value = 0 on assignment 100001\n",
      "formula value = 0 on assignment 100010\n",
      "formula value = 0 on assignment 100011\n",
      "formula value = 1 on assignment 100100\n",
      "formula value = 1 on assignment 100101\n",
      "formula value = 0 on assignment 100110\n",
      "formula value = 1 on assignment 100111\n",
      "formula value = 0 on assignment 101000\n",
      "formula value = 1 on assignment 101001\n",
      "formula value = 1 on assignment 101010\n",
      "formula value = 1 on assignment 101011\n",
      "formula value = 1 on assignment 101100\n",
      "formula value = 1 on assignment 101101\n",
      "formula value = 1 on assignment 101110\n",
      "formula value = 1 on assignment 101111\n",
      "formula value = 0 on assignment 110000\n",
      "formula value = 0 on assignment 110001\n",
      "formula value = 0 on assignment 110010\n",
      "formula value = 0 on assignment 110011\n",
      "formula value = 1 on assignment 110100\n",
      "formula value = 1 on assignment 110101\n",
      "formula value = 0 on assignment 110110\n",
      "formula value = 1 on assignment 110111\n",
      "formula value = 0 on assignment 111000\n",
      "formula value = 1 on assignment 111001\n",
      "formula value = 1 on assignment 111010\n",
      "formula value = 1 on assignment 111011\n",
      "formula value = 1 on assignment 111100\n",
      "formula value = 1 on assignment 111101\n",
      "formula value = 1 on assignment 111110\n",
      "formula value = 1 on assignment 111111\n"
     ]
    }
   ],
   "source": [
    "formula = CNF([(\"x1\", \"!x2\", \"!x3\"), (\"x3\", \"!x5\", \"x6\"), (\"x3\", \"!x6\", \"x4\"), (\"x4\", \"x5\", \"x6\")])\n",
    "import itertools\n",
    "num_variables = len(formula.variables)\n",
    "for assignment in itertools.product([\"0\",\"1\"], repeat=num_variables):\n",
    "    assignment = \"\".join(assignment)\n",
    "    value = formula.evaluate(assignment)\n",
    "    print(\"formula value = {} on assignment {}\".format(value, assignment))"
   ]
  },
  {
   "cell_type": "markdown",
   "metadata": {},
   "source": [
    "# reduction of 3SAT to IndSet"
   ]
  },
  {
   "cell_type": "code",
   "execution_count": 15,
   "metadata": {},
   "outputs": [
    {
     "name": "stdout",
     "output_type": "stream",
     "text": [
      "([('a', 0, 'x1'),\n",
      "  ('b', 0, 'x1'),\n",
      "  ('c', 0, 'x2'),\n",
      "  ('a', 1, '!x1'),\n",
      "  ('b', 1, '!x2'),\n",
      "  ('c', 1, '!x2'),\n",
      "  ('a', 2, '!x1'),\n",
      "  ('b', 2, 'x2'),\n",
      "  ('c', 2, 'x2')],\n",
      " [{('a', 0, 'x1'), ('b', 0, 'x1')},\n",
      "  {('a', 0, 'x1'), ('c', 0, 'x2')},\n",
      "  {('a', 0, 'x1'), ('a', 1, '!x1')},\n",
      "  {('a', 0, 'x1'), ('a', 2, '!x1')},\n",
      "  {('b', 0, 'x1'), ('c', 0, 'x2')},\n",
      "  {('a', 1, '!x1'), ('b', 0, 'x1')},\n",
      "  {('a', 2, '!x1'), ('b', 0, 'x1')},\n",
      "  {('c', 0, 'x2'), ('b', 1, '!x2')},\n",
      "  {('c', 1, '!x2'), ('c', 0, 'x2')},\n",
      "  {('a', 1, '!x1'), ('b', 1, '!x2')},\n",
      "  {('a', 1, '!x1'), ('c', 1, '!x2')},\n",
      "  {('c', 1, '!x2'), ('b', 1, '!x2')},\n",
      "  {('b', 2, 'x2'), ('b', 1, '!x2')},\n",
      "  {('c', 2, 'x2'), ('b', 1, '!x2')},\n",
      "  {('c', 1, '!x2'), ('b', 2, 'x2')},\n",
      "  {('c', 2, 'x2'), ('c', 1, '!x2')},\n",
      "  {('a', 2, '!x1'), ('b', 2, 'x2')},\n",
      "  {('a', 2, '!x1'), ('c', 2, 'x2')},\n",
      "  {('c', 2, 'x2'), ('b', 2, 'x2')}])\n"
     ]
    }
   ],
   "source": [
    "import itertools\n",
    "def reduce_3sat_to_indset(cnf_formula):\n",
    "    nodes_grouped = [(('a',idx,clause[0]),\n",
    "                      ('b',idx,clause[1]),\n",
    "                      ('c',idx,clause[2]))\n",
    "                     for (clause,idx) in zip(cnf_formula.clauses, itertools.count())]\n",
    "    V = [ node for node_group in nodes_grouped for node in node_group ]\n",
    "    E = []\n",
    "    for (u,v) in itertools.combinations(V,2):\n",
    "        add_edge = False\n",
    "        (_,clause_idx1,lit1),(_,clause_idx2,lit2) = u,v\n",
    "        # add edge if nodes are in same clause\n",
    "        for clause in cnf_formula.clauses:\n",
    "            if clause_idx1 == clause_idx2:\n",
    "                add_edge = True\n",
    "        if lit1 == \"!\"+lit2 or lit2 == \"!\"+lit1:\n",
    "            add_edge = True\n",
    "        if add_edge:\n",
    "            E.append({u,v})\n",
    "    k = len(cnf_formula.clauses)\n",
    "    return ((V,E), k)\n",
    "\n",
    "formula = CNF([(\"x1\", \"x1\", \"x2\"), (\"!x1\", \"!x2\", \"!x2\"), (\"!x1\", \"x2\", \"x2\")])\n",
    "\n",
    "from pprint import pprint\n",
    "G,k = reduce_3sat_to_indset(formula)\n",
    "pprint(G)"
   ]
  },
  {
   "cell_type": "code",
   "execution_count": 16,
   "metadata": {},
   "outputs": [
    {
     "name": "stdout",
     "output_type": "stream",
     "text": [
      "is formula satisfiable? True\n",
      "is formula satisfiable? False\n"
     ]
    }
   ],
   "source": [
    "# this code shows how one would use a hypothetical algorithm for independent set, \n",
    "# together with reduce_3sat_to_independent, to create an algorithm for 3SAT\n",
    "\n",
    "import itertools\n",
    "def independent_set(G,k):\n",
    "    \"\"\"This is an exponential-time algorithm for IndSet, just to \n",
    "    make the code below work properly. But if we could replace this \n",
    "    with a polynomial-time algorithm, then the function three_sat\n",
    "    would also be polynomial-time.\"\"\"\n",
    "    V,E = G\n",
    "    for S in itertools.combinations(V,k):\n",
    "        is_IS = True\n",
    "        for (u,v) in itertools.combinations(S, 2):\n",
    "            if {u,v} in E:\n",
    "                is_IS = False\n",
    "                break\n",
    "        if is_IS:\n",
    "            return True\n",
    "    return False\n",
    "    \n",
    "def three_sat(formula):\n",
    "    G,k = reduce_3sat_to_indset(formula)\n",
    "    return independent_set(G,k)\n",
    "\n",
    "formula = CNF([(\"x1\", \"x1\", \"x2\"), (\"!x1\", \"!x2\", \"!x2\"), (\"!x1\", \"x2\", \"x2\")])\n",
    "print(\"is formula satisfiable? {}\".format(three_sat(formula)))\n",
    "\n",
    "formula = CNF([(\"x1\", \"x1\", \"x2\"), (\"x1\", \"x1\", \"!x2\"), (\"!x1\", \"x2\", \"x2\"), (\"!x1\", \"!x1\", \"!x2\")])\n",
    "print(\"is formula satisfiable? {}\".format(three_sat(formula)))"
   ]
  },
  {
   "cell_type": "markdown",
   "metadata": {},
   "source": [
    "# enumerators"
   ]
  },
  {
   "cell_type": "code",
   "execution_count": 56,
   "metadata": {
    "collapsed": true
   },
   "outputs": [],
   "source": [
    "import itertools\n",
    "def primes_enumerator():\n",
    "    \"\"\"Iterate over all prime numbers.\"\"\"\n",
    "    for n in itertools.count(): #iterates over all natural numbers\n",
    "        if is_prime(n):\n",
    "            yield n"
   ]
  },
  {
   "cell_type": "code",
   "execution_count": 57,
   "metadata": {},
   "outputs": [
    {
     "name": "stdout",
     "output_type": "stream",
     "text": [
      "2 3 5 7 11 13 17 19 23 29 31 37 41 43 47 53 59 61 67 71 73 79 83 89 97 101 103 107 109 113 127 131 137 139 149 151 157 163 167 173 179 181 191 193 197 199 211 223 227 229 233 239 241 251 257 263 269 271 277 281 283 293 307 311 313 317 331 337 347 349 353 359 367 373 379 383 389 397 401 409 419 421 431 433 439 443 449 457 461 463 467 479 487 491 499 503 509 521 523 541 "
     ]
    }
   ],
   "source": [
    "# print first 100 numbers returned from primes_enumerator()\n",
    "for (p, _) in zip(primes_enumerator(), range(100)):\n",
    "    print(p, end=\" \")"
   ]
  },
  {
   "cell_type": "markdown",
   "metadata": {},
   "source": [
    "# converting enumerator to recognizer"
   ]
  },
  {
   "cell_type": "code",
   "execution_count": 58,
   "metadata": {
    "collapsed": true
   },
   "outputs": [],
   "source": [
    "def create_recognizer_from_enumerator(enumerator):\n",
    "    def recognizer(input_to_recognizer):\n",
    "        for enumerated_output in enumerator():\n",
    "            if enumerated_output == input_to_recognizer:\n",
    "                return True\n",
    "        return False  # if it has a finite language it might halt\n",
    "    return recognizer"
   ]
  },
  {
   "cell_type": "code",
   "execution_count": 59,
   "metadata": {},
   "outputs": [
    {
     "name": "stdout",
     "output_type": "stream",
     "text": [
      "True\n",
      "True\n",
      "True\n",
      "True\n"
     ]
    },
    {
     "ename": "KeyboardInterrupt",
     "evalue": "",
     "output_type": "error",
     "traceback": [
      "\u001b[1;31m---------------------------------------------------------------------------\u001b[0m",
      "\u001b[1;31mKeyboardInterrupt\u001b[0m                         Traceback (most recent call last)",
      "\u001b[1;32m<ipython-input-59-a393a012c959>\u001b[0m in \u001b[0;36m<module>\u001b[1;34m()\u001b[0m\n\u001b[0;32m      4\u001b[0m \u001b[0mprint\u001b[0m\u001b[1;33m(\u001b[0m\u001b[0mprimes_recognizer\u001b[0m\u001b[1;33m(\u001b[0m\u001b[1;36m5\u001b[0m\u001b[1;33m)\u001b[0m\u001b[1;33m)\u001b[0m  \u001b[1;31m# prints True\u001b[0m\u001b[1;33m\u001b[0m\u001b[0m\n\u001b[0;32m      5\u001b[0m \u001b[0mprint\u001b[0m\u001b[1;33m(\u001b[0m\u001b[0mprimes_recognizer\u001b[0m\u001b[1;33m(\u001b[0m\u001b[1;36m7\u001b[0m\u001b[1;33m)\u001b[0m\u001b[1;33m)\u001b[0m  \u001b[1;31m# prints True\u001b[0m\u001b[1;33m\u001b[0m\u001b[0m\n\u001b[1;32m----> 6\u001b[1;33m \u001b[0mprint\u001b[0m\u001b[1;33m(\u001b[0m\u001b[0mprimes_recognizer\u001b[0m\u001b[1;33m(\u001b[0m\u001b[1;36m9\u001b[0m\u001b[1;33m)\u001b[0m\u001b[1;33m)\u001b[0m  \u001b[1;31m# runs forever\u001b[0m\u001b[1;33m\u001b[0m\u001b[0m\n\u001b[0m",
      "\u001b[1;32m<ipython-input-58-a63527d77ac1>\u001b[0m in \u001b[0;36mrecognizer\u001b[1;34m(input_to_recognizer)\u001b[0m\n\u001b[0;32m      1\u001b[0m \u001b[1;32mdef\u001b[0m \u001b[0mcreate_recognizer_from_enumerator\u001b[0m\u001b[1;33m(\u001b[0m\u001b[0menumerator\u001b[0m\u001b[1;33m)\u001b[0m\u001b[1;33m:\u001b[0m\u001b[1;33m\u001b[0m\u001b[0m\n\u001b[0;32m      2\u001b[0m     \u001b[1;32mdef\u001b[0m \u001b[0mrecognizer\u001b[0m\u001b[1;33m(\u001b[0m\u001b[0minput_to_recognizer\u001b[0m\u001b[1;33m)\u001b[0m\u001b[1;33m:\u001b[0m\u001b[1;33m\u001b[0m\u001b[0m\n\u001b[1;32m----> 3\u001b[1;33m         \u001b[1;32mfor\u001b[0m \u001b[0menumerated_output\u001b[0m \u001b[1;32min\u001b[0m \u001b[0menumerator\u001b[0m\u001b[1;33m(\u001b[0m\u001b[1;33m)\u001b[0m\u001b[1;33m:\u001b[0m\u001b[1;33m\u001b[0m\u001b[0m\n\u001b[0m\u001b[0;32m      4\u001b[0m             \u001b[1;32mif\u001b[0m \u001b[0menumerated_output\u001b[0m \u001b[1;33m==\u001b[0m \u001b[0minput_to_recognizer\u001b[0m\u001b[1;33m:\u001b[0m\u001b[1;33m\u001b[0m\u001b[0m\n\u001b[0;32m      5\u001b[0m                 \u001b[1;32mreturn\u001b[0m \u001b[1;32mTrue\u001b[0m\u001b[1;33m\u001b[0m\u001b[0m\n",
      "\u001b[1;32m<ipython-input-56-012d9de560dc>\u001b[0m in \u001b[0;36mprimes_enumerator\u001b[1;34m()\u001b[0m\n\u001b[0;32m      3\u001b[0m     \u001b[1;34m\"\"\"Iterate over all prime numbers.\"\"\"\u001b[0m\u001b[1;33m\u001b[0m\u001b[0m\n\u001b[0;32m      4\u001b[0m     \u001b[1;32mfor\u001b[0m \u001b[0mn\u001b[0m \u001b[1;32min\u001b[0m \u001b[0mitertools\u001b[0m\u001b[1;33m.\u001b[0m\u001b[0mcount\u001b[0m\u001b[1;33m(\u001b[0m\u001b[1;33m)\u001b[0m\u001b[1;33m:\u001b[0m \u001b[1;31m#iterates over all natural numbers\u001b[0m\u001b[1;33m\u001b[0m\u001b[0m\n\u001b[1;32m----> 5\u001b[1;33m         \u001b[1;32mif\u001b[0m \u001b[0mis_prime\u001b[0m\u001b[1;33m(\u001b[0m\u001b[0mn\u001b[0m\u001b[1;33m)\u001b[0m\u001b[1;33m:\u001b[0m\u001b[1;33m\u001b[0m\u001b[0m\n\u001b[0m\u001b[0;32m      6\u001b[0m             \u001b[1;32myield\u001b[0m \u001b[0mn\u001b[0m\u001b[1;33m\u001b[0m\u001b[0m\n",
      "\u001b[1;32m<ipython-input-5-ff7d74cd9c01>\u001b[0m in \u001b[0;36mis_prime\u001b[1;34m(n)\u001b[0m\n\u001b[0;32m     22\u001b[0m         \u001b[1;32mreturn\u001b[0m \u001b[1;32mFalse\u001b[0m\u001b[1;33m\u001b[0m\u001b[0m\n\u001b[0;32m     23\u001b[0m     \u001b[1;32mfor\u001b[0m \u001b[0mx\u001b[0m \u001b[1;32min\u001b[0m \u001b[0mrange\u001b[0m\u001b[1;33m(\u001b[0m\u001b[1;36m2\u001b[0m\u001b[1;33m,\u001b[0m \u001b[0mint\u001b[0m\u001b[1;33m(\u001b[0m\u001b[0mn\u001b[0m\u001b[1;33m**\u001b[0m\u001b[1;36m0.5\u001b[0m\u001b[1;33m)\u001b[0m\u001b[1;33m+\u001b[0m\u001b[1;36m1\u001b[0m\u001b[1;33m)\u001b[0m\u001b[1;33m:\u001b[0m\u001b[1;33m\u001b[0m\u001b[0m\n\u001b[1;32m---> 24\u001b[1;33m         \u001b[1;32mif\u001b[0m \u001b[0mn\u001b[0m \u001b[1;33m%\u001b[0m \u001b[0mx\u001b[0m \u001b[1;33m==\u001b[0m \u001b[1;36m0\u001b[0m\u001b[1;33m:\u001b[0m\u001b[1;33m\u001b[0m\u001b[0m\n\u001b[0m\u001b[0;32m     25\u001b[0m             \u001b[1;32mreturn\u001b[0m \u001b[1;32mFalse\u001b[0m\u001b[1;33m\u001b[0m\u001b[0m\n\u001b[0;32m     26\u001b[0m     \u001b[1;32mreturn\u001b[0m \u001b[1;32mTrue\u001b[0m\u001b[1;33m\u001b[0m\u001b[0m\n",
      "\u001b[1;31mKeyboardInterrupt\u001b[0m: "
     ]
    }
   ],
   "source": [
    "primes_recognizer = create_recognizer_from_enumerator(primes_enumerator)\n",
    "print(primes_recognizer(2))  # prints True\n",
    "print(primes_recognizer(3))  # prints True\n",
    "print(primes_recognizer(5))  # prints True\n",
    "print(primes_recognizer(7))  # prints True\n",
    "print(primes_recognizer(9))  # runs forever"
   ]
  },
  {
   "cell_type": "markdown",
   "metadata": {},
   "source": [
    "# converting recognizer to enumerator"
   ]
  },
  {
   "cell_type": "code",
   "execution_count": 61,
   "metadata": {
    "collapsed": true
   },
   "outputs": [],
   "source": [
    "import sys, itertools, threading\n",
    "\n",
    "# for python 3 include the next line\n",
    "from queue import Queue \n",
    "\n",
    "# for python 2 include the next line\n",
    "# from Queue import Queue \n",
    "\n",
    "def binary_strings():\n",
    "    \"\"\"Enumerates all binary strings in lexicographical order.\"\"\"\n",
    "    for length in itertools.count():\n",
    "        for s in itertools.product([\"0\",\"1\"], repeat=length):\n",
    "            yield \"\".join(s)\n",
    "\n",
    "#WARNING: this will run forever and consume processor and memory and have to be killed\n",
    "def enumerator_from_recognizer(recognizer, inputs=binary_strings()):\n",
    "    \"\"\"Given recognizer, a function that defines a language by returning True if \n",
    "    its input string is in the language and otherwise either returning False \n",
    "    or looping, this function enumerates over strings in the language.\n",
    "\n",
    "    inputs is iterator yielding valid inputs to recognizer. Default is binary \n",
    "    strings in lexicographical order.\"\"\"\n",
    "    # define queue to put outputs (and its associated input) into\n",
    "    outputs_queue = Queue()\n",
    "    def compute_output_and_add_to_queue(input_string):\n",
    "        output = recognizer(input_string)\n",
    "        if output == True:\n",
    "            outputs_queue.put((input_string, output))\n",
    "\n",
    "    # run recognizer on all possible inputs and add outputs to outputs_queue\n",
    "    recognizer_threads = []\n",
    "    def start_all_recognizer_threads():\n",
    "        for input_string in inputs:\n",
    "            thread = threading.Thread(target=compute_output_and_add_to_queue, \n",
    "                                      args=[input_string])\n",
    "            thread.daemon = True\n",
    "            thread.start()\n",
    "            recognizer_threads.append(thread)\n",
    "        # if finite number of inputs, wait until all threads have stopped\n",
    "        # and then add a new item to the queue to indicate all inputs are done\n",
    "        for thread in recognizer_threads:\n",
    "            thread.join()\n",
    "        outputs_queue.put((None,None))\n",
    "\n",
    "    starter_thread = threading.Thread(target=start_all_recognizer_threads)\n",
    "    starter_thread.daemon = True # ensures thread is killed when main thread stops\n",
    "    starter_thread.start()\n",
    "\n",
    "    # search for True output in outputs_queue\n",
    "    while True:\n",
    "        (input_string, output) = outputs_queue.get()\n",
    "        if output == None:\n",
    "            break\n",
    "        yield input_string\n",
    "        \n",
    "\n",
    "#WARNING: this will run forever and consume processor and memory and have to be killed\n",
    "def create_enumerator_from_recognizer(recognizer, inputs=binary_strings()):\n",
    "    \"\"\"Given recognizer, a function that defines a language by returning True \n",
    "    if its input string is in the language and otherwise either returning False \n",
    "    or looping, it returns an iterator that iterates over strings in the language.\n",
    "\n",
    "    inputs is iterator yielding valid inputs to recognizer. Default is binary \n",
    "    strings in lexicographical order.\"\"\"\n",
    "    def enumerator():\n",
    "        return enumerator_from_recognizer(recognizer, inputs)\n",
    "    return enumerator"
   ]
  },
  {
   "cell_type": "code",
   "execution_count": 66,
   "metadata": {},
   "outputs": [
    {
     "name": "stdout",
     "output_type": "stream",
     "text": [
      "0'th prime is 2\n",
      "1'th prime is 3\n",
      "2'th prime is 5\n",
      "3'th prime is 7\n",
      "4'th prime is 11\n",
      "5'th prime is 13\n",
      "6'th prime is 17\n",
      "7'th prime is 19\n",
      "8'th prime is 23\n",
      "9'th prime is 29\n",
      "10'th prime is 31\n",
      "11'th prime is 37\n"
     ]
    }
   ],
   "source": [
    "# for python 2 include the next line\n",
    "# from future_builtins import zip\n",
    "\n",
    "import itertools\n",
    "enumerate_primes_created_from_recognizer = create_enumerator_from_recognizer(is_prime, inputs=itertools.count())\n",
    "\n",
    "#WARNING: this will run forever and consume processor and memory and have to be killed\n",
    "for i,p in zip(itertools.count(), enumerate_primes_created_from_recognizer()):\n",
    "    print(\"{}'th prime is {}\".format(i, p))\n",
    "    if i > 10: \n",
    "        break"
   ]
  },
  {
   "cell_type": "code",
   "execution_count": 65,
   "metadata": {},
   "outputs": [
    {
     "name": "stdout",
     "output_type": "stream",
     "text": [
      "0'th prime is 2\n",
      "1'th prime is 3\n",
      "2'th prime is 5\n",
      "3'th prime is 7\n",
      "4'th prime is 11\n",
      "5'th prime is 13\n",
      "6'th prime is 17\n",
      "7'th prime is 19\n",
      "8'th prime is 23\n",
      "9'th prime is 29\n",
      "10'th prime is 31\n",
      "11'th prime is 37\n",
      "12'th prime is 41\n",
      "13'th prime is 43\n",
      "14'th prime is 47\n",
      "15'th prime is 53\n",
      "16'th prime is 59\n",
      "17'th prime is 61\n",
      "18'th prime is 67\n",
      "19'th prime is 71\n",
      "20'th prime is 73\n",
      "21'th prime is 79\n",
      "22'th prime is 83\n",
      "23'th prime is 89\n",
      "24'th prime is 97\n"
     ]
    }
   ],
   "source": [
    "import itertools\n",
    "enumerate_primes = create_enumerator_from_recognizer(is_prime, inputs=range(100))\n",
    "\n",
    "for i,p in zip(itertools.count(), enumerate_primes()):\n",
    "    print(\"{}'th prime is {}\".format(i, p))"
   ]
  },
  {
   "cell_type": "markdown",
   "metadata": {},
   "source": [
    "# $H_\\mathsf{TM}$ is Turing-recognizable (via a recognizer)"
   ]
  },
  {
   "cell_type": "code",
   "execution_count": 1,
   "metadata": {
    "collapsed": true
   },
   "outputs": [],
   "source": [
    "def halt_recognizer(M_src,w):\n",
    "    \"\"\"M is the source code of a Python function named M,\n",
    "    and w is an input to M.\"\"\"\n",
    "    namespace = {}\n",
    "    exec(M_src, namespace) # this defines the function M so we can execute it\n",
    "    M = namespace['M'] # this is needed to find the variable M set when the code in M_src executes (not needed in Python 2)\n",
    "    M(w)        # this actually executes the function on input w\n",
    "    return True # this is only reached if M(w) halts"
   ]
  },
  {
   "cell_type": "code",
   "execution_count": 2,
   "metadata": {},
   "outputs": [
    {
     "data": {
      "text/plain": [
       "True"
      ]
     },
     "execution_count": 2,
     "metadata": {},
     "output_type": "execute_result"
    }
   ],
   "source": [
    "M_src = \"\"\"\n",
    "def M(w):\n",
    "    '''Indicates if x has more than 5 occurences of the symbol \"a\".'''\n",
    "    count = 0\n",
    "    for c in w:\n",
    "        if c == \"a\":\n",
    "            count += 1\n",
    "    return count > 5\n",
    "\"\"\"\n",
    "w = \"abcabcaaabcaa\"\n",
    "halt_recognizer(M_src, w) # will halt since M always halts"
   ]
  },
  {
   "cell_type": "code",
   "execution_count": 3,
   "metadata": {},
   "outputs": [
    {
     "name": "stdout",
     "output_type": "stream",
     "text": [
      "True\n"
     ]
    }
   ],
   "source": [
    "M_src = \"\"\"\n",
    "def M(w):\n",
    "    '''Has a potential infinite loop.'''\n",
    "    count = 0\n",
    "    while count < 5:\n",
    "        c = w[0]\n",
    "        if c == \"a\":\n",
    "            count += 1\n",
    "    return count > 5\n",
    "\"\"\"\n",
    "w = \"abcabcaaabcaa\"\n",
    "print(halt_recognizer(M_src, w)) # will halt since w[0] == \"a\""
   ]
  },
  {
   "cell_type": "code",
   "execution_count": 4,
   "metadata": {},
   "outputs": [
    {
     "ename": "KeyboardInterrupt",
     "evalue": "",
     "output_type": "error",
     "traceback": [
      "\u001b[1;31m---------------------------------------------------------------------------\u001b[0m",
      "\u001b[1;31mKeyboardInterrupt\u001b[0m                         Traceback (most recent call last)",
      "\u001b[1;32m<ipython-input-4-e3bab76fa494>\u001b[0m in \u001b[0;36m<module>\u001b[1;34m()\u001b[0m\n\u001b[0;32m     11\u001b[0m \u001b[1;31m# WARNING: this runs forever and will have to be killed\u001b[0m\u001b[1;33m\u001b[0m\u001b[1;33m\u001b[0m\u001b[0m\n\u001b[0;32m     12\u001b[0m \u001b[0mw\u001b[0m \u001b[1;33m=\u001b[0m \u001b[1;34m\"bcabcaaabcaa\"\u001b[0m\u001b[1;33m\u001b[0m\u001b[0m\n\u001b[1;32m---> 13\u001b[1;33m \u001b[0mprint\u001b[0m\u001b[1;33m(\u001b[0m\u001b[0mhalt_recognizer\u001b[0m\u001b[1;33m(\u001b[0m\u001b[0mM_src\u001b[0m\u001b[1;33m,\u001b[0m \u001b[0mw\u001b[0m\u001b[1;33m)\u001b[0m\u001b[1;33m)\u001b[0m \u001b[1;31m# won't halt since w[0] != \"a\"\u001b[0m\u001b[1;33m\u001b[0m\u001b[0m\n\u001b[0m",
      "\u001b[1;32m<ipython-input-1-37174657e5d3>\u001b[0m in \u001b[0;36mhalt_recognizer\u001b[1;34m(M_src, w)\u001b[0m\n\u001b[0;32m      5\u001b[0m     \u001b[0mexec\u001b[0m\u001b[1;33m(\u001b[0m\u001b[0mM_src\u001b[0m\u001b[1;33m,\u001b[0m \u001b[0mnamespace\u001b[0m\u001b[1;33m)\u001b[0m \u001b[1;31m# this defines the function M so we can execute it\u001b[0m\u001b[1;33m\u001b[0m\u001b[0m\n\u001b[0;32m      6\u001b[0m     \u001b[0mM\u001b[0m \u001b[1;33m=\u001b[0m \u001b[0mnamespace\u001b[0m\u001b[1;33m[\u001b[0m\u001b[1;34m'M'\u001b[0m\u001b[1;33m]\u001b[0m \u001b[1;31m# this is needed to find the variable M set when the code in M_src executes (not needed in Python 2)\u001b[0m\u001b[1;33m\u001b[0m\u001b[0m\n\u001b[1;32m----> 7\u001b[1;33m     \u001b[0mM\u001b[0m\u001b[1;33m(\u001b[0m\u001b[0mw\u001b[0m\u001b[1;33m)\u001b[0m        \u001b[1;31m# this actually executes the function on input w\u001b[0m\u001b[1;33m\u001b[0m\u001b[0m\n\u001b[0m\u001b[0;32m      8\u001b[0m     \u001b[1;32mreturn\u001b[0m \u001b[1;32mTrue\u001b[0m \u001b[1;31m# this is only reached if M(w) halts\u001b[0m\u001b[1;33m\u001b[0m\u001b[0m\n",
      "\u001b[1;32m<string>\u001b[0m in \u001b[0;36mM\u001b[1;34m(w)\u001b[0m\n",
      "\u001b[1;31mKeyboardInterrupt\u001b[0m: "
     ]
    }
   ],
   "source": [
    "M_src = \"\"\"\n",
    "def M(w):\n",
    "    '''Has a potential infinite loop.'''\n",
    "    count = 0\n",
    "    while count < 5:\n",
    "        c = w[0]\n",
    "        if c == \"a\":\n",
    "            count += 1\n",
    "    return count > 5\n",
    "\"\"\"\n",
    "# WARNING: this runs forever and will have to be killed\n",
    "w = \"bcabcaaabcaa\"\n",
    "print(halt_recognizer(M_src, w)) # won't halt since w[0] != \"a\""
   ]
  },
  {
   "cell_type": "markdown",
   "metadata": {},
   "source": [
    "# converting between Python programs and source code"
   ]
  },
  {
   "cell_type": "code",
   "execution_count": 5,
   "metadata": {},
   "outputs": [
    {
     "name": "stdout",
     "output_type": "stream",
     "text": [
      "M(\"0101\") = True\n",
      "source code of M:\n",
      "def M(w):\n",
      "    \"\"\"Indicates if |w| > 3\"\"\"\n",
      "    return len(w) > 3\n",
      "\n",
      "M(\"0101\") = False\n",
      "source code of M:\n",
      "def M(w):\n",
      "    \"\"\"Indicates if |w| > 3\"\"\"\n",
      "    return len(w) > 5\n",
      "\n"
     ]
    }
   ],
   "source": [
    "def M(w):\n",
    "    \"\"\"Indicates if |w| > 3\"\"\"\n",
    "    return len(w) > 3\n",
    "\n",
    "print('M(\"0101\") = {}'.format(M(\"0101\")))\n",
    "\n",
    "# use inspect.getsource to convert function to source code\n",
    "import inspect\n",
    "M_src = inspect.getsource(M)\n",
    "print(\"source code of M:\\n{}\".format(M_src))\n",
    "\n",
    "M_src = M_src.replace(\"len(w) > 3\", \"len(w) > 5\")\n",
    "\n",
    "# use exec to convert source code to function\n",
    "namespace = {}\n",
    "exec(M_src, namespace)\n",
    "M = namespace['M']\n",
    "\n",
    "print('M(\"0101\") = {}'.format(M(\"0101\")))\n",
    "print(\"source code of M:\\n{}\".format(M_src))"
   ]
  },
  {
   "cell_type": "markdown",
   "metadata": {},
   "source": [
    "# halting problem recognizer as Python function object (instead of string with source code)"
   ]
  },
  {
   "cell_type": "code",
   "execution_count": 6,
   "metadata": {
    "collapsed": true
   },
   "outputs": [],
   "source": [
    "def halt_recognizer(M,w):\n",
    "    \"\"\"M is a Python function, and w is an input to M.\"\"\"\n",
    "    M(w)        # this executes the function M on input w\n",
    "    return True # this is only reached if M(w) halts"
   ]
  },
  {
   "cell_type": "code",
   "execution_count": 7,
   "metadata": {},
   "outputs": [
    {
     "data": {
      "text/plain": [
       "True"
      ]
     },
     "execution_count": 7,
     "metadata": {},
     "output_type": "execute_result"
    }
   ],
   "source": [
    "def M(w):\n",
    "    \"\"\"Indicates if x has > 5 occurences of the symbol \"a\".\"\"\"\n",
    "    count = 0\n",
    "    for c in w:\n",
    "        if c == \"a\":\n",
    "            count += 1\n",
    "    return count > 5\n",
    "\n",
    "w = \"abcabcaaabcaa\"\n",
    "halt_recognizer(M, w) # will halt since M always halts"
   ]
  },
  {
   "cell_type": "code",
   "execution_count": 9,
   "metadata": {},
   "outputs": [
    {
     "name": "stdout",
     "output_type": "stream",
     "text": [
      "True\n"
     ]
    }
   ],
   "source": [
    "def M(w):\n",
    "    \"\"\"Has a potential infinite loop.\"\"\"\n",
    "    count = 0\n",
    "    while count < 5:\n",
    "        c = w[0]\n",
    "        if c == \"a\":\n",
    "            count += 1\n",
    "    return count > 5\n",
    "\n",
    "w = \"abcabcaaabcaa\"\n",
    "print(halt_recognizer(M, w)) # will halt since w[0] == \"a\""
   ]
  },
  {
   "cell_type": "code",
   "execution_count": 77,
   "metadata": {},
   "outputs": [
    {
     "ename": "KeyboardInterrupt",
     "evalue": "",
     "output_type": "error",
     "traceback": [
      "\u001b[1;31m---------------------------------------------------------------------------\u001b[0m",
      "\u001b[1;31mKeyboardInterrupt\u001b[0m                         Traceback (most recent call last)",
      "\u001b[1;32m<ipython-input-77-d8e653c80349>\u001b[0m in \u001b[0;36m<module>\u001b[1;34m()\u001b[0m\n\u001b[0;32m     11\u001b[0m \u001b[1;31m# After running this, you'll need to kill the interpreter\u001b[0m\u001b[1;33m\u001b[0m\u001b[1;33m\u001b[0m\u001b[0m\n\u001b[0;32m     12\u001b[0m \u001b[0mw\u001b[0m \u001b[1;33m=\u001b[0m \u001b[1;34m\"bcabcaaabcaa\"\u001b[0m\u001b[1;33m\u001b[0m\u001b[0m\n\u001b[1;32m---> 13\u001b[1;33m \u001b[1;32mprint\u001b[0m \u001b[0mhalt_recognizer\u001b[0m\u001b[1;33m(\u001b[0m\u001b[0mM\u001b[0m\u001b[1;33m,\u001b[0m \u001b[0mw\u001b[0m\u001b[1;33m)\u001b[0m \u001b[1;31m# won't halt since w[0] != \"a\"\u001b[0m\u001b[1;33m\u001b[0m\u001b[0m\n\u001b[0m",
      "\u001b[1;32m<ipython-input-74-021811d3cc73>\u001b[0m in \u001b[0;36mhalt_recognizer\u001b[1;34m(M, w)\u001b[0m\n\u001b[0;32m      1\u001b[0m \u001b[1;32mdef\u001b[0m \u001b[0mhalt_recognizer\u001b[0m\u001b[1;33m(\u001b[0m\u001b[0mM\u001b[0m\u001b[1;33m,\u001b[0m\u001b[0mw\u001b[0m\u001b[1;33m)\u001b[0m\u001b[1;33m:\u001b[0m\u001b[1;33m\u001b[0m\u001b[0m\n\u001b[0;32m      2\u001b[0m     \u001b[1;34m\"\"\"M_src is a Python function, and w is an input to M.\"\"\"\u001b[0m\u001b[1;33m\u001b[0m\u001b[0m\n\u001b[1;32m----> 3\u001b[1;33m     \u001b[0mM\u001b[0m\u001b[1;33m(\u001b[0m\u001b[0mw\u001b[0m\u001b[1;33m)\u001b[0m        \u001b[1;31m# this executes the function M on input w\u001b[0m\u001b[1;33m\u001b[0m\u001b[0m\n\u001b[0m\u001b[0;32m      4\u001b[0m     \u001b[1;32mreturn\u001b[0m \u001b[0mTrue\u001b[0m \u001b[1;31m# this is only reached if M(w) halts\u001b[0m\u001b[1;33m\u001b[0m\u001b[0m\n",
      "\u001b[1;32m<ipython-input-77-d8e653c80349>\u001b[0m in \u001b[0;36mM\u001b[1;34m(w)\u001b[0m\n\u001b[0;32m      3\u001b[0m     \u001b[0mcount\u001b[0m \u001b[1;33m=\u001b[0m \u001b[1;36m0\u001b[0m\u001b[1;33m\u001b[0m\u001b[0m\n\u001b[0;32m      4\u001b[0m     \u001b[1;32mwhile\u001b[0m \u001b[0mcount\u001b[0m \u001b[1;33m<\u001b[0m \u001b[1;36m5\u001b[0m\u001b[1;33m:\u001b[0m\u001b[1;33m\u001b[0m\u001b[0m\n\u001b[1;32m----> 5\u001b[1;33m         \u001b[0mc\u001b[0m \u001b[1;33m=\u001b[0m \u001b[0mw\u001b[0m\u001b[1;33m[\u001b[0m\u001b[1;36m0\u001b[0m\u001b[1;33m]\u001b[0m\u001b[1;33m\u001b[0m\u001b[0m\n\u001b[0m\u001b[0;32m      6\u001b[0m         \u001b[1;32mif\u001b[0m \u001b[0mc\u001b[0m \u001b[1;33m==\u001b[0m \u001b[1;34m\"a\"\u001b[0m\u001b[1;33m:\u001b[0m\u001b[1;33m\u001b[0m\u001b[0m\n\u001b[0;32m      7\u001b[0m             \u001b[0mcount\u001b[0m \u001b[1;33m+=\u001b[0m \u001b[1;36m1\u001b[0m\u001b[1;33m\u001b[0m\u001b[0m\n",
      "\u001b[1;31mKeyboardInterrupt\u001b[0m: "
     ]
    }
   ],
   "source": [
    "def M(w):\n",
    "    \"\"\"Has a potential infinite loop.\"\"\"\n",
    "    count = 0\n",
    "    while count < 5:\n",
    "        c = w[0]\n",
    "        if c == \"a\":\n",
    "            count += 1\n",
    "    return count > 5\n",
    "\n",
    "# WARNING: will not halt!\n",
    "# After running this, you'll need to kill the interpreter\n",
    "w = \"bcabcaaabcaa\"\n",
    "print(halt_recognizer(M, w)) # won't halt since w[0] != \"a\""
   ]
  },
  {
   "cell_type": "markdown",
   "metadata": {},
   "source": [
    "# converting recognizers for $A$ and $\\overline{A}$ to decider for $A$"
   ]
  },
  {
   "cell_type": "code",
   "execution_count": 85,
   "metadata": {
    "collapsed": true
   },
   "outputs": [],
   "source": [
    "# for python 3 include the next line\n",
    "from queue import Queue \n",
    "\n",
    "# for python 2 include the next line\n",
    "# from Queue import Queue \n",
    "\n",
    "import threading\n",
    "\n",
    "def decider_from_recognizers(recognizer, comp_recognizer, w):\n",
    "    \"\"\"recognizer is function recognizing some language A, and\n",
    "    comp_recognizer is function recognizing complement of A.\"\"\"\n",
    "    outputs_queue = Queue()\n",
    "    \n",
    "    def recognizer_add_to_queue():\n",
    "        output = recognizer(w)\n",
    "        if output == True:\n",
    "            outputs_queue.put(\"w in A\")\n",
    "    \n",
    "    def comp_recognizer_add_to_queue():\n",
    "        output = comp_recognizer(w)\n",
    "        if output == True:\n",
    "            outputs_queue.put(\"w not in A\")\n",
    "    \n",
    "    t1 = threading.Thread(target = recognizer_add_to_queue)\n",
    "    t2 = threading.Thread(target = comp_recognizer_add_to_queue)\n",
    "    t1.daemon = t2.daemon = True\n",
    "    t1.start()\n",
    "    t2.start()\n",
    "    \n",
    "    # exactly one of the threads will put a message in the queue\n",
    "    message = outputs_queue.get()\n",
    "    if message == \"w in A\":\n",
    "        return True\n",
    "    elif message == \"w not in A\":\n",
    "        return False\n",
    "    else:\n",
    "        raise AssertionError(\"should not be reachable\")\n",
    "        \n",
    "def create_decider_from_recognizers(recognizer, comp_recognizer):\n",
    "    def decider(w):\n",
    "        return decider_from_recognizers(recognizer, comp_recognizer, w)\n",
    "    return decider"
   ]
  },
  {
   "cell_type": "code",
   "execution_count": null,
   "metadata": {
    "collapsed": true
   },
   "outputs": [],
   "source": [
    "def loop():\n",
    "    \"\"\"Loop forever.\"\"\"\n",
    "    while True:\n",
    "        pass\n",
    "\n",
    "def prime_recognizer(n):\n",
    "    \"\"\"Check if n is prime.\"\"\"\n",
    "    if n < 2: # 0 and 1 are not primes\n",
    "        loop()\n",
    "    for x in range(2, int(n**0.5)+1):\n",
    "        if n % x == 0:\n",
    "            loop()\n",
    "    return True\n",
    "\n",
    "def composite_recognizer(n):\n",
    "    if n < 2: # 0 and 1 are not primes\n",
    "        return True\n",
    "    for x in xrange(2, int(n**0.5)+1):\n",
    "        if n % x == 0:\n",
    "            return True\n",
    "    loop()\n",
    "\n",
    "#WARNING: will continue to consume resources after it halts\n",
    "# because it starts up threads that run forever\n",
    "prime_decider_from_recognizers = create_decider_from_recognizers(prime_recognizer, composite_recognizer)\n",
    "for n in range(2,20):\n",
    "    print(\"{:2} is prime?  {}\".format(n, prime_decider_from_recognizers(n)))"
   ]
  },
  {
   "cell_type": "markdown",
   "metadata": {},
   "source": [
    "# converting enumerators for $A$ and $\\overline{A}$ to decider for $A$\n"
   ]
  },
  {
   "cell_type": "code",
   "execution_count": 83,
   "metadata": {
    "collapsed": true
   },
   "outputs": [],
   "source": [
    "# for python 2 include next line\n",
    "# from future_builtins import zip\n",
    "\n",
    "def decider_from_enumerators(enumerator, comp_enumerator, w):\n",
    "    \"\"\"enumerator is Python generator enumerating language A, and \n",
    "    comp_enumerator is generator enumerating complement of A.\"\"\"\n",
    "    for x,y in zip(enumerator(), comp_enumerator()):\n",
    "        if x == w:\n",
    "            return True\n",
    "        if y == w:\n",
    "            return False\n",
    "\n",
    "def create_decider_from_enumerators(enumerator, comp_enumerator):\n",
    "    def decider(w):\n",
    "        return decider_from_enumerators(enumerator, comp_enumerator, w)\n",
    "    return decider"
   ]
  },
  {
   "cell_type": "code",
   "execution_count": 84,
   "metadata": {},
   "outputs": [
    {
     "name": "stdout",
     "output_type": "stream",
     "text": [
      " 2 is prime?  True\n",
      " 3 is prime?  True\n",
      " 4 is prime?  False\n",
      " 5 is prime?  True\n",
      " 6 is prime?  False\n",
      " 7 is prime?  True\n",
      " 8 is prime?  False\n",
      " 9 is prime?  False\n",
      "10 is prime?  False\n",
      "11 is prime?  True\n",
      "12 is prime?  False\n",
      "13 is prime?  True\n",
      "14 is prime?  False\n",
      "15 is prime?  False\n",
      "16 is prime?  False\n",
      "17 is prime?  True\n",
      "18 is prime?  False\n",
      "19 is prime?  True\n"
     ]
    }
   ],
   "source": [
    "import itertools\n",
    "def primes_enumerator():\n",
    "    \"\"\"Iterate over all prime numbers.\"\"\"\n",
    "    for n in itertools.count():\n",
    "        if is_prime(n):\n",
    "            yield n\n",
    "\n",
    "def composites_enumerator():\n",
    "    \"\"\"Iterate over all composite numbers.\"\"\"\n",
    "    for n in itertools.count():\n",
    "        if not is_prime(n):\n",
    "            yield n\n",
    "\n",
    "prime_decider = create_decider_from_enumerators(primes_enumerator, composites_enumerator)\n",
    "for n in range(2,20):\n",
    "    print(\"{:2} is prime?  {}\".format(n, prime_decider(n)))"
   ]
  },
  {
   "cell_type": "markdown",
   "metadata": {},
   "source": [
    "# reduction of $H_\\mathsf{TM}$ to $A_\\mathsf{TM}$"
   ]
  },
  {
   "cell_type": "code",
   "execution_count": 79,
   "metadata": {
    "collapsed": true
   },
   "outputs": [],
   "source": [
    "def A(M,w):\n",
    "    \"\"\"Function that supposedly decides whether M(w) accepts.\"\"\"\n",
    "    raise NotImplementedError()\n",
    "\n",
    "def opposite(M):\n",
    "    \"\"\"Given M, a Python function returning a Boolean, returns \n",
    "    Python function M_O that acts like M, but returns the \n",
    "    opposite value (but also loops whenever M loops).\"\"\"\n",
    "    def M_O(w):\n",
    "        return not M(w)\n",
    "    return M_O\n",
    "\n",
    "def H(M,w):\n",
    "    \"\"\"Decider for the halting problem that works assuming A works,\n",
    "    giving a contradiction and proving A cannot be implemented.\"\"\"\n",
    "    M_O = opposite(M)\n",
    "    return A(M,w) or A(M_O,w)"
   ]
  },
  {
   "cell_type": "code",
   "execution_count": 80,
   "metadata": {},
   "outputs": [
    {
     "name": "stdout",
     "output_type": "stream",
     "text": [
      "M('abababab')   = False\n",
      "M_O('abababab') = True\n"
     ]
    }
   ],
   "source": [
    "def M(x):\n",
    "    count = 0\n",
    "    for c in x:\n",
    "        if c == \"a\":\n",
    "            count += 1\n",
    "    return count > 5\n",
    "\n",
    "M_O = opposite(M)\n",
    "\n",
    "print(\"M('abababab')   = {}\".format(M('abababab')))\n",
    "print(\"M_O('abababab') = {}\".format(M_O('abababab')))"
   ]
  },
  {
   "cell_type": "markdown",
   "metadata": {},
   "source": [
    "# reduction of $H_\\mathsf{TM}$ to $H_\\mathsf{TM}^\\varepsilon$"
   ]
  },
  {
   "cell_type": "code",
   "execution_count": 77,
   "metadata": {
    "collapsed": true
   },
   "outputs": [],
   "source": [
    "def H_e(M):\n",
    "    \"\"\"Function that supposedly decides whether M(\"\") halts.\"\"\"\n",
    "    raise NotImplementedError()\n",
    "\n",
    "def H(M,w):\n",
    "    \"\"\"Decider for HALT_TM that works assuming H_e works,\n",
    "    giving a contradiction and proving H_e cannot be implemented.\"\"\"\n",
    "    def N_Mw(x):\n",
    "        \"\"\"Halts on every string if M halts on w, and loops on \n",
    "        every string if M loops on w.\"\"\"\n",
    "        M(w)\n",
    "    return H_e(N_Mw)"
   ]
  },
  {
   "cell_type": "markdown",
   "metadata": {},
   "source": [
    "# reduction of $H_\\mathsf{TM}$ to $E_\\mathsf{TM}$"
   ]
  },
  {
   "cell_type": "code",
   "execution_count": 76,
   "metadata": {
    "collapsed": true
   },
   "outputs": [],
   "source": [
    "def E(M,w):\n",
    "    \"\"\"Function that supposedly decides whether L(M) is empty.\"\"\"\n",
    "    raise NotImplementedError()\n",
    "\n",
    "def H(M,w):\n",
    "    \"\"\"Decider for HALT_TM that works assuming E works,\n",
    "    giving a contradiction and proving E cannot be implemented.\"\"\"\n",
    "    def N_Mw(x):\n",
    "        \"\"\"Accepts every string if M halts on w, and loops on \n",
    "        every string if M loops on w.\"\"\"\n",
    "        M(w)\n",
    "        return True\n",
    "    return not E(N_Mw)"
   ]
  },
  {
   "cell_type": "markdown",
   "metadata": {},
   "source": [
    "# $H_\\mathsf{TM}$ is undecidable"
   ]
  },
  {
   "cell_type": "code",
   "execution_count": 82,
   "metadata": {
    "collapsed": true
   },
   "outputs": [],
   "source": [
    "def H(M,w):\n",
    "    \"\"\"Function that supposedly decides whether M(w) halts.\"\"\"\n",
    "    raise NotImplementedError()  \n",
    "\n",
    "def D(M):\n",
    "    \"\"\" \"Diagonalizing\" function; given a function M, if M halts \n",
    "    when given itself as input, run forever; otherwise halt.\"\"\"\n",
    "    if H(M,M):\n",
    "        while True:  # loop forever\n",
    "            pass\n",
    "    else:\n",
    "        return True  # halt\n",
    "\n",
    "D(D) # result not well-defined! H cannot be implemented"
   ]
  }
 ],
 "metadata": {
  "anaconda-cloud": {},
  "kernelspec": {
   "display_name": "Python 3",
   "language": "python",
   "name": "python3"
  },
  "language_info": {
   "codemirror_mode": {
    "name": "ipython",
    "version": 3
   },
   "file_extension": ".py",
   "mimetype": "text/x-python",
   "name": "python",
   "nbconvert_exporter": "python",
   "pygments_lexer": "ipython3",
   "version": "3.7.1"
  }
 },
 "nbformat": 4,
 "nbformat_minor": 1
}
